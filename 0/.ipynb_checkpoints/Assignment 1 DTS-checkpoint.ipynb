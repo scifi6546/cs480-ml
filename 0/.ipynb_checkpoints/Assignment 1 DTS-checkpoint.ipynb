{
 "cells": [
  {
   "cell_type": "code",
   "execution_count": 1,
   "metadata": {},
   "outputs": [],
   "source": [
    "import numpy as np\n",
    "import csv\n",
    "%matplotlib inline\n",
    "\n",
    "import matplotlib\n",
    "import numpy as np\n",
    "import matplotlib.pyplot as plt\n",
    "import math"
   ]
  },
  {
   "cell_type": "markdown",
   "metadata": {},
   "source": [
    "# Part 1\n"
   ]
  },
  {
   "cell_type": "markdown",
   "metadata": {},
   "source": [
    "|Size |Orbit|habitable | Count|\n",
    "|-----|-----|----------|------|\n",
    "|big|near|yes|20|\n",
    "|big|far|yes|170|\n",
    "|small|near|yes|139|\n",
    "|small|far|yes|45|\n",
    "|big|near|no|130|\n",
    "|big|far|no|30|\n",
    "|small|near|no|11|\n",
    "|small|far|no|255|"
   ]
  },
  {
   "cell_type": "code",
   "execution_count": 2,
   "metadata": {},
   "outputs": [
    {
     "name": "stdout",
     "output_type": "stream",
     "text": [
      "size gain: 0.002256361645689875\n",
      "orbit gain: 0.011135119828075801\n",
      "\n",
      "Orbit gain is larger therefore subsetting by orbit\n",
      "\n",
      "\n",
      "Subsetted by far orbit\n",
      "[[  1   1   1 170]\n",
      " [  0   1   1  45]\n",
      " [  1   1   0  30]\n",
      " [  0   1   0 255]]\n",
      "\n",
      "Subsetted by near orbit\n",
      "[[  1   0   1  20]\n",
      " [  0   0   1 139]\n",
      " [  1   0   0 130]\n",
      " [  0   0   0  11]]\n",
      "\n",
      " Working on Far Orbit Branch\n",
      "\n",
      "Far Orbit Big Planet\n",
      "[[  1   1   1 170]\n",
      " [  1   1   0  30]]\n",
      "\n",
      "Far Orbit Small Planet\n",
      "[[  0   1   1  45]\n",
      " [  0   1   0 255]]\n",
      "\n",
      "\n",
      " Working on Near Orbit Branch\n",
      "\n",
      "Near Orbit Big Planet\n",
      "[[  1   0   1  20]\n",
      " [  1   0   0 130]]\n",
      "\n",
      "Near Orbit Small Planet\n",
      "[[  0   0   1 139]\n",
      " [  0   0   0  11]]\n"
     ]
    }
   ],
   "source": [
    "tree_data = np.array([[1,0,1,20],\n",
    "                      [1,1,1,170],\n",
    "                      [0,0,1,139],\n",
    "                      [0,1,1,45],\n",
    "                      [1,0,0,130],\n",
    "                      [1,1,0,30],\n",
    "                      [0,0,0,11],\n",
    "                      [0,1,0,255]\n",
    "                     ])\n",
    "def calculate_entropy(data):\n",
    "    pos_instances = 0\n",
    "    neg_instances = 0\n",
    "    for row in data:\n",
    "        #is habitible\n",
    "        if(row[-2]==1):\n",
    "            pos_instances+=row[-1]\n",
    "        else:\n",
    "            neg_instances+=row[-1]\n",
    "    total = pos_instances+neg_instances\n",
    "    p_p = float(pos_instances)/float(total)\n",
    "    p_n = float(neg_instances)/float(total)\n",
    "    return -1.0*p_p*math.log(p_p,2)-1.0*p_n*math.log(p_n,2)\n",
    "def calculate_gain(row_num,data):\n",
    "    subset_array = []\n",
    "    for row in data:\n",
    "        if(row[row_num]==1):\n",
    "            subset_array.append(row)\n",
    "    subset_array = np.array(subset_array)\n",
    "    #print(subset_array)\n",
    "    return calculate_entropy(data)-(subset_array.shape[1]/data.shape[1])*\\\n",
    "        calculate_entropy(subset_array)\n",
    "#def calc_gain(col_num_data):\n",
    "#    \n",
    "#print(calculate_entropy(tree_data))\n",
    "\n",
    "#print(calculate_entropy(tree_data))\n",
    "#print(calculate_entropy(tree_data))\n",
    "size_gain = calculate_gain(0,tree_data)\n",
    "orbit_gain = calculate_gain(1,tree_data)\n",
    "\n",
    "print(\"size gain: \"+str(size_gain))\n",
    "print(\"orbit gain: \"+str(orbit_gain))\n",
    "print(\"\\nOrbit gain is larger therefore subsetting by orbit\\n\\n\")\n",
    "orbit_far = []\n",
    "orbit_near = []\n",
    "for row in tree_data:\n",
    "    if(row[1]==1):\n",
    "        orbit_far.append(row)\n",
    "    else:\n",
    "        orbit_near.append(row)\n",
    "orbit_far=np.array(orbit_far)\n",
    "orbit_near=np.array(orbit_near)\n",
    "print(\"Subsetted by far orbit\")\n",
    "print(orbit_far)\n",
    "print(\"\\nSubsetted by near orbit\")\n",
    "print(orbit_near)\n",
    "\n",
    "print(\"\\n Working on Far Orbit Branch\")\n",
    "orbit_far_small=[]\n",
    "orbit_far_big=[]\n",
    "for row in orbit_far:\n",
    "    if(row[0]==1):\n",
    "        orbit_far_big.append(row)\n",
    "    else:\n",
    "        orbit_far_small.append(row)\n",
    "orbit_far_big=np.array(orbit_far_big)\n",
    "orbit_far_small=np.array(orbit_far_small)\n",
    "print(\"\\nFar Orbit Big Planet\")\n",
    "print(orbit_far_big)\n",
    "\n",
    "print(\"\\nFar Orbit Small Planet\")\n",
    "print(orbit_far_small)\n",
    "\n",
    "\n",
    "print(\"\\n\\n Working on Near Orbit Branch\")\n",
    "orbit_near_small=[]\n",
    "orbit_near_big=[]\n",
    "for row in orbit_near:\n",
    "    if(row[0]==1):\n",
    "        orbit_near_big.append(row)\n",
    "    else:\n",
    "        orbit_near_small.append(row)\n",
    "orbit_near_big=np.array(orbit_near_big)\n",
    "orbit_near_small=np.array(orbit_near_small)\n",
    "print(\"\\nNear Orbit Big Planet\")\n",
    "print(orbit_near_big)\n",
    "\n",
    "print(\"\\nNear Orbit Small Planet\")\n",
    "print(orbit_near_small)\n",
    "\n",
    "\n"
   ]
  },
  {
   "cell_type": "markdown",
   "metadata": {},
   "source": [
    "# Final Tree\n",
    "``` \n",
    "                            Orbital Radius\n",
    "                       /                    \\\n",
    "                      /                      \\\n",
    "               Far Orbit                     Near Orbit\n",
    "               /                               \\\n",
    "              /                                 \\\n",
    "             /                                   \\\n",
    "            /                                     \\\n",
    "           /                                       \\\n",
    "      Size Of Planet                         Size of Planet\n",
    "      /           \\                         /            \\\n",
    "     /             \\                       /              \\\n",
    "    /               \\                     /                \\\n",
    " Big Planet    Small Planet          Big Planet       Small Planet\n",
    " Habitible      Not Habitible        Not Habitible     Habitible\n",
    "```"
   ]
  },
  {
   "cell_type": "markdown",
   "metadata": {},
   "source": [
    "# Part 2\n",
    "the algorythm used normalizes data because the standard deviation is often much smaller then 1. We are using a gausian probability density function to calculate the probabilities. When the standard deviation is greater then 1 the gausian probability density function has a peak higher then 1. I normalize my data between 0 and 1 so that the probabilities fit inside of a reasonable range.\n",
    "## Describing Data\n",
    "#### Printing Shape of Imported Data"
   ]
  },
  {
   "cell_type": "code",
   "execution_count": 3,
   "metadata": {},
   "outputs": [
    {
     "name": "stdout",
     "output_type": "stream",
     "text": [
      "['fixed acidity', 'volatile acidity', 'citric acid', 'residual sugar', 'chlorides', 'free sulfur dioxide', 'total sulfur dioxide', 'density', 'pH', 'sulphates', 'alcohol', 'quality']\n",
      "[[ 5.6   0.21  0.24 ...  0.31 11.5   7.  ]\n",
      " [ 6.2   0.3   0.31 ...  0.39 12.9   7.  ]\n",
      " [ 6.4   0.27  0.32 ...  0.48  9.4   5.  ]\n",
      " ...\n",
      " [ 8.9   0.32  0.49 ...  0.34  9.4   5.  ]\n",
      " [ 6.4   0.25  0.32 ...  0.58 10.8   7.  ]\n",
      " [ 7.7   0.38  0.23 ...  0.41 13.6   6.  ]]\n"
     ]
    }
   ],
   "source": [
    "\n",
    "labels=[]\n",
    "with open(\"wine_train_set.csv\") as csv_file:\n",
    "    train_data = csv.reader(csv_file, delimiter=',', quotechar='|')\n",
    "    labels = train_data.__next__()\n",
    "print(labels)\n",
    "my_data = np.loadtxt('wine_train_set.csv', delimiter=',',skiprows=1)\n",
    "MAX_QUALITY=10\n",
    "MIN_QUALITY=0\n",
    "NUM_ATTRIBUTES = len(labels)-1\n",
    "print(my_data)\n",
    "def normal_fn(data):\n",
    "    return math.atan(data)/math.pi+0.5"
   ]
  },
  {
   "cell_type": "markdown",
   "metadata": {},
   "source": [
    "### Showing Histogram of Wine Quality"
   ]
  },
  {
   "cell_type": "code",
   "execution_count": 4,
   "metadata": {},
   "outputs": [
    {
     "data": {
      "image/png": "[encoded data removed]",
      "text/plain": [
       "<Figure size 432x288 with 1 Axes>"
      ]
     },
     "metadata": {
      "needs_background": "light"
     },
     "output_type": "display_data"
    }
   ],
   "source": [
    "plt.title(\"Quality of Wine\")\n",
    "plt.hist(my_data[:,-1])\n",
    "plt.show()"
   ]
  },
  {
   "cell_type": "code",
   "execution_count": 5,
   "metadata": {},
   "outputs": [
    {
     "data": {
      "image/png": "[encoded data removed]",
      "text/plain": [
       "<Figure size 432x288 with 1 Axes>"
      ]
     },
     "metadata": {
      "needs_background": "light"
     },
     "output_type": "display_data"
    }
   ],
   "source": [
    "plt.title(\"Quality of Wine vs Fixed Acidity\")\n",
    "plt.xlabel(\"Quality\")\n",
    "plt.ylabel(\"Fixed Acidity\")\n",
    "plt.scatter(my_data[:,-1],my_data[:,0])\n",
    "plt.show()"
   ]
  },
  {
   "cell_type": "code",
   "execution_count": 6,
   "metadata": {},
   "outputs": [],
   "source": [
    "Y_Number=[]\n",
    "for i in range(0,11):\n",
    "    Y_Number.append(0)"
   ]
  },
  {
   "cell_type": "code",
   "execution_count": 7,
   "metadata": {},
   "outputs": [
    {
     "name": "stdout",
     "output_type": "stream",
     "text": [
      "[0, 0, 0, 16, 130, 1166, 1758, 704, 140, 4, 0]\n"
     ]
    }
   ],
   "source": [
    "for row in my_data:\n",
    "    quality = row[11]\n",
    "    Y_Number[(int(quality))]+=1\n",
    "print(Y_Number)"
   ]
  },
  {
   "cell_type": "code",
   "execution_count": 8,
   "metadata": {},
   "outputs": [],
   "source": [
    "\"\"\"Takes array type and returns variance\"\"\"\n",
    "def calculate_variance(data):\n",
    "    mean = calculate_mean(data)\n",
    "    sum = 0.0\n",
    "    for i in data:\n",
    "        sum+=(float(i)-float(mean))**2.0\n",
    "    return sum/float(len(data))\n",
    "\"\"\"Takes array type and returns mean\"\"\"\n",
    "def calculate_mean(data):\n",
    "    sum = 0.0\n",
    "    for i in data:\n",
    "        sum+=float(i)\n",
    "    return sum/float(len(data))"
   ]
  },
  {
   "cell_type": "markdown",
   "metadata": {},
   "source": [
    "# Calculating Y Priors"
   ]
  },
  {
   "cell_type": "code",
   "execution_count": 9,
   "metadata": {},
   "outputs": [
    {
     "data": {
      "image/png": "[encoded data removed]",
      "text/plain": [
       "<Figure size 432x288 with 1 Axes>"
      ]
     },
     "metadata": {
      "needs_background": "light"
     },
     "output_type": "display_data"
    },
    {
     "name": "stdout",
     "output_type": "stream",
     "text": [
      "[150. 106. 174. ... 131. 114.  95.]\n",
      "variance fixed acidity\t0.7281495376048622\n",
      "variance volatile acidity\t0.009939864009020012\n",
      "variance citric acid\t0.014644360774123536\n",
      "variance residual sugar\t26.041181904514787\n",
      "variance chlorides\t0.0004568517925278385\n",
      "variance free sulfur dioxide\t292.9602829970729\n",
      "variance total sulfur dioxide\t1801.6978366622886\n",
      "variance density\t9.046107783654085e-06\n",
      "variance pH\t0.02335569577695505\n",
      "variance sulphates\t0.012964421013627847\n",
      "\n",
      "\n",
      "mean fixed acidity\t6.8603241449719246\n",
      "mean volatile acidity\t0.277491066870853\n",
      "mean citric acid\t0.33410413476263084\n",
      "mean residual sugar\t6.423175089331289\n",
      "mean chlorides\t0.04573813169984722\n",
      "mean free sulfur dioxide\t35.4552067381317\n",
      "mean total sulfur dioxide\t138.3843797856049\n",
      "mean density\t0.9940532478305207\n",
      "mean pH\t3.1888386932108124\n",
      "mean sulphates\t0.48909647779479687\n"
     ]
    }
   ],
   "source": [
    "#printing variances\n",
    "plt.hist(my_data[:,6])\n",
    "plt.show()\n",
    "print(my_data[:,6])\n",
    "for i in range(0,10):\n",
    "    print(\"variance \"+labels[i]+\"\\t\"+str(calculate_variance(my_data[:,i])))\n",
    "print(\"\\n\")\n",
    "#printing variances\n",
    "for i in range(0,10):\n",
    "    print(\"mean \"+labels[i]+\"\\t\"+str(calculate_mean(my_data[:,i])))"
   ]
  },
  {
   "cell_type": "code",
   "execution_count": 10,
   "metadata": {},
   "outputs": [
    {
     "name": "stdout",
     "output_type": "stream",
     "text": [
      "## B: \n",
      "Y prior fixed acidity: 0.0\n",
      "Y prior volatile acidity: 0.0\n",
      "Y prior citric acid: 0.0\n",
      "Y prior residual sugar: 0.00408371618172537\n",
      "Y prior chlorides: 0.033180193976518634\n",
      "Y prior free sulfur dioxide: 0.29760081674323635\n",
      "Y prior total sulfur dioxide: 0.44869831546707506\n",
      "Y prior density: 0.17968351199591628\n",
      "Y prior pH: 0.03573251659009699\n",
      "Y prior sulphates: 0.0010209290454313426\n"
     ]
    }
   ],
   "source": [
    "def calculate_y_priors(data):\n",
    "    Y_Prior=[]\n",
    "    num_samples = data.shape[0]\n",
    "    for i in range(0,MAX_QUALITY):\n",
    "        Y_Prior.append(0)\n",
    "    print(\"## B: \")\n",
    "    for i in range(0,MAX_QUALITY):\n",
    "        Y_Prior[i]=Y_Number[i]/num_samples\n",
    "    return Y_Prior\n",
    "y_prior = calculate_y_priors(my_data)\n",
    "for i in range(0,len(y_prior)):\n",
    "    print(\"Y prior \"+str(labels[i])+\": \"+ str(y_prior[i]))\n"
   ]
  },
  {
   "cell_type": "markdown",
   "metadata": {},
   "source": [
    "# Filter data to make calculating mean+standard deviation easy"
   ]
  },
  {
   "cell_type": "code",
   "execution_count": 11,
   "metadata": {},
   "outputs": [],
   "source": [
    "# Returns data sorted by quality\n",
    "# output: filtered_data[Quality][xi][entry]\n",
    "def filter_data_by_quality(data):\n",
    "    out_list = []\n",
    "    for i in range(MIN_QUALITY,MAX_QUALITY+1):\n",
    "        out_list.append(np.array([]))\n",
    "    #print(data)\n",
    "    #for i in range(MIN_QUALITY,MAX_QUALITY+1):\n",
    "    #    out_list.append(np.array([]))\n",
    "    \n",
    "    for quality in range(MIN_QUALITY,MAX_QUALITY+1):\n",
    "        for row in data:\n",
    "            #print(row)       \n",
    "            if(row[-1]==quality):\n",
    "                try:\n",
    "                    #print(row[:-1])\n",
    "                    out_list[quality] = np.vstack((out_list[quality],row))\n",
    "                except:\n",
    "                    out_list[quality] = row\n",
    "                #out_list[quality].append(row[:-1])\n",
    "                \n",
    "    return out_list\n",
    "#print(filter_data_by_quality(my_data))"
   ]
  },
  {
   "cell_type": "markdown",
   "metadata": {},
   "source": [
    "# Calculating posteriors"
   ]
  },
  {
   "cell_type": "code",
   "execution_count": 12,
   "metadata": {},
   "outputs": [],
   "source": [
    "\n",
    "\"\"\"Runs fn on result of filtered data\"\"\"\n",
    "def run_on_data(data,fn):\n",
    "    out = []\n",
    "    for quality in data:\n",
    "        to_append = np.array([])\n",
    "        #transposing data to get column\n",
    "        for col in quality.T:\n",
    "            #print(\"\")\n",
    "            #print(col)\n",
    "            to_append=np.hstack((to_append,fn(col)))\n",
    "        out.append(to_append)\n",
    "    return out"
   ]
  },
  {
   "cell_type": "code",
   "execution_count": 13,
   "metadata": {},
   "outputs": [],
   "source": [
    "#filtered_data = filter_data_by_quality(my_data)\n",
    "#variance = run_on_data(filtered_data,calculate_variance)\n",
    "#mean = run_on_data(filtered_data,calculate_mean)\n",
    "#print(\"VARIANCE\")\n",
    "#print(variance)\n",
    "#print(\"MEAN\")\n",
    "#print(mean)"
   ]
  },
  {
   "cell_type": "code",
   "execution_count": 14,
   "metadata": {},
   "outputs": [],
   "source": [
    "# calculating probabilities\n",
    "#print(mean)\n",
    "#print(prob)\n",
    "#gen\n",
    "#prob=[]\n",
    "def get_prob_given_quality(variance,mean,xi,quality,number):\n",
    "    assert(type(xi)==int)\n",
    "    assert(type(quality)==int)\n",
    "    v = variance[quality][xi]\n",
    "    m = mean[quality][xi]\n",
    "    first_half = (math.sqrt(2.0*math.pi*v))\n",
    "    in_exp = (float(number)-float(m))**2/v\n",
    "    in_exp = -0.5*(in_exp)\n",
    "    out = normal_fn(math.exp(in_exp)/first_half)\n",
    "    if(out<0.0):\n",
    "        print(\"less than zero\")\n",
    "    if(out>1.0):\n",
    "        print(\"normal bigger than 1?\")\n",
    "        print(\"\\tvariance:\"+str(v))\n",
    "        print(\"\\tmean: \"+str(m))\n",
    "        print(\"\\tnumber: \"+str(number))\n",
    "        print(\"\\tfirst half: \"+str(first_half))\n",
    "        print(\"\\tin_exp: \"+str(in_exp))\n",
    "        print(\"\\toutput: \"+str(out))\n",
    "    \n",
    "    return out"
   ]
  },
  {
   "cell_type": "markdown",
   "metadata": {},
   "source": [
    "# 2d getting probabilities for quality=4"
   ]
  },
  {
   "cell_type": "code",
   "execution_count": 15,
   "metadata": {},
   "outputs": [
    {
     "name": "stdout",
     "output_type": "stream",
     "text": [
      "[6.8603241449719246, 0.277491066870853, 0.33410413476263084, 6.423175089331289, 0.04573813169984722, 35.4552067381317, 138.3843797856049, 0.9940532478305207, 3.1888386932108124, 0.48909647779479687, 10.506281265949005]\n",
      "## B: \n",
      "\n",
      "\n",
      "2B: \n",
      "Y prior fixed acidity: 0.0\n",
      "Y prior volatile acidity: 0.0\n",
      "Y prior citric acid: 0.0\n",
      "Y prior residual sugar: 0.00408371618172537\n",
      "Y prior chlorides: 0.033180193976518634\n",
      "Y prior free sulfur dioxide: 0.29760081674323635\n",
      "Y prior total sulfur dioxide: 0.44869831546707506\n",
      "Y prior density: 0.17968351199591628\n",
      "Y prior pH: 0.03573251659009699\n",
      "Y prior sulphates: 0.0010209290454313426\n",
      "\n",
      "\n",
      "2C: \n",
      "Probability of fixed acidity given K: 0.550980732319952\n",
      "Probability of volatile acidity given K: 0.9162084554569558\n",
      "Probability of citric acid given K: 0.8913651106580792\n",
      "Probability of residual sugar given K: 0.5287485209551985\n",
      "Probability of chlorides given K: 0.9850536684845275\n",
      "Probability of free sulfur dioxide given K: 0.509515939615864\n",
      "Probability of total sulfur dioxide given K: 0.502912127845481\n",
      "Probability of density given K: 0.9974270760914563\n",
      "Probability of pH given K: 0.8620619859425397\n",
      "Probability of sulphates given K: 0.7550921475165342\n",
      "Probability of alcohol given K: 0.5988790122832712\n",
      "\n",
      "\n",
      "2D: \n",
      "Probability of fixed acidity: 0.5331535454373878\n",
      "Probability of volatile acidity: 0.5000000001241288\n",
      "Probability of citric acid: 0.5000000011330815\n",
      "Probability of residual sugar: 0.5247595093769984\n",
      "Probability of chlorides: 0.5\n",
      "Probability of free sulfur dioxide: 0.5074177323214712\n",
      "Probability of total sulfur dioxide: 0.5029915578260951\n",
      "Probability of density: 0.5\n",
      "Probability of pH: 0.5000100132092299\n",
      "Probability of sulphates: 0.5\n",
      "Probability of alcohol: 0.5814321414278735\n",
      "\n",
      "\n",
      "2E: evaluation of model\n",
      "max probability: 0.0\n",
      "min probability: 0.0\n",
      "variance of probability: 0.0\n"
     ]
    }
   ],
   "source": [
    "# 2e Evaluate Model\n",
    "def eval_model(data_in,labels):\n",
    "    filtered_data = filter_data_by_quality(data_in)\n",
    "    variance_given_k = run_on_data(filtered_data,calculate_variance)\n",
    "    mean_given_k = run_on_data(filtered_data,calculate_mean)\n",
    "    #print(mean_given_k)\n",
    "    variance = []\n",
    "    mean = []\n",
    "    probs = []\n",
    "    \n",
    "    for col in data_in.T[:-1]:\n",
    "        variance.append(calculate_variance(col))\n",
    "        mean.append(calculate_mean(col))\n",
    "    print(mean)\n",
    "    #print(data_in)\n",
    "    #print(variance)\n",
    "    correct = 0\n",
    "    total = 0\n",
    "    y_priors = calculate_y_priors(data_in)\n",
    "    print(\"\\n\\n2B: \")\n",
    "    i=0\n",
    "    for y in y_priors:\n",
    "        print(\"Y prior \"+str(labels[i])+\": \"+ str(y_prior[i]))\n",
    "        i+=1\n",
    "    num_prints=0\n",
    "    num_prints_b=0\n",
    "    printed_2c=False\n",
    "    printed_2d=False\n",
    "    for row in data_in:\n",
    "        p_x_g = []\n",
    "        p_x=[]\n",
    "        for x in range(0,row.shape[0]-1):\n",
    "            p_x_g.append(get_prob_given_quality(\n",
    "                variance_given_k,mean_given_k,\n",
    "                x,int(row[-1]),row[x]))\n",
    "            #print(p_x_g[-1])\n",
    "            first_half = (math.sqrt(2.0*math.pi*variance[x]))\n",
    "            in_exp = (row[x]-mean[x])/variance[x]\n",
    "            in_exp = -0.5*(in_exp**2)\n",
    "            append = normal_fn(math.exp(in_exp)/first_half)\n",
    "            p_x.append(append)\n",
    "            #print(p_x[-1])\n",
    "        #evaluating model\n",
    "        top = 1.0\n",
    "        i=0\n",
    "        if(printed_2c==False):\n",
    "            print(\"\\n\\n2C: \")\n",
    "            printed_2c=True\n",
    "        #print(\"max p_x_g: \"+str(max(p_x_g)))\n",
    "        for prob in p_x_g:\n",
    "            if(num_prints<NUM_ATTRIBUTES):\n",
    "                print(\"Probability of \"+labels[i]+\" given K: \"+str(prob))\n",
    "            #if(prob>1.0):\n",
    "            #    print(\"prob_x_g to big\")\n",
    "            #    print(prob)\n",
    "            top*=prob\n",
    "            i+=1\n",
    "            num_prints+=1\n",
    "        bottom =1.0\n",
    "        i=0\n",
    "        if(printed_2d==False):\n",
    "            print(\"\\n\\n2D: \")\n",
    "            printed_2d=True\n",
    "        #print(\"max p_x: \"+str(max(p_x)))\n",
    "        for prob in p_x:\n",
    "            if(num_prints_b<NUM_ATTRIBUTES):\n",
    "                print(\"Probability of \"+labels[i]+\": \"+str(prob))\n",
    "            #if(prob>1.0):\n",
    "            #    print(\"prob to big\")\n",
    "            #    print(prob)\n",
    "            i+=1\n",
    "            num_prints_b+=1\n",
    "            bottom*=prob\n",
    "\n",
    "        try:    \n",
    "            probs.append(nornal_fn((top*y_priors[int(row[-1])])/bottom))\n",
    "        except(ZeroDivisionError):\n",
    "            probs.append(1.0)\n",
    "        except:\n",
    "            probs.append(0.0)\n",
    "    #print(probs)\n",
    "    print(\"\\n\\n2E: evaluation of model\")\n",
    "    print(\"max probability: \"+str(max(probs)))\n",
    "    print(\"min probability: \"+str(min(probs)))\n",
    "    print(\"variance of probability: \"+str(calculate_variance(probs)))\n",
    "eval_model(my_data,labels)\n",
    "    "
   ]
  },
  {
   "cell_type": "markdown",
   "metadata": {},
   "source": [
    "The min and max probability is the same. THis is likely used because a bad probability distribution function is used in my implementaton.\n",
    "# 2F Removing Citric Acid\n",
    "I am removing citric acid because it may be corrrelated to the Density of the wine. This assertion is supported by the scatter plot shown below."
   ]
  },
  {
   "cell_type": "code",
   "execution_count": 16,
   "metadata": {},
   "outputs": [
    {
     "data": {
      "image/png": "[encoded data removed]",
      "text/plain": [
       "<Figure size 432x288 with 1 Axes>"
      ]
     },
     "metadata": {
      "needs_background": "light"
     },
     "output_type": "display_data"
    },
    {
     "name": "stdout",
     "output_type": "stream",
     "text": [
      "[6.8603241449719246, 0.33410413476263084, 6.423175089331289, 0.04573813169984722, 35.4552067381317, 138.3843797856049, 0.9940532478305207, 3.1888386932108124, 0.48909647779479687, 10.506281265949005]\n",
      "## B: \n",
      "\n",
      "\n",
      "2B: \n",
      "Y prior fixed acidity: 0.0\n",
      "Y prior volatile acidity: 0.0\n",
      "Y prior residual sugar: 0.0\n",
      "Y prior chlorides: 0.00408371618172537\n",
      "Y prior free sulfur dioxide: 0.033180193976518634\n",
      "Y prior total sulfur dioxide: 0.29760081674323635\n",
      "Y prior density: 0.44869831546707506\n",
      "Y prior pH: 0.17968351199591628\n",
      "Y prior sulphates: 0.03573251659009699\n",
      "Y prior alcohol: 0.0010209290454313426\n",
      "\n",
      "\n",
      "2C: \n",
      "Probability of fixed acidity given K: 0.550980732319952\n",
      "Probability of volatile acidity given K: 0.8913651106580792\n",
      "Probability of residual sugar given K: 0.5287485209551985\n",
      "Probability of chlorides given K: 0.9850536684845275\n",
      "Probability of free sulfur dioxide given K: 0.509515939615864\n",
      "Probability of total sulfur dioxide given K: 0.502912127845481\n",
      "Probability of density given K: 0.9974270760914563\n",
      "Probability of pH given K: 0.8620619859425397\n",
      "Probability of sulphates given K: 0.7550921475165342\n",
      "Probability of alcohol given K: 0.5988790122832712\n",
      "\n",
      "\n",
      "2D: \n",
      "Probability of fixed acidity: 0.5331535454373878\n",
      "Probability of volatile acidity: 0.5000000011330815\n",
      "Probability of residual sugar: 0.5247595093769984\n",
      "Probability of chlorides: 0.5\n",
      "Probability of free sulfur dioxide: 0.5074177323214712\n",
      "Probability of total sulfur dioxide: 0.5029915578260951\n",
      "Probability of density: 0.5\n",
      "Probability of pH: 0.5000100132092299\n",
      "Probability of sulphates: 0.5\n",
      "Probability of alcohol: 0.5814321414278735\n",
      "Probability of fixed acidity given K: 0.6212140855968921\n",
      "Probability of fixed acidity: 0.595656794614978\n",
      "\n",
      "\n",
      "2E: evaluation of model\n",
      "max probability: 0.0\n",
      "min probability: 0.0\n",
      "variance of probability: 0.0\n"
     ]
    }
   ],
   "source": [
    "plt.title(\"Citric Acid vs Density\")\n",
    "plt.xlabel(\"Citric Acid\")\n",
    "plt.ylabel(\"Densty\")\n",
    "plt.scatter(my_data[:,2],my_data[:,7])\n",
    "plt.show()\n",
    "edited_data = np.hstack((my_data[:,0:1],my_data[:,2:]))\n",
    "edited_labels = labels.copy()\n",
    "edited_labels.pop(2)\n",
    "foo=5 #stopping \n",
    "eval_model(edited_data,edited_labels)"
   ]
  },
  {
   "cell_type": "markdown",
   "metadata": {},
   "source": [
    "# 2G Evaluating on Test Data\n",
    "Evualating my model on the testing data."
   ]
  },
  {
   "cell_type": "code",
   "execution_count": 17,
   "metadata": {},
   "outputs": [
    {
     "name": "stdout",
     "output_type": "stream",
     "text": [
      "[6.8603241449719246, 0.277491066870853, 0.33410413476263084, 6.423175089331289, 0.04573813169984722, 35.4552067381317, 138.3843797856049, 0.9940532478305207, 3.1888386932108124, 0.48909647779479687, 10.506281265949005]\n",
      "## B: \n",
      "\n",
      "\n",
      "2B: \n",
      "Y prior fixed acidity: 0.0\n",
      "Y prior volatile acidity: 0.0\n",
      "Y prior citric acid: 0.0\n",
      "Y prior residual sugar: 0.00408371618172537\n",
      "Y prior chlorides: 0.033180193976518634\n",
      "Y prior free sulfur dioxide: 0.29760081674323635\n",
      "Y prior total sulfur dioxide: 0.44869831546707506\n",
      "Y prior density: 0.17968351199591628\n",
      "Y prior pH: 0.03573251659009699\n",
      "Y prior sulphates: 0.0010209290454313426\n",
      "\n",
      "\n",
      "2C: \n",
      "Probability of fixed acidity given K: 0.550980732319952\n",
      "Probability of volatile acidity given K: 0.9162084554569558\n",
      "Probability of citric acid given K: 0.8913651106580792\n",
      "Probability of residual sugar given K: 0.5287485209551985\n",
      "Probability of chlorides given K: 0.9850536684845275\n",
      "Probability of free sulfur dioxide given K: 0.509515939615864\n",
      "Probability of total sulfur dioxide given K: 0.502912127845481\n",
      "Probability of density given K: 0.9974270760914563\n",
      "Probability of pH given K: 0.8620619859425397\n",
      "Probability of sulphates given K: 0.7550921475165342\n",
      "Probability of alcohol given K: 0.5988790122832712\n",
      "\n",
      "\n",
      "2D: \n",
      "Probability of fixed acidity: 0.5331535454373878\n",
      "Probability of volatile acidity: 0.5000000001241288\n",
      "Probability of citric acid: 0.5000000011330815\n",
      "Probability of residual sugar: 0.5247595093769984\n",
      "Probability of chlorides: 0.5\n",
      "Probability of free sulfur dioxide: 0.5074177323214712\n",
      "Probability of total sulfur dioxide: 0.5029915578260951\n",
      "Probability of density: 0.5\n",
      "Probability of pH: 0.5000100132092299\n",
      "Probability of sulphates: 0.5\n",
      "Probability of alcohol: 0.5814321414278735\n",
      "\n",
      "\n",
      "2E: evaluation of model\n",
      "max probability: 0.0\n",
      "min probability: 0.0\n",
      "variance of probability: 0.0\n"
     ]
    }
   ],
   "source": [
    "train_labels = []\n",
    "with open(\"wine_train_set.csv\") as csv_file:\n",
    "    train_data = csv.reader(csv_file, delimiter=',', quotechar='|')\n",
    "    train_labels = train_data.__next__()\n",
    "train_data = np.loadtxt('wine_train_set.csv', delimiter=',',skiprows=1)\n",
    "eval_model(train_data,train_labels)"
   ]
  },
  {
   "cell_type": "markdown",
   "metadata": {},
   "source": [
    "Currently the results show a very high maximum probability. This is likely caused by a bug in the code. "
   ]
  },
  {
   "cell_type": "markdown",
   "metadata": {},
   "source": [
    "# 2H: Selecting first 1000 and 100 Elements from the training set and viewing results"
   ]
  },
  {
   "cell_type": "code",
   "execution_count": 18,
   "metadata": {},
   "outputs": [
    {
     "name": "stdout",
     "output_type": "stream",
     "text": [
      "[6.845199999999998, 0.2755700000000003, 0.3367800000000001, 6.419450000000001, 0.04538499999999987, 35.592, 137.2535, 0.9940491099999996, 3.1919399999999993, 0.49193000000000026, 10.514783333322988]\n",
      "## B: \n",
      "\n",
      "\n",
      "2B: \n",
      "Y prior fixed acidity: 0.0\n",
      "Y prior volatile acidity: 0.0\n",
      "Y prior citric acid: 0.0\n",
      "Y prior residual sugar: 0.00408371618172537\n",
      "Y prior chlorides: 0.033180193976518634\n",
      "Y prior free sulfur dioxide: 0.29760081674323635\n",
      "Y prior total sulfur dioxide: 0.44869831546707506\n",
      "Y prior density: 0.17968351199591628\n",
      "Y prior pH: 0.03573251659009699\n",
      "Y prior sulphates: 0.0010209290454313426\n",
      "\n",
      "\n",
      "2C: \n",
      "Probability of fixed acidity given K: 0.5583917252535604\n",
      "Probability of volatile acidity given K: 0.9176711841128968\n",
      "Probability of citric acid given K: 0.8900720824883644\n",
      "Probability of residual sugar given K: 0.5293272179765109\n",
      "Probability of chlorides given K: 0.9853086722610631\n",
      "Probability of free sulfur dioxide given K: 0.5091562435694231\n",
      "Probability of total sulfur dioxide given K: 0.5024286968436807\n",
      "Probability of density given K: 0.9974379040294805\n",
      "Probability of pH given K: 0.8614705182478217\n",
      "Probability of sulphates given K: 0.7537228661234368\n",
      "Probability of alcohol given K: 0.5969369019435956\n",
      "\n",
      "\n",
      "2D: \n",
      "Probability of fixed acidity: 0.5337933777228714\n",
      "Probability of volatile acidity: 0.5000000005757649\n",
      "Probability of citric acid: 0.5000000000002766\n",
      "Probability of residual sugar: 0.5243884173844968\n",
      "Probability of chlorides: 0.5\n",
      "Probability of free sulfur dioxide: 0.5073452606442057\n",
      "Probability of total sulfur dioxide: 0.502917599170405\n",
      "Probability of density: 0.5\n",
      "Probability of pH: 0.5000387437559433\n",
      "Probability of sulphates: 0.5\n",
      "Probability of alcohol: 0.5816829740669103\n",
      "\n",
      "\n",
      "2E: evaluation of model\n",
      "max probability: 0.0\n",
      "min probability: 0.0\n",
      "variance of probability: 0.0\n",
      "[6.745999999999998, 0.26615000000000005, 0.33599999999999997, 6.2189999999999985, 0.04372000000000001, 36.56, 132.99, 0.9937127999999995, 3.192100000000001, 0.5138999999999999, 10.6608333333]\n",
      "## B: \n",
      "\n",
      "\n",
      "2B: \n",
      "Y prior fixed acidity: 0.0\n",
      "Y prior volatile acidity: 0.0\n",
      "Y prior citric acid: 0.0\n",
      "Y prior residual sugar: 0.00408371618172537\n",
      "Y prior chlorides: 0.033180193976518634\n",
      "Y prior free sulfur dioxide: 0.29760081674323635\n",
      "Y prior total sulfur dioxide: 0.44869831546707506\n",
      "Y prior density: 0.17968351199591628\n",
      "Y prior pH: 0.03573251659009699\n",
      "Y prior sulphates: 0.0010209290454313426\n",
      "\n",
      "\n",
      "2C: \n",
      "Probability of fixed acidity given K: 0.5576030223484756\n",
      "Probability of volatile acidity given K: 0.9225056449876978\n",
      "Probability of citric acid given K: 0.9060192644370575\n",
      "Probability of residual sugar given K: 0.5362659202887881\n",
      "Probability of chlorides given K: 0.9858862980623544\n",
      "Probability of free sulfur dioxide given K: 0.5083077019878269\n",
      "Probability of total sulfur dioxide given K: 0.5027173140782537\n",
      "Probability of density given K: 0.9979677652364283\n",
      "Probability of pH given K: 0.8756435394667348\n",
      "Probability of sulphates given K: 0.7302329342731204\n",
      "Probability of alcohol given K: 0.6218806163472104\n",
      "\n",
      "\n",
      "2D: \n",
      "Probability of fixed acidity: 0.5365285189545295\n",
      "Probability of volatile acidity: 0.5000932806333461\n",
      "Probability of citric acid: 0.5\n",
      "Probability of residual sugar: 0.5244650998906322\n",
      "Probability of chlorides: 0.5\n",
      "Probability of free sulfur dioxide: 0.5068229544062491\n",
      "Probability of total sulfur dioxide: 0.5032211579380838\n",
      "Probability of density: 0.5\n",
      "Probability of pH: 0.5017970653035001\n",
      "Probability of sulphates: 0.5\n",
      "Probability of alcohol: 0.5867714131898953\n",
      "\n",
      "\n",
      "2E: evaluation of model\n",
      "max probability: 0.0\n",
      "min probability: 0.0\n",
      "variance of probability: 0.0\n"
     ]
    }
   ],
   "source": [
    "thousand_data = my_data[0:1000]\n",
    "eval_model(thousand_data,labels)\n",
    "hundred_data = my_data[0:100]\n",
    "eval_model(hundred_data,labels)"
   ]
  },
  {
   "cell_type": "markdown",
   "metadata": {},
   "source": [
    "# Conclusions\n",
    "The min and max probability is still 1. This is likely caused by using the normal distribution PFD as a probability function. Another conclusion could be that Nieve Bayes is a bad algorythm for estimating continuous data. A more sophisticated algorythm may be usefull for analyzing this kind of data. When I used no normalization functions I got probability outputs on the order of 10<sup>50</sup>."
   ]
  },
  {
   "cell_type": "code",
   "execution_count": null,
   "metadata": {},
   "outputs": [],
   "source": []
  }
 ],
 "metadata": {
  "hide_input": false,
  "kernelspec": {
   "display_name": "Python 3",
   "language": "python",
   "name": "python3"
  },
  "language_info": {
   "codemirror_mode": {
    "name": "ipython",
    "version": 3
   },
   "file_extension": ".py",
   "mimetype": "text/x-python",
   "name": "python",
   "nbconvert_exporter": "python",
   "pygments_lexer": "ipython3",
   "version": "3.7.5"
  }
 },
 "nbformat": 4,
 "nbformat_minor": 2
}
