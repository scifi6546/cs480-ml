{
 "cells": [
  {
   "cell_type": "code",
   "execution_count": 1,
   "metadata": {},
   "outputs": [],
   "source": [
    "import numpy as np\n",
    "import csv\n",
    "%matplotlib inline\n",
    "from IPython.display import display,Markdown\n",
    "\n",
    "import matplotlib\n",
    "import numpy as np\n",
    "import matplotlib.pyplot as plt\n",
    "import math"
   ]
  },
  {
   "cell_type": "markdown",
   "metadata": {},
   "source": [
    "document can be found at [https://github.com/scifi6546/cs480-ml/blob/master/0/Assignment%201%20DTS.ipynb](https://github.com/scifi6546/cs480-ml/blob/master/0/Assignment%201%20DTS.ipynb)\n",
    "# Part 1\n"
   ]
  },
  {
   "cell_type": "markdown",
   "metadata": {},
   "source": [
    "|Size |Orbit|habitable | Count|\n",
    "|-----|-----|----------|------|\n",
    "|big|near|yes|20|\n",
    "|big|far|yes|170|\n",
    "|small|near|yes|139|\n",
    "|small|far|yes|45|\n",
    "|big|near|no|130|\n",
    "|big|far|no|30|\n",
    "|small|near|no|11|\n",
    "|small|far|no|255|"
   ]
  },
  {
   "cell_type": "code",
   "execution_count": 2,
   "metadata": {},
   "outputs": [
    {
     "name": "stdout",
     "output_type": "stream",
     "text": [
      "total entropy: 0.9969501570069956\n",
      "entropy in positive data: 0.9946937953613058\n",
      "total entropy: 0.9969501570069956\n",
      "entropy in positive data: 0.9858150371789198\n",
      "size gain: 0.002256361645689875\n",
      "orbit gain: 0.011135119828075801\n",
      "\n",
      "Orbit gain is larger therefore subsetting by orbit\n",
      "\n",
      "\n",
      "Subsetted by far orbit\n",
      "[[  1   1   1 170]\n",
      " [  0   1   1  45]\n",
      " [  1   1   0  30]\n",
      " [  0   1   0 255]]\n",
      "\n",
      "Subsetted by near orbit\n",
      "[[  1   0   1  20]\n",
      " [  0   0   1 139]\n",
      " [  1   0   0 130]\n",
      " [  0   0   0  11]]\n",
      "\n",
      " Working on Far Orbit Branch\n",
      "\n",
      "Far Orbit Big Planet\n",
      "[[  1   1   1 170]\n",
      " [  1   1   0  30]]\n",
      "\n",
      "Far Orbit Small Planet\n",
      "[[  0   1   1  45]\n",
      " [  0   1   0 255]]\n",
      "\n",
      "\n",
      " Working on Near Orbit Branch\n",
      "\n",
      "Near Orbit Big Planet\n",
      "[[  1   0   1  20]\n",
      " [  1   0   0 130]]\n",
      "\n",
      "Near Orbit Small Planet\n",
      "[[  0   0   1 139]\n",
      " [  0   0   0  11]]\n"
     ]
    }
   ],
   "source": [
    "tree_data = np.array([[1,0,1,20],\n",
    "                      [1,1,1,170],\n",
    "                      [0,0,1,139],\n",
    "                      [0,1,1,45],\n",
    "                      [1,0,0,130],\n",
    "                      [1,1,0,30],\n",
    "                      [0,0,0,11],\n",
    "                      [0,1,0,255]\n",
    "                     ])\n",
    "def calculate_entropy(data):\n",
    "    pos_instances = 0\n",
    "    neg_instances = 0\n",
    "    for row in data:\n",
    "        #is habitible\n",
    "        if(row[-2]==1):\n",
    "            pos_instances+=row[-1]\n",
    "        else:\n",
    "            neg_instances+=row[-1]\n",
    "    total = pos_instances+neg_instances\n",
    "    p_p = float(pos_instances)/float(total)\n",
    "    p_n = float(neg_instances)/float(total)\n",
    "    return -1.0*p_p*math.log(p_p,2)-1.0*p_n*math.log(p_n,2)\n",
    "def calculate_gain(row_num,data):\n",
    "    subset_array = []\n",
    "    for row in data:\n",
    "        if(row[row_num]==1):\n",
    "            subset_array.append(row)\n",
    "    subset_array = np.array(subset_array)\n",
    "    #print(subset_array)\n",
    "    ent_total = calculate_entropy(data)\n",
    "    print(\"total entropy: \"+str(ent_total))\n",
    "    print(\"entropy in positive data: \"+str(calculate_entropy(subset_array)))\n",
    "    return calculate_entropy(data)-(subset_array.shape[1]/data.shape[1])*\\\n",
    "        calculate_entropy(subset_array)\n",
    "#def calc_gain(col_num_data):\n",
    "#    \n",
    "#print(calculate_entropy(tree_data))\n",
    "\n",
    "#print(calculate_entropy(tree_data))\n",
    "#print(calculate_entropy(tree_data))\n",
    "size_gain = calculate_gain(0,tree_data)\n",
    "orbit_gain = calculate_gain(1,tree_data)\n",
    "\n",
    "print(\"size gain: \"+str(size_gain))\n",
    "print(\"orbit gain: \"+str(orbit_gain))\n",
    "print(\"\\nOrbit gain is larger therefore subsetting by orbit\\n\\n\")\n",
    "orbit_far = []\n",
    "orbit_near = []\n",
    "for row in tree_data:\n",
    "    if(row[1]==1):\n",
    "        orbit_far.append(row)\n",
    "    else:\n",
    "        orbit_near.append(row)\n",
    "orbit_far=np.array(orbit_far)\n",
    "orbit_near=np.array(orbit_near)\n",
    "print(\"Subsetted by far orbit\")\n",
    "print(orbit_far)\n",
    "print(\"\\nSubsetted by near orbit\")\n",
    "print(orbit_near)\n",
    "\n",
    "print(\"\\n Working on Far Orbit Branch\")\n",
    "orbit_far_small=[]\n",
    "orbit_far_big=[]\n",
    "for row in orbit_far:\n",
    "    if(row[0]==1):\n",
    "        orbit_far_big.append(row)\n",
    "    else:\n",
    "        orbit_far_small.append(row)\n",
    "orbit_far_big=np.array(orbit_far_big)\n",
    "orbit_far_small=np.array(orbit_far_small)\n",
    "print(\"\\nFar Orbit Big Planet\")\n",
    "print(orbit_far_big)\n",
    "\n",
    "print(\"\\nFar Orbit Small Planet\")\n",
    "print(orbit_far_small)\n",
    "\n",
    "\n",
    "print(\"\\n\\n Working on Near Orbit Branch\")\n",
    "orbit_near_small=[]\n",
    "orbit_near_big=[]\n",
    "for row in orbit_near:\n",
    "    if(row[0]==1):\n",
    "        orbit_near_big.append(row)\n",
    "    else:\n",
    "        orbit_near_small.append(row)\n",
    "orbit_near_big=np.array(orbit_near_big)\n",
    "orbit_near_small=np.array(orbit_near_small)\n",
    "print(\"\\nNear Orbit Big Planet\")\n",
    "print(orbit_near_big)\n",
    "\n",
    "print(\"\\nNear Orbit Small Planet\")\n",
    "print(orbit_near_small)\n",
    "\n",
    "\n"
   ]
  },
  {
   "cell_type": "markdown",
   "metadata": {},
   "source": [
    "# Final Tree\n",
    "``` \n",
    "                            Orbital Radius\n",
    "                       /                    \\\n",
    "                      /                      \\\n",
    "               Far Orbit                     Near Orbit\n",
    "               /                               \\\n",
    "              /                                 \\\n",
    "             /                                   \\\n",
    "            /                                     \\\n",
    "           /                                       \\\n",
    "      Size Of Planet                         Size of Planet\n",
    "      /           \\                         /            \\\n",
    "     /             \\                       /              \\\n",
    "    /               \\                     /                \\\n",
    " Big Planet    Small Planet          Big Planet       Small Planet\n",
    " Habitable      Not Habitable        Not Habitable     Habitable\n",
    "```"
   ]
  },
  {
   "cell_type": "markdown",
   "metadata": {},
   "source": [
    "# Part 2\n",
    "the algorithm used is similar the one shown in class with exception to the formula used to calculate probabilities.\n",
    "p(x) = exp(-0.5*(x-mean)<sup>2</sup>/variance)\n",
    "the equation is modified so that the probability never goes above 1.\n",
    "\n",
    "## 2a: Briefly describe and visualize the data"
   ]
  },
  {
   "cell_type": "code",
   "execution_count": 3,
   "metadata": {},
   "outputs": [],
   "source": [
    "\n",
    "labels=[]\n",
    "with open(\"wine_train_set.csv\") as csv_file:\n",
    "    train_data = csv.reader(csv_file, delimiter=',', quotechar='|')\n",
    "    labels = train_data.__next__()\n",
    "my_data = np.loadtxt('wine_train_set.csv', delimiter=',',skiprows=1)\n",
    "MAX_QUALITY=10\n",
    "MIN_QUALITY=0\n",
    "NUM_ATTRIBUTES = len(labels)-1\n"
   ]
  },
  {
   "cell_type": "markdown",
   "metadata": {},
   "source": [
    "# Showing Wine Quality Statistics"
   ]
  },
  {
   "cell_type": "code",
   "execution_count": 4,
   "metadata": {
    "scrolled": false
   },
   "outputs": [
    {
     "data": {
      "image/png": "[encoded data removed]",
      "text/plain": [
       "<Figure size 432x288 with 1 Axes>"
      ]
     },
     "metadata": {
      "needs_background": "light"
     },
     "output_type": "display_data"
    },
    {
     "data": {
      "image/png": "[encoded data removed]",
      "text/plain": [
       "<Figure size 432x288 with 1 Axes>"
      ]
     },
     "metadata": {
      "needs_background": "light"
     },
     "output_type": "display_data"
    },
    {
     "data": {
      "image/png": "[encoded data removed]",
      "text/plain": [
       "<Figure size 432x288 with 1 Axes>"
      ]
     },
     "metadata": {
      "needs_background": "light"
     },
     "output_type": "display_data"
    },
    {
     "data": {
      "image/png": "[encoded data removed]",
      "text/plain": [
       "<Figure size 432x288 with 1 Axes>"
      ]
     },
     "metadata": {
      "needs_background": "light"
     },
     "output_type": "display_data"
    },
    {
     "data": {
      "image/png": "[encoded data removed]",
      "text/plain": [
       "<Figure size 432x288 with 1 Axes>"
      ]
     },
     "metadata": {
      "needs_background": "light"
     },
     "output_type": "display_data"
    },
    {
     "data": {
      "image/png": "[encoded data removed]",
      "text/plain": [
       "<Figure size 432x288 with 1 Axes>"
      ]
     },
     "metadata": {
      "needs_background": "light"
     },
     "output_type": "display_data"
    },
    {
     "data": {
      "image/png": "[encoded data removed]",
      "text/plain": [
       "<Figure size 432x288 with 1 Axes>"
      ]
     },
     "metadata": {
      "needs_background": "light"
     },
     "output_type": "display_data"
    },
    {
     "data": {
      "image/png": "[encoded data removed]",
      "text/plain": [
       "<Figure size 432x288 with 1 Axes>"
      ]
     },
     "metadata": {
      "needs_background": "light"
     },
     "output_type": "display_data"
    },
    {
     "data": {
      "image/png": "[encoded data removed]",
      "text/plain": [
       "<Figure size 432x288 with 1 Axes>"
      ]
     },
     "metadata": {
      "needs_background": "light"
     },
     "output_type": "display_data"
    },
    {
     "data": {
      "image/png": "[encoded data removed]",
      "text/plain": [
       "<Figure size 432x288 with 1 Axes>"
      ]
     },
     "metadata": {
      "needs_background": "light"
     },
     "output_type": "display_data"
    }
   ],
   "source": [
    "def give_summary(my_data):\n",
    "    for i in range(0,my_data.shape[1]-7):\n",
    "        data=[]\n",
    "        for j in range(0,10):\n",
    "            data.append([])\n",
    "        for row in my_data:\n",
    "            data[int(round(row[-1]))].append(row[i])\n",
    "        plt.title(\"Quality vs \"+labels[i])\n",
    "        plt.xlabel(\"Quality\")\n",
    "        plt.ylabel(labels[i])\n",
    "        plt.boxplot(data,labels=[\"0\",\"1\",\"2\",\"3\",\"4\",\"5\",\"6\",\"7\",\"8\",\"9\"])\n",
    "        plt.show()\n",
    "    \n",
    "        plt.title(\"Distribution of \" +labels[i])\n",
    "        plt.xlabel(labels[i])\n",
    "        plt.ylabel(\"Count\")\n",
    "        plt.hist(my_data[:,i])\n",
    "        plt.show()\n",
    "give_summary(my_data)"
   ]
  },
  {
   "cell_type": "markdown",
   "metadata": {},
   "source": [
    "The plot shows a box and whisker plot of the guessed qualities. The orange line is the median and the edges of the boxes are the upper and lower quartiles of the distribution. Circles show outliers."
   ]
  },
  {
   "cell_type": "markdown",
   "metadata": {},
   "source": [
    "# Utility Functions"
   ]
  },
  {
   "cell_type": "code",
   "execution_count": 5,
   "metadata": {},
   "outputs": [],
   "source": [
    "Y_Number=[]\n",
    "#calculates probability from input data\n",
    "def prob_fn(variance,mean,x):\n",
    "    first_half = (math.sqrt(2.0))\n",
    "    in_exp = (float(x)-float(mean))**2/variance\n",
    "    in_exp = -0.5*(in_exp)\n",
    "    out = math.exp(in_exp)/first_half#normal_fn(math.exp(in_exp)/first_half)\n",
    "    return out\n",
    "def normal_fn(data):\n",
    "    return math.atan(data)/math.pi+0.5\n",
    "for i in range(0,11):\n",
    "    Y_Number.append(0)\n",
    "for row in my_data:\n",
    "    quality = row[11]\n",
    "    Y_Number[(int(quality))]+=1\n",
    "\"\"\"Takes array type and returns variance\"\"\"\n",
    "def calculate_variance(data):\n",
    "    mean = calculate_mean(data)\n",
    "    sum = 0.0\n",
    "    for i in data:\n",
    "        sum+=(float(i)-float(mean))**2.0\n",
    "    return sum/float(len(data))\n",
    "\"\"\"Takes array type and returns mean\"\"\"\n",
    "def calculate_mean(data):\n",
    "    sum = 0.0\n",
    "    for i in data:\n",
    "        sum+=float(i)\n",
    "    return sum/float(len(data))\n",
    "def calculate_y_priors(data):\n",
    "    Y_Prior=[]\n",
    "    num_samples = data.shape[0]\n",
    "    for i in range(0,MAX_QUALITY):\n",
    "        Y_Prior.append(0)\n",
    "    for i in range(0,MAX_QUALITY):\n",
    "        Y_Prior[i]=Y_Number[i]/num_samples\n",
    "    return Y_Prior\n",
    "y_prior = calculate_y_priors(my_data)\n",
    "# Returns data sorted by quality\n",
    "# output: filtered_data[Quality][xi][entry]\n",
    "def filter_data_by_quality(data):\n",
    "    out_list = []\n",
    "    for i in range(MIN_QUALITY,MAX_QUALITY+1):\n",
    "        out_list.append(np.array([]))\n",
    "    for quality in range(MIN_QUALITY,MAX_QUALITY+1):\n",
    "        for row in data:\n",
    "            #print(row)       \n",
    "            if(row[-1]==quality):\n",
    "                try:\n",
    "                    out_list[quality] = np.vstack((out_list[quality],row))\n",
    "                except:\n",
    "                    out_list[quality] = row\n",
    "    return out_list\n",
    "\n",
    "\"\"\"Runs fn on result of filtered data\"\"\"\n",
    "def run_on_data(data,fn):\n",
    "    out = []\n",
    "    for quality in data:\n",
    "        to_append = np.array([])\n",
    "        #transposing data to get column\n",
    "        for col in quality.T:\n",
    "            to_append=np.hstack((to_append,fn(col)))\n",
    "        out.append(to_append)\n",
    "    return out\n",
    "def get_prob_given_quality(variance,mean,xi,quality,number):\n",
    "    assert(type(xi)==int)\n",
    "    assert(type(quality)==int)\n",
    "    try:\n",
    "        v = variance[quality][xi]\n",
    "    except IndexError:\n",
    "        return 0.0\n",
    "    m = mean[quality][xi]\n",
    "    first_half = (math.sqrt(2.0*math.pi*v))\n",
    "    in_exp = (float(number)-float(m))**2/v\n",
    "    in_exp = -0.5*(in_exp)\n",
    "    out = prob_fn(v,m,number)\n",
    "    if(out<0.0):\n",
    "        print(\"less than zero\")\n",
    "    if(out>1.0):\n",
    "        print(\"normal bigger than 1?\")\n",
    "        print(\"\\tvariance:\"+str(v))\n",
    "        print(\"\\tmean: \"+str(m))\n",
    "        print(\"\\tnumber: \"+str(number))\n",
    "        print(\"\\tfirst half: \"+str(first_half))\n",
    "        print(\"\\tin_exp: \"+str(in_exp))\n",
    "        print(\"\\toutput: \"+str(out))\n",
    "    \n",
    "    return out"
   ]
  },
  {
   "cell_type": "markdown",
   "metadata": {},
   "source": [
    "# Model Code"
   ]
  },
  {
   "cell_type": "code",
   "execution_count": 6,
   "metadata": {},
   "outputs": [
    {
     "data": {
      "text/markdown": [
       "## 2b: Determine the prior for each Yk for the training data."
      ],
      "text/plain": [
       "<IPython.core.display.Markdown object>"
      ]
     },
     "metadata": {},
     "output_type": "display_data"
    },
    {
     "data": {
      "text/markdown": [
       "Y=0: 0.0"
      ],
      "text/plain": [
       "<IPython.core.display.Markdown object>"
      ]
     },
     "metadata": {},
     "output_type": "display_data"
    },
    {
     "data": {
      "text/markdown": [
       "Y=1: 0.0"
      ],
      "text/plain": [
       "<IPython.core.display.Markdown object>"
      ]
     },
     "metadata": {},
     "output_type": "display_data"
    },
    {
     "data": {
      "text/markdown": [
       "Y=2: 0.0"
      ],
      "text/plain": [
       "<IPython.core.display.Markdown object>"
      ]
     },
     "metadata": {},
     "output_type": "display_data"
    },
    {
     "data": {
      "text/markdown": [
       "Y=3: 0.00408371618172537"
      ],
      "text/plain": [
       "<IPython.core.display.Markdown object>"
      ]
     },
     "metadata": {},
     "output_type": "display_data"
    },
    {
     "data": {
      "text/markdown": [
       "Y=4: 0.033180193976518634"
      ],
      "text/plain": [
       "<IPython.core.display.Markdown object>"
      ]
     },
     "metadata": {},
     "output_type": "display_data"
    },
    {
     "data": {
      "text/markdown": [
       "Y=5: 0.29760081674323635"
      ],
      "text/plain": [
       "<IPython.core.display.Markdown object>"
      ]
     },
     "metadata": {},
     "output_type": "display_data"
    },
    {
     "data": {
      "text/markdown": [
       "Y=6: 0.44869831546707506"
      ],
      "text/plain": [
       "<IPython.core.display.Markdown object>"
      ]
     },
     "metadata": {},
     "output_type": "display_data"
    },
    {
     "data": {
      "text/markdown": [
       "Y=7: 0.17968351199591628"
      ],
      "text/plain": [
       "<IPython.core.display.Markdown object>"
      ]
     },
     "metadata": {},
     "output_type": "display_data"
    },
    {
     "data": {
      "text/markdown": [
       "Y=8: 0.03573251659009699"
      ],
      "text/plain": [
       "<IPython.core.display.Markdown object>"
      ]
     },
     "metadata": {},
     "output_type": "display_data"
    },
    {
     "data": {
      "text/markdown": [
       "Y=9: 0.0010209290454313426"
      ],
      "text/plain": [
       "<IPython.core.display.Markdown object>"
      ]
     },
     "metadata": {},
     "output_type": "display_data"
    },
    {
     "data": {
      "text/markdown": [
       "## 2c: Determine the probability of the evidence for each Xi for the training data"
      ],
      "text/plain": [
       "<IPython.core.display.Markdown object>"
      ]
     },
     "metadata": {},
     "output_type": "display_data"
    },
    {
     "data": {
      "text/markdown": [
       "I do not fully understand what exactly the questions b. and c. are asking for. I am providing the                         first row of probabilities for the dataset"
      ],
      "text/plain": [
       "<IPython.core.display.Markdown object>"
      ]
     },
     "metadata": {},
     "output_type": "display_data"
    },
    {
     "data": {
      "text/markdown": [
       "x[0]: 0.23756945547730074"
      ],
      "text/plain": [
       "<IPython.core.display.Markdown object>"
      ]
     },
     "metadata": {},
     "output_type": "display_data"
    },
    {
     "data": {
      "text/markdown": [
       "x[1]: 0.5623090370553327"
      ],
      "text/plain": [
       "<IPython.core.display.Markdown object>"
      ]
     },
     "metadata": {},
     "output_type": "display_data"
    },
    {
     "data": {
      "text/markdown": [
       "x[2]: 0.5226054589525276"
      ],
      "text/plain": [
       "<IPython.core.display.Markdown object>"
      ]
     },
     "metadata": {},
     "output_type": "display_data"
    },
    {
     "data": {
      "text/markdown": [
       "x[3]: 0.6536617833459873"
      ],
      "text/plain": [
       "<IPython.core.display.Markdown object>"
      ]
     },
     "metadata": {},
     "output_type": "display_data"
    },
    {
     "data": {
      "text/markdown": [
       "x[4]: 0.48149804151446646"
      ],
      "text/plain": [
       "<IPython.core.display.Markdown object>"
      ]
     },
     "metadata": {},
     "output_type": "display_data"
    },
    {
     "data": {
      "text/markdown": [
       "x[5]: 0.7042326745488189"
      ],
      "text/plain": [
       "<IPython.core.display.Markdown object>"
      ]
     },
     "metadata": {},
     "output_type": "display_data"
    },
    {
     "data": {
      "text/markdown": [
       "x[6]: 0.6811199969199473"
      ],
      "text/plain": [
       "<IPython.core.display.Markdown object>"
      ]
     },
     "metadata": {},
     "output_type": "display_data"
    },
    {
     "data": {
      "text/markdown": [
       "x[7]: 0.4223839148723331"
      ],
      "text/plain": [
       "<IPython.core.display.Markdown object>"
      ]
     },
     "metadata": {},
     "output_type": "display_data"
    },
    {
     "data": {
      "text/markdown": [
       "x[8]: 0.5427484059248361"
      ],
      "text/plain": [
       "<IPython.core.display.Markdown object>"
      ]
     },
     "metadata": {},
     "output_type": "display_data"
    },
    {
     "data": {
      "text/markdown": [
       "x[9]: 0.20522790814270195"
      ],
      "text/plain": [
       "<IPython.core.display.Markdown object>"
      ]
     },
     "metadata": {},
     "output_type": "display_data"
    },
    {
     "data": {
      "text/markdown": [
       "x[10]: 0.5087555254817119"
      ],
      "text/plain": [
       "<IPython.core.display.Markdown object>"
      ]
     },
     "metadata": {},
     "output_type": "display_data"
    },
    {
     "data": {
      "text/markdown": [
       "## 2d: Determine the probability of the likelihood of evidence for each Xi for the training data."
      ],
      "text/plain": [
       "<IPython.core.display.Markdown object>"
      ]
     },
     "metadata": {},
     "output_type": "display_data"
    },
    {
     "data": {
      "text/markdown": [
       "x[0|Y=5]: 0.2057410345095083"
      ],
      "text/plain": [
       "<IPython.core.display.Markdown object>"
      ]
     },
     "metadata": {},
     "output_type": "display_data"
    },
    {
     "data": {
      "text/markdown": [
       "x[1|Y=5]: 0.45499996381434654"
      ],
      "text/plain": [
       "<IPython.core.display.Markdown object>"
      ]
     },
     "metadata": {},
     "output_type": "display_data"
    },
    {
     "data": {
      "text/markdown": [
       "x[2|Y=5]: 0.5629656542917642"
      ],
      "text/plain": [
       "<IPython.core.display.Markdown object>"
      ]
     },
     "metadata": {},
     "output_type": "display_data"
    },
    {
     "data": {
      "text/markdown": [
       "x[3|Y=5]: 0.6092982806782775"
      ],
      "text/plain": [
       "<IPython.core.display.Markdown object>"
      ]
     },
     "metadata": {},
     "output_type": "display_data"
    },
    {
     "data": {
      "text/markdown": [
       "x[4|Y=5]: 0.45767866961816617"
      ],
      "text/plain": [
       "<IPython.core.display.Markdown object>"
      ]
     },
     "metadata": {},
     "output_type": "display_data"
    },
    {
     "data": {
      "text/markdown": [
       "x[5|Y=5]: 0.7066268693049715"
      ],
      "text/plain": [
       "<IPython.core.display.Markdown object>"
      ]
     },
     "metadata": {},
     "output_type": "display_data"
    },
    {
     "data": {
      "text/markdown": [
       "x[6|Y=5]: 0.7070978219027974"
      ],
      "text/plain": [
       "<IPython.core.display.Markdown object>"
      ]
     },
     "metadata": {},
     "output_type": "display_data"
    },
    {
     "data": {
      "text/markdown": [
       "x[7|Y=5]: 0.17502603187437318"
      ],
      "text/plain": [
       "<IPython.core.display.Markdown object>"
      ]
     },
     "metadata": {},
     "output_type": "display_data"
    },
    {
     "data": {
      "text/markdown": [
       "x[8|Y=5]: 0.4568836600258449"
      ],
      "text/plain": [
       "<IPython.core.display.Markdown object>"
      ]
     },
     "metadata": {},
     "output_type": "display_data"
    },
    {
     "data": {
      "text/markdown": [
       "x[9|Y=5]: 0.1583922689417226"
      ],
      "text/plain": [
       "<IPython.core.display.Markdown object>"
      ]
     },
     "metadata": {},
     "output_type": "display_data"
    },
    {
     "data": {
      "text/markdown": [
       "x[10|Y=5]: 0.10046753834990768"
      ],
      "text/plain": [
       "<IPython.core.display.Markdown object>"
      ]
     },
     "metadata": {},
     "output_type": "display_data"
    },
    {
     "data": {
      "text/markdown": [
       "## 2e: Evaluate your model using your training data"
      ],
      "text/plain": [
       "<IPython.core.display.Markdown object>"
      ]
     },
     "metadata": {},
     "output_type": "display_data"
    },
    {
     "data": {
      "text/markdown": [
       "Accuracy (%predicted): 48.95354772843288"
      ],
      "text/plain": [
       "<IPython.core.display.Markdown object>"
      ]
     },
     "metadata": {},
     "output_type": "display_data"
    },
    {
     "data": {
      "text/markdown": [
       "Accuracy Standard Deviation: 0.9272957934308492"
      ],
      "text/plain": [
       "<IPython.core.display.Markdown object>"
      ]
     },
     "metadata": {},
     "output_type": "display_data"
    },
    {
     "data": {
      "image/png": "[encoded data removed]",
      "text/plain": [
       "<Figure size 432x288 with 1 Axes>"
      ]
     },
     "metadata": {
      "needs_background": "light"
     },
     "output_type": "display_data"
    }
   ],
   "source": [
    "\n",
    "class Model:\n",
    "    def get_prob(self,Y,x,print_prob=False):\n",
    "        p_x_g=[]\n",
    "        p_x=[]\n",
    "\n",
    "        for xi in range(0,len(x)):\n",
    "            p_x_g.append(get_prob_given_quality(\n",
    "                self.variance_given_k,self.mean_given_k,\n",
    "                xi,int(Y), x[xi]))\n",
    "            first_half = (math.sqrt(2.0*math.pi*self.variance[xi]))\n",
    "            in_exp = (x[xi]-self.mean[xi])/self.variance[xi]\n",
    "            in_exp = -0.5*(in_exp**2)\n",
    "            p_x.append(prob_fn(self.variance[xi],self.mean[xi],x[xi]))\n",
    "        if print_prob:\n",
    "            if(self.printedRow==False):\n",
    "                self.printedRow=True\n",
    "                display(Markdown(\"## 2c: Determine the probability of the evidence for each Xi for the training data\"))\n",
    "                display(Markdown(\"I do not fully understand what exactly the questions b. and c. are asking for. I am providing the\\\n",
    "                         first row of probabilities for the dataset\"))\n",
    "\n",
    "                for i in range(0,len(p_x)):\n",
    "                    display(Markdown(\"x[\"+str(i)+\"]: \"+str(p_x[i])))\n",
    "                display(Markdown(\"## 2d: Determine the probability of the likelihood of evidence for each Xi for the training data.\"))\n",
    "            if(Y==5 and self.printedY==False):\n",
    "                self.printedY=True\n",
    "                for i in range(0,len(p_x_g)):\n",
    "                    display(Markdown(\"x[\"+str(i)+\"|Y=\"+str(Y)+\"]: \"+str(p_x_g[i])))\n",
    "        top = 1.0\n",
    "        bottom=1.0\n",
    "        for p in p_x_g:\n",
    "            top*=p\n",
    "        top*=self.P_Y[int(Y)]\n",
    "        for p in p_x:\n",
    "            bottom*=p\n",
    "\n",
    "        return normal_fn(top/bottom)\n",
    "    def get_most_likely(self,x,print_prob=False):\n",
    "        probs = []\n",
    "\n",
    "        for y in range(MIN_QUALITY,MAX_QUALITY):\n",
    "            probs.append(self.get_prob(y,x,print_prob))\n",
    "        max_p=0\n",
    "        max_index=0\n",
    "        for i in range(0,len(probs)):\n",
    "            if probs[i]>max_p:\n",
    "                max_index=i\n",
    "                max_p=probs[i]\n",
    "\n",
    "        return max_index\n",
    "            \n",
    "    P_Y=[]\n",
    "    variance_given_k=[]\n",
    "    mean_given_k=[]\n",
    "    variance=[]\n",
    "    mean=[]\n",
    "    printedRow=False\n",
    "    printedY=False\n",
    "def generate_model(data_in,labels,print_prob=False):\n",
    "    model_out = Model()\n",
    "    filtered_data = filter_data_by_quality(data_in)\n",
    "    variance_given_k = run_on_data(filtered_data,calculate_variance)\n",
    "    mean_given_k = run_on_data(filtered_data,calculate_mean)\n",
    "    variance = []\n",
    "    mean = []\n",
    "    probs = []\n",
    "    \n",
    "    for col in data_in.T[:-1]:\n",
    "        variance.append(calculate_variance(col))\n",
    "        mean.append(calculate_mean(col))\n",
    "\n",
    "    correct = 0\n",
    "    total = 0\n",
    "    y_priors = calculate_y_priors(data_in)\n",
    "    model_out.variance_given_k=variance_given_k\n",
    "    model_out.mean_given_k=mean_given_k\n",
    "    model_out.variance=variance\n",
    "    model_out.mean = mean\n",
    "    model_out.P_Y=y_priors\n",
    "    \n",
    "    if print_prob:\n",
    "        display(Markdown(\"## 2b: Determine the prior for each Yk for the training data.\"))\n",
    "       \n",
    "        for i in range(0,len(y_priors)):\n",
    "            display(Markdown(\"Y=\"+str(i)+\": \"+str(y_priors[i])))\n",
    "        #for i in range(0,)\n",
    "    return model_out\n",
    "def eval_model(model,data_in,labels,print_prob=False):\n",
    "    wrong_num = 0\n",
    "    predicted_data = []\n",
    "    predicted_mat = np.array((0,2))\n",
    "    \n",
    "    for row in data_in:\n",
    "        \n",
    "        predicted = model.get_most_likely(row[:-1],print_prob)\n",
    "        predicted_data.append(predicted)\n",
    "        actual = row[-1]\n",
    "        predicted_mat=np.vstack([predicted_mat,[predicted,actual]])\n",
    "        if(predicted!=int(actual)):\n",
    "            wrong_num+=1\n",
    "    display(Markdown(\"## 2e: Evaluate your model using your training data\"))\n",
    "    display(Markdown(\"Accuracy (%predicted): \"+\n",
    "        str((1.0-float(float(wrong_num)/\n",
    "                       float(data_in.shape[0])))*100)))\n",
    "    \n",
    "    sorted_predicted = []\n",
    "    for i in range(0,10):\n",
    "        sorted_predicted.append([])\n",
    "    stdev=0.0\n",
    "    for row in predicted_mat:\n",
    "        sorted_predicted[int(round(row[1]))].append(row[0])\n",
    "        stdev+=(float(row[1]-row[0]))**2.0\n",
    "    stdev=math.sqrt(stdev/float(data_in.shape[0]))\n",
    "    display(Markdown(\"Accuracy Standard Deviation: \"+str(stdev)))\n",
    "    #print(sorted_predicted)\n",
    "    #print(data)\n",
    "    plt.title(\"Distribution of Predictions\")\n",
    "    plt.xlabel(\"Actual Quality\")\n",
    "    plt.ylabel(\"Guessed Quality\")\n",
    "    plt.boxplot(sorted_predicted,labels=[\"0\",\"1\",\"2\",\"3\",\"4\",\"5\",\"6\",\"7\",\"8\",\"9\"])\n",
    "    plt.show()\n",
    "model = generate_model(my_data,labels,print_prob=True)   \n",
    "eval_model(model,my_data,labels,print_prob=True)\n",
    "    "
   ]
  },
  {
   "cell_type": "markdown",
   "metadata": {},
   "source": [
    "The plot shows a box and whisker plot of the guessed qualities. The orange line is the median and the edges of the boxes are the upper and lower quartiles of the distribution. Circles show outliers.\n",
    "The Predicted data centers around 5. The variance of the predicted data is quite high and this may be caused by noisy input data (as shown above).\n",
    "\n"
   ]
  },
  {
   "cell_type": "markdown",
   "metadata": {},
   "source": [
    "## 2f: Determine the correlation of attributes with each other and assess whether you can fine tune your model by eliminating any attribute(s) to see if you can improve your model.\n",
    "I am removing residual sugar, free sulfur dioxide, density, and ph because these measures are highly correlated to other dimensions. This assertion is supported by the scatter plots shown below."
   ]
  },
  {
   "cell_type": "code",
   "execution_count": 7,
   "metadata": {},
   "outputs": [
    {
     "data": {
      "text/markdown": [
       "### Plotting correlated data (Showing most correlated data)"
      ],
      "text/plain": [
       "<IPython.core.display.Markdown object>"
      ]
     },
     "metadata": {},
     "output_type": "display_data"
    },
    {
     "data": {
      "image/png": "[encoded data removed]",
      "text/plain": [
       "<Figure size 432x288 with 1 Axes>"
      ]
     },
     "metadata": {
      "needs_background": "light"
     },
     "output_type": "display_data"
    },
    {
     "data": {
      "image/png": "[encoded data removed]",
      "text/plain": [
       "<Figure size 432x288 with 1 Axes>"
      ]
     },
     "metadata": {
      "needs_background": "light"
     },
     "output_type": "display_data"
    },
    {
     "data": {
      "image/png": "[encoded data removed]",
      "text/plain": [
       "<Figure size 432x288 with 1 Axes>"
      ]
     },
     "metadata": {
      "needs_background": "light"
     },
     "output_type": "display_data"
    },
    {
     "data": {
      "image/png": "[encoded data removed]",
      "text/plain": [
       "<Figure size 432x288 with 1 Axes>"
      ]
     },
     "metadata": {
      "needs_background": "light"
     },
     "output_type": "display_data"
    },
    {
     "data": {
      "text/markdown": [
       "Removing residual sugar, free sulfur dioxide, density, and pH."
      ],
      "text/plain": [
       "<IPython.core.display.Markdown object>"
      ]
     },
     "metadata": {},
     "output_type": "display_data"
    },
    {
     "data": {
      "text/markdown": [
       "## 2e: Evaluate your model using your training data"
      ],
      "text/plain": [
       "<IPython.core.display.Markdown object>"
      ]
     },
     "metadata": {},
     "output_type": "display_data"
    },
    {
     "data": {
      "text/markdown": [
       "Accuracy (%predicted): 50.53598774885146"
      ],
      "text/plain": [
       "<IPython.core.display.Markdown object>"
      ]
     },
     "metadata": {},
     "output_type": "display_data"
    },
    {
     "data": {
      "text/markdown": [
       "Accuracy Standard Deviation: 0.8940846954135504"
      ],
      "text/plain": [
       "<IPython.core.display.Markdown object>"
      ]
     },
     "metadata": {},
     "output_type": "display_data"
    },
    {
     "data": {
      "image/png": "[encoded data removed]",
      "text/plain": [
       "<Figure size 432x288 with 1 Axes>"
      ]
     },
     "metadata": {
      "needs_background": "light"
     },
     "output_type": "display_data"
    }
   ],
   "source": [
    "def plot_versus(data,x,y):   \n",
    "    plt.title(labels[x]+\" vs \"+labels[y])\n",
    "    plt.xlabel(labels[x])\n",
    "    plt.ylabel(labels[y])\n",
    "    plt.scatter(my_data[:,x],my_data[:,y])\n",
    "    plt.show()\n",
    "display(Markdown(\"### Plotting correlated data (Showing most correlated data)\"))\n",
    "plot_versus(my_data,3,7)\n",
    "plot_versus(my_data,5,6)\n",
    "plot_versus(my_data,7,6)\n",
    "plot_versus(my_data,8,0)\n",
    "plt.show()\n",
    "display(Markdown(\"Removing residual sugar, free sulfur dioxide, density, and pH.\"))\n",
    "edited_labels = labels.copy()\n",
    "edited_data = np.delete(my_data,8,1)\n",
    "edited_labels.pop(8)\n",
    "\n",
    "edited_data = np.delete(edited_data,7,1)\n",
    "edited_labels.pop(7)\n",
    "edited_data = np.delete(edited_data,5,1)\n",
    "edited_labels.pop(5)\n",
    "edited_data = np.delete(edited_data,3,1)\n",
    "edited_labels.pop(3)\n",
    "model = generate_model(edited_data,edited_labels)\n",
    "eval_model(model,edited_data,edited_labels)"
   ]
  },
  {
   "cell_type": "markdown",
   "metadata": {},
   "source": [
    "The prediction accuracy improved by approximately 1 percent. This is likely caused by interdependencies being removed from the dataset. Same notation for whisker plot as above."
   ]
  },
  {
   "cell_type": "markdown",
   "metadata": {},
   "source": [
    "## 2g: Evaluate your model with your test data and discuss your results\n",
    "The accuracy values apply to the training model applied to the test dataset"
   ]
  },
  {
   "cell_type": "code",
   "execution_count": 8,
   "metadata": {},
   "outputs": [
    {
     "data": {
      "text/markdown": [
       "## 2e: Evaluate your model using your training data"
      ],
      "text/plain": [
       "<IPython.core.display.Markdown object>"
      ]
     },
     "metadata": {},
     "output_type": "display_data"
    },
    {
     "data": {
      "text/markdown": [
       "Accuracy (%predicted): 50.40816326530613"
      ],
      "text/plain": [
       "<IPython.core.display.Markdown object>"
      ]
     },
     "metadata": {},
     "output_type": "display_data"
    },
    {
     "data": {
      "text/markdown": [
       "Accuracy Standard Deviation: 0.9519046427975818"
      ],
      "text/plain": [
       "<IPython.core.display.Markdown object>"
      ]
     },
     "metadata": {},
     "output_type": "display_data"
    },
    {
     "data": {
      "image/png": "[encoded data removed]",
      "text/plain": [
       "<Figure size 432x288 with 1 Axes>"
      ]
     },
     "metadata": {
      "needs_background": "light"
     },
     "output_type": "display_data"
    }
   ],
   "source": [
    "test_labels = []\n",
    "test_data = []\n",
    "with open(\"wine_test_set.csv\") as csv_file:\n",
    "    test_data = csv.reader(csv_file, delimiter=',', quotechar='|')\n",
    "    test_labels = test_data.__next__()\n",
    "test_data = np.loadtxt('wine_test_set.csv', delimiter=',',skiprows=1)\n",
    "model = generate_model(my_data,labels)\n",
    "eval_model(model,test_data,test_labels)"
   ]
  },
  {
   "cell_type": "markdown",
   "metadata": {},
   "source": [
    "The test data's accuracy is very close to the training data. This indicates that there is little overfitting. "
   ]
  },
  {
   "cell_type": "markdown",
   "metadata": {},
   "source": [
    "## 2h: Select a smaller training set of 1000 records and a smaller set (100 records) offrom the entire set of data. Complete the same steps (steps a through g) as before. Compare the results from the smaller training set with the larger training set. Describe how you selected the smaller set and explain why the results are similar or different.\n",
    "I grabbed the first 1000 and 100 entries in the test dataset. "
   ]
  },
  {
   "cell_type": "code",
   "execution_count": 9,
   "metadata": {},
   "outputs": [
    {
     "data": {
      "text/markdown": [
       "# 1000 Entries"
      ],
      "text/plain": [
       "<IPython.core.display.Markdown object>"
      ]
     },
     "metadata": {},
     "output_type": "display_data"
    },
    {
     "data": {
      "image/png": "[encoded data removed]",
      "text/plain": [
       "<Figure size 432x288 with 1 Axes>"
      ]
     },
     "metadata": {
      "needs_background": "light"
     },
     "output_type": "display_data"
    },
    {
     "data": {
      "image/png": "[encoded data removed]",
      "text/plain": [
       "<Figure size 432x288 with 1 Axes>"
      ]
     },
     "metadata": {
      "needs_background": "light"
     },
     "output_type": "display_data"
    },
    {
     "data": {
      "image/png": "[encoded data removed]",
      "text/plain": [
       "<Figure size 432x288 with 1 Axes>"
      ]
     },
     "metadata": {
      "needs_background": "light"
     },
     "output_type": "display_data"
    },
    {
     "data": {
      "image/png": "[encoded data removed]",
      "text/plain": [
       "<Figure size 432x288 with 1 Axes>"
      ]
     },
     "metadata": {
      "needs_background": "light"
     },
     "output_type": "display_data"
    },
    {
     "data": {
      "image/png": "[encoded data removed]",
      "text/plain": [
       "<Figure size 432x288 with 1 Axes>"
      ]
     },
     "metadata": {
      "needs_background": "light"
     },
     "output_type": "display_data"
    },
    {
     "data": {
      "image/png": "[encoded data removed]",
      "text/plain": [
       "<Figure size 432x288 with 1 Axes>"
      ]
     },
     "metadata": {
      "needs_background": "light"
     },
     "output_type": "display_data"
    },
    {
     "data": {
      "image/png": "[encoded data removed]",
      "text/plain": [
       "<Figure size 432x288 with 1 Axes>"
      ]
     },
     "metadata": {
      "needs_background": "light"
     },
     "output_type": "display_data"
    },
    {
     "data": {
      "image/png": "[encoded data removed]",
      "text/plain": [
       "<Figure size 432x288 with 1 Axes>"
      ]
     },
     "metadata": {
      "needs_background": "light"
     },
     "output_type": "display_data"
    },
    {
     "data": {
      "image/png": "[encoded data removed]",
      "text/plain": [
       "<Figure size 432x288 with 1 Axes>"
      ]
     },
     "metadata": {
      "needs_background": "light"
     },
     "output_type": "display_data"
    },
    {
     "data": {
      "image/png": "[encoded data removed]",
      "text/plain": [
       "<Figure size 432x288 with 1 Axes>"
      ]
     },
     "metadata": {
      "needs_background": "light"
     },
     "output_type": "display_data"
    },
    {
     "data": {
      "text/markdown": [
       "## 2b: Determine the prior for each Yk for the training data."
      ],
      "text/plain": [
       "<IPython.core.display.Markdown object>"
      ]
     },
     "metadata": {},
     "output_type": "display_data"
    },
    {
     "data": {
      "text/markdown": [
       "Y=0: 0.0"
      ],
      "text/plain": [
       "<IPython.core.display.Markdown object>"
      ]
     },
     "metadata": {},
     "output_type": "display_data"
    },
    {
     "data": {
      "text/markdown": [
       "Y=1: 0.0"
      ],
      "text/plain": [
       "<IPython.core.display.Markdown object>"
      ]
     },
     "metadata": {},
     "output_type": "display_data"
    },
    {
     "data": {
      "text/markdown": [
       "Y=2: 0.0"
      ],
      "text/plain": [
       "<IPython.core.display.Markdown object>"
      ]
     },
     "metadata": {},
     "output_type": "display_data"
    },
    {
     "data": {
      "text/markdown": [
       "Y=3: 0.016"
      ],
      "text/plain": [
       "<IPython.core.display.Markdown object>"
      ]
     },
     "metadata": {},
     "output_type": "display_data"
    },
    {
     "data": {
      "text/markdown": [
       "Y=4: 0.13"
      ],
      "text/plain": [
       "<IPython.core.display.Markdown object>"
      ]
     },
     "metadata": {},
     "output_type": "display_data"
    },
    {
     "data": {
      "text/markdown": [
       "Y=5: 1.166"
      ],
      "text/plain": [
       "<IPython.core.display.Markdown object>"
      ]
     },
     "metadata": {},
     "output_type": "display_data"
    },
    {
     "data": {
      "text/markdown": [
       "Y=6: 1.758"
      ],
      "text/plain": [
       "<IPython.core.display.Markdown object>"
      ]
     },
     "metadata": {},
     "output_type": "display_data"
    },
    {
     "data": {
      "text/markdown": [
       "Y=7: 0.704"
      ],
      "text/plain": [
       "<IPython.core.display.Markdown object>"
      ]
     },
     "metadata": {},
     "output_type": "display_data"
    },
    {
     "data": {
      "text/markdown": [
       "Y=8: 0.14"
      ],
      "text/plain": [
       "<IPython.core.display.Markdown object>"
      ]
     },
     "metadata": {},
     "output_type": "display_data"
    },
    {
     "data": {
      "text/markdown": [
       "Y=9: 0.004"
      ],
      "text/plain": [
       "<IPython.core.display.Markdown object>"
      ]
     },
     "metadata": {},
     "output_type": "display_data"
    },
    {
     "data": {
      "text/markdown": [
       "## 2c: Determine the probability of the evidence for each Xi for the training data"
      ],
      "text/plain": [
       "<IPython.core.display.Markdown object>"
      ]
     },
     "metadata": {},
     "output_type": "display_data"
    },
    {
     "data": {
      "text/markdown": [
       "I do not fully understand what exactly the questions b. and c. are asking for. I am providing the                         first row of probabilities for the dataset"
      ],
      "text/plain": [
       "<IPython.core.display.Markdown object>"
      ]
     },
     "metadata": {},
     "output_type": "display_data"
    },
    {
     "data": {
      "text/markdown": [
       "x[0]: 0.6783189432338398"
      ],
      "text/plain": [
       "<IPython.core.display.Markdown object>"
      ]
     },
     "metadata": {},
     "output_type": "display_data"
    },
    {
     "data": {
      "text/markdown": [
       "x[1]: 0.4526643586736256"
      ],
      "text/plain": [
       "<IPython.core.display.Markdown object>"
      ]
     },
     "metadata": {},
     "output_type": "display_data"
    },
    {
     "data": {
      "text/markdown": [
       "x[2]: 0.3515880795865341"
      ],
      "text/plain": [
       "<IPython.core.display.Markdown object>"
      ]
     },
     "metadata": {},
     "output_type": "display_data"
    },
    {
     "data": {
      "text/markdown": [
       "x[3]: 0.7070213601415024"
      ],
      "text/plain": [
       "<IPython.core.display.Markdown object>"
      ]
     },
     "metadata": {},
     "output_type": "display_data"
    },
    {
     "data": {
      "text/markdown": [
       "x[4]: 0.5426799202464917"
      ],
      "text/plain": [
       "<IPython.core.display.Markdown object>"
      ]
     },
     "metadata": {},
     "output_type": "display_data"
    },
    {
     "data": {
      "text/markdown": [
       "x[5]: 0.5423072805555482"
      ],
      "text/plain": [
       "<IPython.core.display.Markdown object>"
      ]
     },
     "metadata": {},
     "output_type": "display_data"
    },
    {
     "data": {
      "text/markdown": [
       "x[6]: 0.6774221107916872"
      ],
      "text/plain": [
       "<IPython.core.display.Markdown object>"
      ]
     },
     "metadata": {},
     "output_type": "display_data"
    },
    {
     "data": {
      "text/markdown": [
       "x[7]: 0.6402140863432529"
      ],
      "text/plain": [
       "<IPython.core.display.Markdown object>"
      ]
     },
     "metadata": {},
     "output_type": "display_data"
    },
    {
     "data": {
      "text/markdown": [
       "x[8]: 0.6687982485815968"
      ],
      "text/plain": [
       "<IPython.core.display.Markdown object>"
      ]
     },
     "metadata": {},
     "output_type": "display_data"
    },
    {
     "data": {
      "text/markdown": [
       "x[9]: 0.6605013221760951"
      ],
      "text/plain": [
       "<IPython.core.display.Markdown object>"
      ]
     },
     "metadata": {},
     "output_type": "display_data"
    },
    {
     "data": {
      "text/markdown": [
       "x[10]: 0.5360530267352784"
      ],
      "text/plain": [
       "<IPython.core.display.Markdown object>"
      ]
     },
     "metadata": {},
     "output_type": "display_data"
    },
    {
     "data": {
      "text/markdown": [
       "## 2d: Determine the probability of the likelihood of evidence for each Xi for the training data."
      ],
      "text/plain": [
       "<IPython.core.display.Markdown object>"
      ]
     },
     "metadata": {},
     "output_type": "display_data"
    },
    {
     "data": {
      "text/markdown": [
       "x[0|Y=5]: 0.6518155052463586"
      ],
      "text/plain": [
       "<IPython.core.display.Markdown object>"
      ]
     },
     "metadata": {},
     "output_type": "display_data"
    },
    {
     "data": {
      "text/markdown": [
       "x[1|Y=5]: 0.5455275087916432"
      ],
      "text/plain": [
       "<IPython.core.display.Markdown object>"
      ]
     },
     "metadata": {},
     "output_type": "display_data"
    },
    {
     "data": {
      "text/markdown": [
       "x[2|Y=5]: 0.43736402818643694"
      ],
      "text/plain": [
       "<IPython.core.display.Markdown object>"
      ]
     },
     "metadata": {},
     "output_type": "display_data"
    },
    {
     "data": {
      "text/markdown": [
       "x[3|Y=5]: 0.7013498175109735"
      ],
      "text/plain": [
       "<IPython.core.display.Markdown object>"
      ]
     },
     "metadata": {},
     "output_type": "display_data"
    },
    {
     "data": {
      "text/markdown": [
       "x[4|Y=5]: 0.6743906374502138"
      ],
      "text/plain": [
       "<IPython.core.display.Markdown object>"
      ]
     },
     "metadata": {},
     "output_type": "display_data"
    },
    {
     "data": {
      "text/markdown": [
       "x[5|Y=5]: 0.5306235746570996"
      ],
      "text/plain": [
       "<IPython.core.display.Markdown object>"
      ]
     },
     "metadata": {},
     "output_type": "display_data"
    },
    {
     "data": {
      "text/markdown": [
       "x[6|Y=5]: 0.7069291623637484"
      ],
      "text/plain": [
       "<IPython.core.display.Markdown object>"
      ]
     },
     "metadata": {},
     "output_type": "display_data"
    },
    {
     "data": {
      "text/markdown": [
       "x[7|Y=5]: 0.7046684004848682"
      ],
      "text/plain": [
       "<IPython.core.display.Markdown object>"
      ]
     },
     "metadata": {},
     "output_type": "display_data"
    },
    {
     "data": {
      "text/markdown": [
       "x[8|Y=5]: 0.690966476618815"
      ],
      "text/plain": [
       "<IPython.core.display.Markdown object>"
      ]
     },
     "metadata": {},
     "output_type": "display_data"
    },
    {
     "data": {
      "text/markdown": [
       "x[9|Y=5]: 0.6711980268580826"
      ],
      "text/plain": [
       "<IPython.core.display.Markdown object>"
      ]
     },
     "metadata": {},
     "output_type": "display_data"
    },
    {
     "data": {
      "text/markdown": [
       "x[10|Y=5]: 0.6782547676192148"
      ],
      "text/plain": [
       "<IPython.core.display.Markdown object>"
      ]
     },
     "metadata": {},
     "output_type": "display_data"
    },
    {
     "data": {
      "text/markdown": [
       "## 2e: Evaluate your model using your training data"
      ],
      "text/plain": [
       "<IPython.core.display.Markdown object>"
      ]
     },
     "metadata": {},
     "output_type": "display_data"
    },
    {
     "data": {
      "text/markdown": [
       "Accuracy (%predicted): 45.40816326530612"
      ],
      "text/plain": [
       "<IPython.core.display.Markdown object>"
      ]
     },
     "metadata": {},
     "output_type": "display_data"
    },
    {
     "data": {
      "text/markdown": [
       "Accuracy Standard Deviation: 1.0536622236906157"
      ],
      "text/plain": [
       "<IPython.core.display.Markdown object>"
      ]
     },
     "metadata": {},
     "output_type": "display_data"
    },
    {
     "data": {
      "image/png": "[encoded data removed]",
      "text/plain": [
       "<Figure size 432x288 with 1 Axes>"
      ]
     },
     "metadata": {
      "needs_background": "light"
     },
     "output_type": "display_data"
    },
    {
     "data": {
      "text/markdown": [
       "# 100 Entries"
      ],
      "text/plain": [
       "<IPython.core.display.Markdown object>"
      ]
     },
     "metadata": {},
     "output_type": "display_data"
    },
    {
     "data": {
      "image/png": "[encoded data removed]",
      "text/plain": [
       "<Figure size 432x288 with 1 Axes>"
      ]
     },
     "metadata": {
      "needs_background": "light"
     },
     "output_type": "display_data"
    },
    {
     "data": {
      "image/png": "[encoded data removed]",
      "text/plain": [
       "<Figure size 432x288 with 1 Axes>"
      ]
     },
     "metadata": {
      "needs_background": "light"
     },
     "output_type": "display_data"
    },
    {
     "data": {
      "image/png": "[encoded data removed]",
      "text/plain": [
       "<Figure size 432x288 with 1 Axes>"
      ]
     },
     "metadata": {
      "needs_background": "light"
     },
     "output_type": "display_data"
    },
    {
     "data": {
      "image/png": "[encoded data removed]",
      "text/plain": [
       "<Figure size 432x288 with 1 Axes>"
      ]
     },
     "metadata": {
      "needs_background": "light"
     },
     "output_type": "display_data"
    },
    {
     "data": {
      "image/png": "[encoded data removed]",
      "text/plain": [
       "<Figure size 432x288 with 1 Axes>"
      ]
     },
     "metadata": {
      "needs_background": "light"
     },
     "output_type": "display_data"
    },
    {
     "data": {
      "image/png": "[encoded data removed]",
      "text/plain": [
       "<Figure size 432x288 with 1 Axes>"
      ]
     },
     "metadata": {
      "needs_background": "light"
     },
     "output_type": "display_data"
    },
    {
     "data": {
      "image/png": "[encoded data removed]",
      "text/plain": [
       "<Figure size 432x288 with 1 Axes>"
      ]
     },
     "metadata": {
      "needs_background": "light"
     },
     "output_type": "display_data"
    },
    {
     "data": {
      "image/png": "[encoded data removed]",
      "text/plain": [
       "<Figure size 432x288 with 1 Axes>"
      ]
     },
     "metadata": {
      "needs_background": "light"
     },
     "output_type": "display_data"
    },
    {
     "data": {
      "image/png": "[encoded data removed]",
      "text/plain": [
       "<Figure size 432x288 with 1 Axes>"
      ]
     },
     "metadata": {
      "needs_background": "light"
     },
     "output_type": "display_data"
    },
    {
     "data": {
      "image/png": "[encoded data removed]",
      "text/plain": [
       "<Figure size 432x288 with 1 Axes>"
      ]
     },
     "metadata": {
      "needs_background": "light"
     },
     "output_type": "display_data"
    },
    {
     "data": {
      "text/markdown": [
       "## 2b: Determine the prior for each Yk for the training data."
      ],
      "text/plain": [
       "<IPython.core.display.Markdown object>"
      ]
     },
     "metadata": {},
     "output_type": "display_data"
    },
    {
     "data": {
      "text/markdown": [
       "Y=0: 0.0"
      ],
      "text/plain": [
       "<IPython.core.display.Markdown object>"
      ]
     },
     "metadata": {},
     "output_type": "display_data"
    },
    {
     "data": {
      "text/markdown": [
       "Y=1: 0.0"
      ],
      "text/plain": [
       "<IPython.core.display.Markdown object>"
      ]
     },
     "metadata": {},
     "output_type": "display_data"
    },
    {
     "data": {
      "text/markdown": [
       "Y=2: 0.0"
      ],
      "text/plain": [
       "<IPython.core.display.Markdown object>"
      ]
     },
     "metadata": {},
     "output_type": "display_data"
    },
    {
     "data": {
      "text/markdown": [
       "Y=3: 0.16"
      ],
      "text/plain": [
       "<IPython.core.display.Markdown object>"
      ]
     },
     "metadata": {},
     "output_type": "display_data"
    },
    {
     "data": {
      "text/markdown": [
       "Y=4: 1.3"
      ],
      "text/plain": [
       "<IPython.core.display.Markdown object>"
      ]
     },
     "metadata": {},
     "output_type": "display_data"
    },
    {
     "data": {
      "text/markdown": [
       "Y=5: 11.66"
      ],
      "text/plain": [
       "<IPython.core.display.Markdown object>"
      ]
     },
     "metadata": {},
     "output_type": "display_data"
    },
    {
     "data": {
      "text/markdown": [
       "Y=6: 17.58"
      ],
      "text/plain": [
       "<IPython.core.display.Markdown object>"
      ]
     },
     "metadata": {},
     "output_type": "display_data"
    },
    {
     "data": {
      "text/markdown": [
       "Y=7: 7.04"
      ],
      "text/plain": [
       "<IPython.core.display.Markdown object>"
      ]
     },
     "metadata": {},
     "output_type": "display_data"
    },
    {
     "data": {
      "text/markdown": [
       "Y=8: 1.4"
      ],
      "text/plain": [
       "<IPython.core.display.Markdown object>"
      ]
     },
     "metadata": {},
     "output_type": "display_data"
    },
    {
     "data": {
      "text/markdown": [
       "Y=9: 0.04"
      ],
      "text/plain": [
       "<IPython.core.display.Markdown object>"
      ]
     },
     "metadata": {},
     "output_type": "display_data"
    },
    {
     "data": {
      "text/markdown": [
       "## 2c: Determine the probability of the evidence for each Xi for the training data"
      ],
      "text/plain": [
       "<IPython.core.display.Markdown object>"
      ]
     },
     "metadata": {},
     "output_type": "display_data"
    },
    {
     "data": {
      "text/markdown": [
       "I do not fully understand what exactly the questions b. and c. are asking for. I am providing the                         first row of probabilities for the dataset"
      ],
      "text/plain": [
       "<IPython.core.display.Markdown object>"
      ]
     },
     "metadata": {},
     "output_type": "display_data"
    },
    {
     "data": {
      "text/markdown": [
       "x[0]: 0.6960438843637623"
      ],
      "text/plain": [
       "<IPython.core.display.Markdown object>"
      ]
     },
     "metadata": {},
     "output_type": "display_data"
    },
    {
     "data": {
      "text/markdown": [
       "x[1]: 0.4663880286566022"
      ],
      "text/plain": [
       "<IPython.core.display.Markdown object>"
      ]
     },
     "metadata": {},
     "output_type": "display_data"
    },
    {
     "data": {
      "text/markdown": [
       "x[2]: 0.3085493675353161"
      ],
      "text/plain": [
       "<IPython.core.display.Markdown object>"
      ]
     },
     "metadata": {},
     "output_type": "display_data"
    },
    {
     "data": {
      "text/markdown": [
       "x[3]: 0.706062428923512"
      ],
      "text/plain": [
       "<IPython.core.display.Markdown object>"
      ]
     },
     "metadata": {},
     "output_type": "display_data"
    },
    {
     "data": {
      "text/markdown": [
       "x[4]: 0.5212106544348741"
      ],
      "text/plain": [
       "<IPython.core.display.Markdown object>"
      ]
     },
     "metadata": {},
     "output_type": "display_data"
    },
    {
     "data": {
      "text/markdown": [
       "x[5]: 0.5422309341215179"
      ],
      "text/plain": [
       "<IPython.core.display.Markdown object>"
      ]
     },
     "metadata": {},
     "output_type": "display_data"
    },
    {
     "data": {
      "text/markdown": [
       "x[6]: 0.6442447006555166"
      ],
      "text/plain": [
       "<IPython.core.display.Markdown object>"
      ]
     },
     "metadata": {},
     "output_type": "display_data"
    },
    {
     "data": {
      "text/markdown": [
       "x[7]: 0.5876783184716075"
      ],
      "text/plain": [
       "<IPython.core.display.Markdown object>"
      ]
     },
     "metadata": {},
     "output_type": "display_data"
    },
    {
     "data": {
      "text/markdown": [
       "x[8]: 0.676977265673423"
      ],
      "text/plain": [
       "<IPython.core.display.Markdown object>"
      ]
     },
     "metadata": {},
     "output_type": "display_data"
    },
    {
     "data": {
      "text/markdown": [
       "x[9]: 0.6179469559147714"
      ],
      "text/plain": [
       "<IPython.core.display.Markdown object>"
      ]
     },
     "metadata": {},
     "output_type": "display_data"
    },
    {
     "data": {
      "text/markdown": [
       "x[10]: 0.4822511159458443"
      ],
      "text/plain": [
       "<IPython.core.display.Markdown object>"
      ]
     },
     "metadata": {},
     "output_type": "display_data"
    },
    {
     "data": {
      "text/markdown": [
       "## 2d: Determine the probability of the likelihood of evidence for each Xi for the training data."
      ],
      "text/plain": [
       "<IPython.core.display.Markdown object>"
      ]
     },
     "metadata": {},
     "output_type": "display_data"
    },
    {
     "data": {
      "text/markdown": [
       "x[0|Y=5]: 0.6474404524347576"
      ],
      "text/plain": [
       "<IPython.core.display.Markdown object>"
      ]
     },
     "metadata": {},
     "output_type": "display_data"
    },
    {
     "data": {
      "text/markdown": [
       "x[1|Y=5]: 0.36042765064069515"
      ],
      "text/plain": [
       "<IPython.core.display.Markdown object>"
      ]
     },
     "metadata": {},
     "output_type": "display_data"
    },
    {
     "data": {
      "text/markdown": [
       "x[2|Y=5]: 0.23846989051721726"
      ],
      "text/plain": [
       "<IPython.core.display.Markdown object>"
      ]
     },
     "metadata": {},
     "output_type": "display_data"
    },
    {
     "data": {
      "text/markdown": [
       "x[3|Y=5]: 0.700385518330386"
      ],
      "text/plain": [
       "<IPython.core.display.Markdown object>"
      ]
     },
     "metadata": {},
     "output_type": "display_data"
    },
    {
     "data": {
      "text/markdown": [
       "x[4|Y=5]: 0.6797196090934556"
      ],
      "text/plain": [
       "<IPython.core.display.Markdown object>"
      ]
     },
     "metadata": {},
     "output_type": "display_data"
    },
    {
     "data": {
      "text/markdown": [
       "x[5|Y=5]: 0.5213922996652556"
      ],
      "text/plain": [
       "<IPython.core.display.Markdown object>"
      ]
     },
     "metadata": {},
     "output_type": "display_data"
    },
    {
     "data": {
      "text/markdown": [
       "x[6|Y=5]: 0.7069437937209714"
      ],
      "text/plain": [
       "<IPython.core.display.Markdown object>"
      ]
     },
     "metadata": {},
     "output_type": "display_data"
    },
    {
     "data": {
      "text/markdown": [
       "x[7|Y=5]: 0.7009398601525403"
      ],
      "text/plain": [
       "<IPython.core.display.Markdown object>"
      ]
     },
     "metadata": {},
     "output_type": "display_data"
    },
    {
     "data": {
      "text/markdown": [
       "x[8|Y=5]: 0.6908411063173535"
      ],
      "text/plain": [
       "<IPython.core.display.Markdown object>"
      ]
     },
     "metadata": {},
     "output_type": "display_data"
    },
    {
     "data": {
      "text/markdown": [
       "x[9|Y=5]: 0.610640749500758"
      ],
      "text/plain": [
       "<IPython.core.display.Markdown object>"
      ]
     },
     "metadata": {},
     "output_type": "display_data"
    },
    {
     "data": {
      "text/markdown": [
       "x[10|Y=5]: 0.6730788072729955"
      ],
      "text/plain": [
       "<IPython.core.display.Markdown object>"
      ]
     },
     "metadata": {},
     "output_type": "display_data"
    },
    {
     "data": {
      "text/markdown": [
       "## 2e: Evaluate your model using your training data"
      ],
      "text/plain": [
       "<IPython.core.display.Markdown object>"
      ]
     },
     "metadata": {},
     "output_type": "display_data"
    },
    {
     "data": {
      "text/markdown": [
       "Accuracy (%predicted): 46.93877551020408"
      ],
      "text/plain": [
       "<IPython.core.display.Markdown object>"
      ]
     },
     "metadata": {},
     "output_type": "display_data"
    },
    {
     "data": {
      "text/markdown": [
       "Accuracy Standard Deviation: 1.1000927604673403"
      ],
      "text/plain": [
       "<IPython.core.display.Markdown object>"
      ]
     },
     "metadata": {},
     "output_type": "display_data"
    },
    {
     "data": {
      "image/png": "[encoded data removed]",
      "text/plain": [
       "<Figure size 432x288 with 1 Axes>"
      ]
     },
     "metadata": {
      "needs_background": "light"
     },
     "output_type": "display_data"
    }
   ],
   "source": [
    "display(Markdown(\"# 1000 Entries\"))\n",
    "thousand_data = my_data[0:1000]\n",
    "give_summary(thousand_data)\n",
    "model=generate_model(thousand_data,labels,print_prob=True)\n",
    "eval_model(model,test_data,labels,print_prob=True)\n",
    "display(Markdown(\"# 100 Entries\"))\n",
    "\n",
    "hundred_data = my_data[0:100]\n",
    "give_summary(hundred_data)\n",
    "model=generate_model(hundred_data,labels,print_prob=True)\n",
    "eval_model(model,test_data,labels,print_prob=True)"
   ]
  },
  {
   "cell_type": "markdown",
   "metadata": {},
   "source": [
    "The prediction quality slightly worsened when moving from the full dataset  to 1000 entries and even more when moving to 100 entries. This is likely caused by the data being very noisy and showing little consistent  trends for each dimension in the dataset.\n"
   ]
  },
  {
   "cell_type": "markdown",
   "metadata": {},
   "source": [
    "# Conclusions\n",
    "The quality of predictions changed very little when the dataset changed in size. This is likely due to the noise on each of the input dimensions being high. A solution could be to collect more kinds of data on wine. Another explanation may be that the quality of wine depended on some random factor such as the tastes of the person judging quality."
   ]
  }
 ],
 "metadata": {
  "hide_input": false,
  "kernelspec": {
   "display_name": "Python 3",
   "language": "python",
   "name": "python3"
  },
  "language_info": {
   "codemirror_mode": {
    "name": "ipython",
    "version": 3
   },
   "file_extension": ".py",
   "mimetype": "text/x-python",
   "name": "python",
   "nbconvert_exporter": "python",
   "pygments_lexer": "ipython3",
   "version": "3.7.3"
  }
 },
 "nbformat": 4,
 "nbformat_minor": 2
}
