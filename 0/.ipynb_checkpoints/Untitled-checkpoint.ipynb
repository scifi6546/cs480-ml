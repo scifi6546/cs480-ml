{
 "cells": [
  {
   "cell_type": "code",
   "execution_count": 1,
   "metadata": {},
   "outputs": [
    {
     "name": "stdout",
     "output_type": "stream",
     "text": [
      "['fixed acidity', 'volatile acidity', 'citric acid', 'residual sugar', 'chlorides', 'free sulfur dioxide', 'total sulfur dioxide', 'density', 'pH', 'sulphates', 'alcohol', 'quality']\n",
      "[[ 5.6   0.21  0.24 ...  0.31 11.5   7.  ]\n",
      " [ 6.2   0.3   0.31 ...  0.39 12.9   7.  ]\n",
      " [ 6.4   0.27  0.32 ...  0.48  9.4   5.  ]\n",
      " ...\n",
      " [ 8.9   0.32  0.49 ...  0.34  9.4   5.  ]\n",
      " [ 6.4   0.25  0.32 ...  0.58 10.8   7.  ]\n",
      " [ 7.7   0.38  0.23 ...  0.41 13.6   6.  ]]\n"
     ]
    }
   ],
   "source": [
    "import numpy as np\n",
    "import csv\n",
    "labels=[]\n",
    "with open(\"wine_train_set.csv\") as csv_file:\n",
    "    train_data = csv.reader(csv_file, delimiter=',', quotechar='|')\n",
    "    labels = train_data.__next__()\n",
    "print(labels)\n",
    "my_data = np.loadtxt('wine_train_set.csv', delimiter=',',skiprows=1)\n",
    "print(my_data)"
   ]
  },
  {
   "cell_type": "code",
   "execution_count": 12,
   "metadata": {},
   "outputs": [],
   "source": [
    "Y_Number=[]\n",
    "for i in range(0,10):\n",
    "    Y_Number.append(0)"
   ]
  },
  {
   "cell_type": "code",
   "execution_count": 13,
   "metadata": {},
   "outputs": [
    {
     "name": "stdout",
     "output_type": "stream",
     "text": [
      "[0, 0, 0, 16, 130, 1166, 1758, 704, 140, 4]\n"
     ]
    }
   ],
   "source": [
    "for row in my_data:\n",
    "    data = row[11]\n",
    "    Y_Number[(int(data))]+=1\n",
    "print(Y_Number)"
   ]
  },
  {
   "cell_type": "code",
   "execution_count": 16,
   "metadata": {},
   "outputs": [
    {
     "name": "stdout",
     "output_type": "stream",
     "text": [
      "Y prior 0: 0.0\n",
      "Y prior 1: 0.0\n",
      "Y prior 2: 0.0\n",
      "Y prior 3: 0.00408371618172537\n",
      "Y prior 4: 0.033180193976518634\n",
      "Y prior 5: 0.29760081674323635\n",
      "Y prior 6: 0.44869831546707506\n",
      "Y prior 7: 0.17968351199591628\n",
      "Y prior 8: 0.03573251659009699\n",
      "Y prior 9: 0.0010209290454313426\n"
     ]
    }
   ],
   "source": [
    "Y_Prior=[]\n",
    "num_samples = my_data.shape[0]\n",
    "for i in range(0,10):\n",
    "    Y_Prior.append(0)\n",
    "for i in range(0,10):\n",
    "    Y_Prior[i]=Y_Number[i]/num_samples\n",
    "    print(\"Y prior \"+str(i)+\": \"+ str(Y_Prior[i]))"
   ]
  },
  {
   "cell_type": "code",
   "execution_count": null,
   "metadata": {},
   "outputs": [],
   "source": []
  }
 ],
 "metadata": {
  "hide_input": false,
  "kernelspec": {
   "display_name": "Python 3",
   "language": "python",
   "name": "python3"
  },
  "language_info": {
   "codemirror_mode": {
    "name": "ipython",
    "version": 3
   },
   "file_extension": ".py",
   "mimetype": "text/x-python",
   "name": "python",
   "nbconvert_exporter": "python",
   "pygments_lexer": "ipython3",
   "version": "3.7.3"
  }
 },
 "nbformat": 4,
 "nbformat_minor": 2
}
