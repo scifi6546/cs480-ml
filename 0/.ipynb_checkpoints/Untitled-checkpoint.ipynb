{
 "cells": [
  {
   "cell_type": "code",
   "execution_count": 16,
   "metadata": {},
   "outputs": [],
   "source": [
    "import numpy as np\n",
    "import csv\n",
    "import math"
   ]
  },
  {
   "cell_type": "markdown",
   "metadata": {},
   "source": [
    "# Part 1\n"
   ]
  },
  {
   "cell_type": "markdown",
   "metadata": {},
   "source": [
    "|Size |Orbit|habitable | Count|\n",
    "|-----|-----|----------|------|\n",
    "|big|near|yes|20|\n",
    "|big|far|yes|170|\n",
    "|small|near|yes|139|\n",
    "|small|far|yes|45|\n",
    "|big|near|no|130|\n",
    "|big|far|no|30|\n",
    "|small|near|no|11|\n",
    "|small|far|no|255|"
   ]
  },
  {
   "cell_type": "code",
   "execution_count": 23,
   "metadata": {},
   "outputs": [
    {
     "name": "stdout",
     "output_type": "stream",
     "text": [
      "0.9886994082884974\n",
      "0.9544340029249649\n",
      "0.9969501570069956\n"
     ]
    }
   ],
   "source": [
    "tree_data = np.array([[1,0,1,20],\n",
    "                      [1,1,1,170],\n",
    "                      [0,0,1,139],\n",
    "                      [0,1,1,45],\n",
    "                      [1,0,0,130],\n",
    "                      [1,1,0,30],\n",
    "                      [0,0,0,11],\n",
    "                      [0,1,0,255]\n",
    "                     ])\n",
    "def calculate_entropy(col_num,data):\n",
    "    pos_instances = 0\n",
    "    neg_instances = 0\n",
    "    for row in data:\n",
    "        #is habitible\n",
    "        if(row[-2]==1):\n",
    "            pos_instances+=row[3]\n",
    "        else:\n",
    "            neg_instances+=row[3]\n",
    "    total = pos_instances+neg_instances\n",
    "    p_p = float(pos_instances)/float(total)\n",
    "    p_n = float(neg_instances)/float(total)\n",
    "    return -1.0*p_p*math.log(p_p,2)-1.0*p_n*math.log(p_n,2)\n",
    "print(calculate_entropy(0,tree_data))\n",
    "print(calculate_entropy(1,tree_data))\n",
    "print(calculate_entropy(2,tree_data))\n",
    "        "
   ]
  },
  {
   "cell_type": "markdown",
   "metadata": {},
   "source": [
    "# Part 2"
   ]
  },
  {
   "cell_type": "code",
   "execution_count": 1,
   "metadata": {},
   "outputs": [
    {
     "name": "stdout",
     "output_type": "stream",
     "text": [
      "['fixed acidity', 'volatile acidity', 'citric acid', 'residual sugar', 'chlorides', 'free sulfur dioxide', 'total sulfur dioxide', 'density', 'pH', 'sulphates', 'alcohol', 'quality']\n",
      "[[ 5.6   0.21  0.24 ...  0.31 11.5   7.  ]\n",
      " [ 6.2   0.3   0.31 ...  0.39 12.9   7.  ]\n",
      " [ 6.4   0.27  0.32 ...  0.48  9.4   5.  ]\n",
      " ...\n",
      " [ 8.9   0.32  0.49 ...  0.34  9.4   5.  ]\n",
      " [ 6.4   0.25  0.32 ...  0.58 10.8   7.  ]\n",
      " [ 7.7   0.38  0.23 ...  0.41 13.6   6.  ]]\n",
      "12\n"
     ]
    }
   ],
   "source": [
    "\n",
    "labels=[]\n",
    "with open(\"wine_train_set.csv\") as csv_file:\n",
    "    train_data = csv.reader(csv_file, delimiter=',', quotechar='|')\n",
    "    labels = train_data.__next__()\n",
    "print(labels)\n",
    "my_data = np.loadtxt('wine_train_set.csv', delimiter=',',skiprows=1)\n",
    "print(my_data)\n",
    "print(my_data.shape[1])\n",
    "MAX_QUALITY=10\n",
    "MIN_QUALITY=0"
   ]
  },
  {
   "cell_type": "code",
   "execution_count": 2,
   "metadata": {},
   "outputs": [],
   "source": [
    "Y_Number=[]\n",
    "for i in range(0,11):\n",
    "    Y_Number.append(0)"
   ]
  },
  {
   "cell_type": "code",
   "execution_count": 3,
   "metadata": {},
   "outputs": [
    {
     "name": "stdout",
     "output_type": "stream",
     "text": [
      "[0, 0, 0, 16, 130, 1166, 1758, 704, 140, 4, 0]\n"
     ]
    }
   ],
   "source": [
    "for row in my_data:\n",
    "    quality = row[11]\n",
    "    Y_Number[(int(quality))]+=1\n",
    "print(Y_Number)"
   ]
  },
  {
   "cell_type": "code",
   "execution_count": 4,
   "metadata": {},
   "outputs": [],
   "source": [
    "\"\"\"Takes array type and returns variance\"\"\"\n",
    "def calculate_variance(data):\n",
    "    sum = 0.0\n",
    "    for i in data:\n",
    "        sum+=float(i**2.0)\n",
    "    return sum/float(len(data))\n",
    "\"\"\"Takes array type and returns mean\"\"\"\n",
    "def calculate_mean(data):\n",
    "    sum = 0.0\n",
    "    for i in data:\n",
    "        sum+=float(i)\n",
    "    return sum/float(len(data))"
   ]
  },
  {
   "cell_type": "markdown",
   "metadata": {},
   "source": [
    "# Calculating Y Priors"
   ]
  },
  {
   "cell_type": "code",
   "execution_count": 5,
   "metadata": {},
   "outputs": [
    {
     "name": "stdout",
     "output_type": "stream",
     "text": [
      "Y prior fixed acidity: 0.0\n",
      "Y prior volatile acidity: 0.0\n",
      "Y prior citric acid: 0.0\n",
      "Y prior residual sugar: 0.00408371618172537\n",
      "Y prior chlorides: 0.033180193976518634\n",
      "Y prior free sulfur dioxide: 0.29760081674323635\n",
      "Y prior total sulfur dioxide: 0.44869831546707506\n",
      "Y prior density: 0.17968351199591628\n",
      "Y prior pH: 0.03573251659009699\n",
      "Y prior sulphates: 0.0010209290454313426\n",
      "Y prior alcohol: 0.0\n"
     ]
    }
   ],
   "source": [
    "Y_Prior=[]\n",
    "num_samples = my_data.shape[0]\n",
    "for i in range(0,11):\n",
    "    Y_Prior.append(0)\n",
    "for i in range(0,11):\n",
    "    Y_Prior[i]=Y_Number[i]/num_samples\n",
    "    print(\"Y prior \"+str(labels[i])+\": \"+ str(Y_Prior[i]))"
   ]
  },
  {
   "cell_type": "code",
   "execution_count": 6,
   "metadata": {},
   "outputs": [
    {
     "name": "stdout",
     "output_type": "stream",
     "text": [
      "standard deviation fixed acidity\t47.79219691168966\n",
      "standard deviation volatile acidity\t0.08694115620214321\n",
      "standard deviation citric acid\t0.12626993363961042\n",
      "standard deviation residual sugar\t67.29836013272077\n",
      "standard deviation chlorides\t0.0025488284839203477\n",
      "standard deviation free sulfur dioxide\t1550.031967840735\n",
      "standard deviation total sulfur dioxide\t20951.93440530883\n",
      "standard deviation density\t0.9881509056302004\n",
      "standard deviation pH\t10.192047907095546\n",
      "standard deviation sulphates\t0.2521797856048954\n"
     ]
    }
   ],
   "source": [
    "#printing variances\n",
    "for i in range(0,10):\n",
    "    print(\"standard deviation \"+labels[i]+\"\\t\"+str(calculate_variance(my_data[:,i])))"
   ]
  },
  {
   "cell_type": "markdown",
   "metadata": {},
   "source": [
    "# Filter data to make calculating mean+standard deviation easy"
   ]
  },
  {
   "cell_type": "code",
   "execution_count": 7,
   "metadata": {},
   "outputs": [],
   "source": [
    "# round data format\n",
    "# filtered_data[Quality][xi][entry]\n",
    "def filter_data_by_quality(data):\n",
    "    out_list = []\n",
    "    for i in range(MIN_QUALITY,MAX_QUALITY+1):\n",
    "        out_list.append(np.array([]))\n",
    "    print(data)\n",
    "    #for i in range(MIN_QUALITY,MAX_QUALITY+1):\n",
    "    #    out_list.append(np.array([]))\n",
    "    \n",
    "    for quality in range(MIN_QUALITY,MAX_QUALITY+1):\n",
    "        for row in data:\n",
    "            #print(row)       \n",
    "            if(row[-1]==quality):\n",
    "                try:\n",
    "                    #print(row[:-1])\n",
    "                    out_list[quality] = np.vstack((out_list[quality],row[:-1]))\n",
    "                except:\n",
    "                    out_list[quality] = row[:-1]\n",
    "                #out_list[quality].append(row[:-1])\n",
    "                \n",
    "    return out_list\n",
    "#print(filter_data_by_quality(my_data))"
   ]
  },
  {
   "cell_type": "markdown",
   "metadata": {},
   "source": [
    "# Calculating posteriors"
   ]
  },
  {
   "cell_type": "code",
   "execution_count": 8,
   "metadata": {},
   "outputs": [],
   "source": [
    "\n",
    "\"\"\"Runs fn on result of filtered data\"\"\"\n",
    "def run_on_data(data,fn):\n",
    "    out = []\n",
    "    for quality in data:\n",
    "        to_append = np.array([])\n",
    "        #transposing data to get column\n",
    "        for col in quality.T:\n",
    "            #print(\"\")\n",
    "            #print(col)\n",
    "            to_append=np.hstack((to_append,fn(col)))\n",
    "        out.append(to_append)\n",
    "    return out"
   ]
  },
  {
   "cell_type": "code",
   "execution_count": 9,
   "metadata": {},
   "outputs": [
    {
     "name": "stdout",
     "output_type": "stream",
     "text": [
      "[[ 5.6   0.21  0.24 ...  0.31 11.5   7.  ]\n",
      " [ 6.2   0.3   0.31 ...  0.39 12.9   7.  ]\n",
      " [ 6.4   0.27  0.32 ...  0.48  9.4   5.  ]\n",
      " ...\n",
      " [ 8.9   0.32  0.49 ...  0.34  9.4   5.  ]\n",
      " [ 6.4   0.25  0.32 ...  0.58 10.8   7.  ]\n",
      " [ 7.7   0.38  0.23 ...  0.41 13.6   6.  ]]\n",
      "VARIANCE\n",
      "[array([], dtype=float64), array([], dtype=float64), array([], dtype=float64), array([6.23950000e+01, 1.23557812e-01, 1.13300000e-01, 7.17595312e+01,\n",
      "       2.25056250e-03, 8.22109375e+03, 4.09319062e+04, 9.89831412e-01,\n",
      "       1.01937938e+01, 2.20962500e-01, 1.08869375e+02]), array([5.25970000e+01, 1.77401538e-01, 1.16553846e-01, 3.62285000e+01,\n",
      "       3.40993846e-03, 9.67536538e+02, 1.86287481e+04, 9.88629360e-01,\n",
      "       1.02195908e+01, 2.41427692e-01, 1.04347154e+02]), array([4.88159005e+01, 1.01710206e-01, 1.33723928e-01, 8.24239537e+01,\n",
      "       3.35475386e-03, 1.64872556e+03, 2.44984927e+04, 9.90538383e-01,\n",
      "       1.00486298e+01, 2.40316295e-01, 9.69449296e+01]), array([4.74655830e+01, 7.42747582e-02, 1.28583220e-01, 6.95992292e+01,\n",
      "       2.41232309e-03, 1.54663794e+03, 2.06269067e+04, 9.88052483e-01,\n",
      "       1.01917467e+01, 2.54993970e-01, 1.12771359e+02]), array([4.63006143e+01, 7.72474432e-02, 1.12399858e-01, 4.62504865e+01,\n",
      "       1.59348295e-03, 1.36154332e+03, 1.68270739e+04, 9.85101826e-01,\n",
      "       1.03739737e+01, 2.66766903e-01, 1.30464366e+02]), array([4.44492143e+01, 8.36950000e-02, 1.14311429e-01, 4.76517143e+01,\n",
      "       1.63599286e-03, 1.51948571e+03, 1.63195411e+04, 9.84322307e-01,\n",
      "       1.04267307e+01, 2.55977143e-01, 1.38029357e+02]), array([5.78850000e+01, 8.19250000e-02, 1.64075000e-01, 3.09400000e+01,\n",
      "       9.12750000e-04, 7.62500000e+02, 1.36727500e+04, 9.83824879e-01,\n",
      "       1.09958500e+01, 2.47625000e-01, 1.46145000e+02]), array([], dtype=float64)]\n",
      "MEAN\n",
      "[array([], dtype=float64), array([], dtype=float64), array([], dtype=float64), array([7.6875000e+00, 3.2781250e-01, 3.2750000e-01, 6.5656250e+00,\n",
      "       4.5437500e-02, 5.3687500e+01, 1.6700000e+02, 9.9489875e-01,\n",
      "       3.1868750e+00, 4.6000000e-01, 1.0368750e+01]), array([7.16384615e+00, 3.81384615e-01, 3.00923077e-01, 4.52230769e+00,\n",
      "       5.12769231e-02, 2.32730769e+01, 1.25780769e+02, 9.94295615e-01,\n",
      "       3.19246154e+00, 4.77230769e-01, 1.01669231e+01]), array([6.93499142e+00, 3.03113208e-01, 3.36560892e-01, 7.32598628e+00,\n",
      "       5.15789022e-02, 3.63319039e+01, 1.50221269e+02, 9.95254691e-01,\n",
      "       3.16674957e+00, 4.80240137e-01, 9.80877358e+00]), array([6.83788396e+00, 2.58671786e-01, 3.38879408e-01, 6.50398180e+00,\n",
      "       4.50580205e-02, 3.59823663e+01, 1.37587031e+02, 9.94003495e-01,\n",
      "       3.18884528e+00, 4.91968146e-01, 1.05576792e+01]), array([6.76242898e+00, 2.62642045e-01, 3.25553977e-01, 5.25220170e+00,\n",
      "       3.83607955e-02, 3.44957386e+01, 1.25424716e+02, 9.92519077e-01,\n",
      "       3.21680398e+00, 5.00355114e-01, 1.13552273e+01]), array([6.61642857e+00, 2.72714286e-01, 3.26428571e-01, 5.59285714e+00,\n",
      "       3.80785714e-02, 3.58142857e+01, 1.24075000e+02, 9.92126929e-01,\n",
      "       3.22535714e+00, 4.84428571e-01, 1.16878571e+01]), array([7.55000e+00, 2.82500e-01, 3.97500e-01, 4.10000e+00, 2.97500e-02,\n",
      "       2.75000e+01, 1.15250e+02, 9.91875e-01, 3.31500e+00, 4.92500e-01,\n",
      "       1.20500e+01]), array([], dtype=float64)]\n"
     ]
    }
   ],
   "source": [
    "filtered_data = filter_data_by_quality(my_data)\n",
    "variance = run_on_data(filtered_data,calculate_variance)\n",
    "mean = run_on_data(filtered_data,calculate_mean)\n",
    "print(\"VARIANCE\")\n",
    "print(variance)\n",
    "print(\"MEAN\")\n",
    "print(mean)"
   ]
  },
  {
   "cell_type": "code",
   "execution_count": 10,
   "metadata": {},
   "outputs": [
    {
     "ename": "AttributeError",
     "evalue": "'list' object has no attribute 'shape'",
     "output_type": "error",
     "traceback": [
      "\u001b[0;31m---------------------------------------------------------------------------\u001b[0m",
      "\u001b[0;31mAttributeError\u001b[0m                            Traceback (most recent call last)",
      "\u001b[0;32m<ipython-input-10-1dfa7c5c2904>\u001b[0m in \u001b[0;36m<module>\u001b[0;34m\u001b[0m\n\u001b[1;32m      1\u001b[0m \u001b[0;31m# calculating probabilities\u001b[0m\u001b[0;34m\u001b[0m\u001b[0;34m\u001b[0m\u001b[0;34m\u001b[0m\u001b[0m\n\u001b[0;32m----> 2\u001b[0;31m \u001b[0;32mfor\u001b[0m \u001b[0mi\u001b[0m \u001b[0;32min\u001b[0m \u001b[0mrange\u001b[0m\u001b[0;34m(\u001b[0m\u001b[0;36m0\u001b[0m\u001b[0;34m,\u001b[0m\u001b[0mmean\u001b[0m\u001b[0;34m.\u001b[0m\u001b[0mshape\u001b[0m\u001b[0;34m[\u001b[0m\u001b[0;36m0\u001b[0m\u001b[0;34m]\u001b[0m\u001b[0;34m)\u001b[0m\u001b[0;34m:\u001b[0m\u001b[0;34m\u001b[0m\u001b[0;34m\u001b[0m\u001b[0m\n\u001b[0m\u001b[1;32m      3\u001b[0m     \u001b[0;32mfor\u001b[0m \u001b[0mj\u001b[0m \u001b[0;32min\u001b[0m \u001b[0mrange\u001b[0m\u001b[0;34m(\u001b[0m\u001b[0;36m0\u001b[0m\u001b[0;34m,\u001b[0m\u001b[0mmean\u001b[0m\u001b[0;34m.\u001b[0m\u001b[0mshape\u001b[0m\u001b[0;34m[\u001b[0m\u001b[0;36m1\u001b[0m\u001b[0;34m]\u001b[0m\u001b[0;34m)\u001b[0m\u001b[0;34m:\u001b[0m\u001b[0;34m\u001b[0m\u001b[0;34m\u001b[0m\u001b[0m\n\u001b[1;32m      4\u001b[0m         \u001b[0mprob\u001b[0m\u001b[0;34m[\u001b[0m\u001b[0mi\u001b[0m\u001b[0;34m,\u001b[0m\u001b[0mj\u001b[0m\u001b[0;34m]\u001b[0m\u001b[0;34m=\u001b[0m\u001b[0;34m(\u001b[0m\u001b[0;36m1\u001b[0m\u001b[0;34m/\u001b[0m\u001b[0;34m(\u001b[0m\u001b[0mmath\u001b[0m\u001b[0;34m.\u001b[0m\u001b[0msqrt\u001b[0m\u001b[0;34m(\u001b[0m\u001b[0;36m2\u001b[0m\u001b[0;34m*\u001b[0m\u001b[0mmath\u001b[0m\u001b[0;34m.\u001b[0m\u001b[0mpi\u001b[0m\u001b[0;34m*\u001b[0m\u001b[0mvariance\u001b[0m\u001b[0;34m[\u001b[0m\u001b[0mi\u001b[0m\u001b[0;34m,\u001b[0m\u001b[0mj\u001b[0m\u001b[0;34m]\u001b[0m\u001b[0;34m)\u001b[0m\u001b[0;34m)\u001b[0m\u001b[0;34m)\u001b[0m\u001b[0;34m*\u001b[0m\u001b[0mmath\u001b[0m\u001b[0;34m.\u001b[0m\u001b[0mexp\u001b[0m\u001b[0;34m(\u001b[0m\u001b[0;34m-\u001b[0m\u001b[0;36m0.5\u001b[0m\u001b[0;34m*\u001b[0m\u001b[0;34m(\u001b[0m\u001b[0;34m)\u001b[0m\u001b[0;34m)\u001b[0m\u001b[0;34m\u001b[0m\u001b[0;34m\u001b[0m\u001b[0m\n",
      "\u001b[0;31mAttributeError\u001b[0m: 'list' object has no attribute 'shape'"
     ]
    }
   ],
   "source": [
    "# calculating probabilities\n",
    "for i in range(0,mean.shape[0]):\n",
    "    for j in range(0,mean.shape[1]):\n",
    "        prob[i,j]=(1/(math.sqrt(2*math.pi*variance[i,j])))*math.exp(-0.5*())"
   ]
  }
 ],
 "metadata": {
  "hide_input": false,
  "kernelspec": {
   "display_name": "Python 3",
   "language": "python",
   "name": "python3"
  },
  "language_info": {
   "codemirror_mode": {
    "name": "ipython",
    "version": 3
   },
   "file_extension": ".py",
   "mimetype": "text/x-python",
   "name": "python",
   "nbconvert_exporter": "python",
   "pygments_lexer": "ipython3",
   "version": "3.7.3"
  }
 },
 "nbformat": 4,
 "nbformat_minor": 2
}
