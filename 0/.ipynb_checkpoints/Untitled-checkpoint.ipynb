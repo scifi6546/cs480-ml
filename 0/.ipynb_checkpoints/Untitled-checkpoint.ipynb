{
 "cells": [
  {
   "cell_type": "code",
   "execution_count": 1,
   "metadata": {},
   "outputs": [],
   "source": [
    "import numpy as np\n",
    "import csv\n",
    "%matplotlib inline\n",
    "\n",
    "import matplotlib\n",
    "import numpy as np\n",
    "import matplotlib.pyplot as plt\n",
    "import math"
   ]
  },
  {
   "cell_type": "markdown",
   "metadata": {},
   "source": [
    "# Part 1\n"
   ]
  },
  {
   "cell_type": "markdown",
   "metadata": {},
   "source": [
    "|Size |Orbit|habitable | Count|\n",
    "|-----|-----|----------|------|\n",
    "|big|near|yes|20|\n",
    "|big|far|yes|170|\n",
    "|small|near|yes|139|\n",
    "|small|far|yes|45|\n",
    "|big|near|no|130|\n",
    "|big|far|no|30|\n",
    "|small|near|no|11|\n",
    "|small|far|no|255|"
   ]
  },
  {
   "cell_type": "code",
   "execution_count": 20,
   "metadata": {},
   "outputs": [
    {
     "name": "stdout",
     "output_type": "stream",
     "text": [
      "0.9969501570069956\n",
      "0.9969501570069956\n",
      "0.9969501570069956\n"
     ]
    }
   ],
   "source": [
    "tree_data = np.array([[1,0,1,20],\n",
    "                      [1,1,1,170],\n",
    "                      [0,0,1,139],\n",
    "                      [0,1,1,45],\n",
    "                      [1,0,0,130],\n",
    "                      [1,1,0,30],\n",
    "                      [0,0,0,11],\n",
    "                      [0,1,0,255]\n",
    "                     ])\n",
    "def calculate_entropy(col_num,data):\n",
    "    pos_instances = 0\n",
    "    neg_instances = 0\n",
    "    for row in data:\n",
    "        #is habitible\n",
    "        if(row[-2]==1):\n",
    "            pos_instances+=row[-1]\n",
    "        else:\n",
    "            neg_instances+=row[-1]\n",
    "    total = pos_instances+neg_instances\n",
    "    p_p = float(pos_instances)/float(total)\n",
    "    p_n = float(neg_instances)/float(total)\n",
    "    return -1.0*p_p*math.log(p_p,2)-1.0*p_n*math.log(p_n,2)\n",
    "def calc_gain(col_num_data):\n",
    "    \n",
    "print(calculate_entropy(0,tree_data))\n",
    "print(calculate_entropy(1,tree_data))\n",
    "print(calculate_entropy(2,tree_data))\n",
    "        "
   ]
  },
  {
   "cell_type": "markdown",
   "metadata": {},
   "source": [
    "# Part 2"
   ]
  },
  {
   "cell_type": "code",
   "execution_count": 3,
   "metadata": {},
   "outputs": [
    {
     "name": "stdout",
     "output_type": "stream",
     "text": [
      "['fixed acidity', 'volatile acidity', 'citric acid', 'residual sugar', 'chlorides', 'free sulfur dioxide', 'total sulfur dioxide', 'density', 'pH', 'sulphates', 'alcohol', 'quality']\n",
      "[[ 5.6   0.21  0.24 ...  0.31 11.5   7.  ]\n",
      " [ 6.2   0.3   0.31 ...  0.39 12.9   7.  ]\n",
      " [ 6.4   0.27  0.32 ...  0.48  9.4   5.  ]\n",
      " ...\n",
      " [ 8.9   0.32  0.49 ...  0.34  9.4   5.  ]\n",
      " [ 6.4   0.25  0.32 ...  0.58 10.8   7.  ]\n",
      " [ 7.7   0.38  0.23 ...  0.41 13.6   6.  ]]\n",
      "12\n",
      "[7. 7. 5. ... 5. 7. 6.]\n"
     ]
    },
    {
     "data": {
      "image/png": "[encoded data removed]",
      "text/plain": [
       "<Figure size 432x288 with 1 Axes>"
      ]
     },
     "metadata": {
      "needs_background": "light"
     },
     "output_type": "display_data"
    }
   ],
   "source": [
    "\n",
    "labels=[]\n",
    "with open(\"wine_train_set.csv\") as csv_file:\n",
    "    train_data = csv.reader(csv_file, delimiter=',', quotechar='|')\n",
    "    labels = train_data.__next__()\n",
    "print(labels)\n",
    "my_data = np.loadtxt('wine_train_set.csv', delimiter=',',skiprows=1)\n",
    "print(my_data)\n",
    "print(my_data.shape[1])\n",
    "MAX_QUALITY=10\n",
    "MIN_QUALITY=0\n",
    "NUM_ATTRIBUTES = len(labels)-1\n",
    "plt.title(\"Quality of Wine\")\n",
    "print(my_data[:,-1])\n",
    "plt.hist(my_data[:,-1])\n",
    "plt.show()"
   ]
  },
  {
   "cell_type": "code",
   "execution_count": 4,
   "metadata": {},
   "outputs": [],
   "source": [
    "Y_Number=[]\n",
    "for i in range(0,11):\n",
    "    Y_Number.append(0)"
   ]
  },
  {
   "cell_type": "code",
   "execution_count": 5,
   "metadata": {},
   "outputs": [
    {
     "name": "stdout",
     "output_type": "stream",
     "text": [
      "[0, 0, 0, 16, 130, 1166, 1758, 704, 140, 4, 0]\n"
     ]
    }
   ],
   "source": [
    "for row in my_data:\n",
    "    quality = row[11]\n",
    "    Y_Number[(int(quality))]+=1\n",
    "print(Y_Number)"
   ]
  },
  {
   "cell_type": "code",
   "execution_count": 6,
   "metadata": {},
   "outputs": [],
   "source": [
    "\"\"\"Takes array type and returns variance\"\"\"\n",
    "def calculate_variance(data):\n",
    "    mean = calculate_mean(data)\n",
    "    sum = 0.0\n",
    "    for i in data:\n",
    "        sum+=(float(i)-float(mean))**2.0\n",
    "    return sum/float(len(data))\n",
    "\"\"\"Takes array type and returns mean\"\"\"\n",
    "def calculate_mean(data):\n",
    "    sum = 0.0\n",
    "    for i in data:\n",
    "        sum+=float(i)\n",
    "    return sum/float(len(data))"
   ]
  },
  {
   "cell_type": "markdown",
   "metadata": {},
   "source": [
    "# Calculating Y Priors"
   ]
  },
  {
   "cell_type": "code",
   "execution_count": 7,
   "metadata": {},
   "outputs": [
    {
     "data": {
      "image/png": "[encoded data removed]",
      "text/plain": [
       "<Figure size 432x288 with 1 Axes>"
      ]
     },
     "metadata": {
      "needs_background": "light"
     },
     "output_type": "display_data"
    },
    {
     "name": "stdout",
     "output_type": "stream",
     "text": [
      "[150. 106. 174. ... 131. 114.  95.]\n",
      "variance fixed acidity\t0.7281495376048622\n",
      "variance volatile acidity\t0.009939864009020012\n",
      "variance citric acid\t0.014644360774123536\n",
      "variance residual sugar\t26.041181904514787\n",
      "variance chlorides\t0.0004568517925278385\n",
      "variance free sulfur dioxide\t292.9602829970729\n",
      "variance total sulfur dioxide\t1801.6978366622886\n",
      "variance density\t9.046107783654085e-06\n",
      "variance pH\t0.02335569577695505\n",
      "variance sulphates\t0.012964421013627847\n",
      "\n",
      "\n",
      "mean fixed acidity\t6.8603241449719246\n",
      "mean volatile acidity\t0.277491066870853\n",
      "mean citric acid\t0.33410413476263084\n",
      "mean residual sugar\t6.423175089331289\n",
      "mean chlorides\t0.04573813169984722\n",
      "mean free sulfur dioxide\t35.4552067381317\n",
      "mean total sulfur dioxide\t138.3843797856049\n",
      "mean density\t0.9940532478305207\n",
      "mean pH\t3.1888386932108124\n",
      "mean sulphates\t0.48909647779479687\n"
     ]
    }
   ],
   "source": [
    "#printing variances\n",
    "plt.plot(my_data[:,6])\n",
    "plt.show()\n",
    "print(my_data[:,6])\n",
    "for i in range(0,10):\n",
    "    print(\"variance \"+labels[i]+\"\\t\"+str(calculate_variance(my_data[:,i])))\n",
    "print(\"\\n\")\n",
    "#printing variances\n",
    "for i in range(0,10):\n",
    "    print(\"mean \"+labels[i]+\"\\t\"+str(calculate_mean(my_data[:,i])))"
   ]
  },
  {
   "cell_type": "code",
   "execution_count": 8,
   "metadata": {},
   "outputs": [
    {
     "name": "stdout",
     "output_type": "stream",
     "text": [
      "## B: \n",
      "Y prior fixed acidity: 0.0\n",
      "Y prior volatile acidity: 0.0\n",
      "Y prior citric acid: 0.0\n",
      "Y prior residual sugar: 0.00408371618172537\n",
      "Y prior chlorides: 0.033180193976518634\n",
      "Y prior free sulfur dioxide: 0.29760081674323635\n",
      "Y prior total sulfur dioxide: 0.44869831546707506\n",
      "Y prior density: 0.17968351199591628\n",
      "Y prior pH: 0.03573251659009699\n",
      "Y prior sulphates: 0.0010209290454313426\n"
     ]
    }
   ],
   "source": [
    "def calculate_y_priors(data):\n",
    "    Y_Prior=[]\n",
    "    num_samples = data.shape[0]\n",
    "    for i in range(0,MAX_QUALITY):\n",
    "        Y_Prior.append(0)\n",
    "    print(\"## B: \")\n",
    "    for i in range(0,MAX_QUALITY):\n",
    "        Y_Prior[i]=Y_Number[i]/num_samples\n",
    "    return Y_Prior\n",
    "y_prior = calculate_y_priors(my_data)\n",
    "for i in range(0,len(y_prior)):\n",
    "    print(\"Y prior \"+str(labels[i])+\": \"+ str(y_prior[i]))\n"
   ]
  },
  {
   "cell_type": "markdown",
   "metadata": {},
   "source": [
    "# Filter data to make calculating mean+standard deviation easy"
   ]
  },
  {
   "cell_type": "code",
   "execution_count": 9,
   "metadata": {},
   "outputs": [],
   "source": [
    "# round data format\n",
    "# filtered_data[Quality][xi][entry]\n",
    "def filter_data_by_quality(data):\n",
    "    out_list = []\n",
    "    for i in range(MIN_QUALITY,MAX_QUALITY+1):\n",
    "        out_list.append(np.array([]))\n",
    "    print(data)\n",
    "    #for i in range(MIN_QUALITY,MAX_QUALITY+1):\n",
    "    #    out_list.append(np.array([]))\n",
    "    \n",
    "    for quality in range(MIN_QUALITY,MAX_QUALITY+1):\n",
    "        for row in data:\n",
    "            #print(row)       \n",
    "            if(row[-1]==quality):\n",
    "                try:\n",
    "                    #print(row[:-1])\n",
    "                    out_list[quality] = np.vstack((out_list[quality],row[:-1]))\n",
    "                except:\n",
    "                    out_list[quality] = row[:-1]\n",
    "                #out_list[quality].append(row[:-1])\n",
    "                \n",
    "    return out_list\n",
    "#print(filter_data_by_quality(my_data))"
   ]
  },
  {
   "cell_type": "markdown",
   "metadata": {},
   "source": [
    "# Calculating posteriors"
   ]
  },
  {
   "cell_type": "code",
   "execution_count": 10,
   "metadata": {},
   "outputs": [],
   "source": [
    "\n",
    "\"\"\"Runs fn on result of filtered data\"\"\"\n",
    "def run_on_data(data,fn):\n",
    "    out = []\n",
    "    for quality in data:\n",
    "        to_append = np.array([])\n",
    "        #transposing data to get column\n",
    "        for col in quality.T:\n",
    "            #print(\"\")\n",
    "            #print(col)\n",
    "            to_append=np.hstack((to_append,fn(col)))\n",
    "        out.append(to_append)\n",
    "    return out"
   ]
  },
  {
   "cell_type": "code",
   "execution_count": 11,
   "metadata": {},
   "outputs": [],
   "source": [
    "#filtered_data = filter_data_by_quality(my_data)\n",
    "#variance = run_on_data(filtered_data,calculate_variance)\n",
    "#mean = run_on_data(filtered_data,calculate_mean)\n",
    "#print(\"VARIANCE\")\n",
    "#print(variance)\n",
    "#print(\"MEAN\")\n",
    "#print(mean)"
   ]
  },
  {
   "cell_type": "code",
   "execution_count": 12,
   "metadata": {},
   "outputs": [],
   "source": [
    "# calculating probabilities\n",
    "#print(mean)\n",
    "#print(prob)\n",
    "#gen\n",
    "#prob=[]\n",
    "def get_prob_given_quality(variance,mean,xi,quality,number):\n",
    "    assert(type(xi)==int)\n",
    "    assert(type(quality)==int)\n",
    "    return (1.0/(math.sqrt(2.0*math.pi*variance[quality][xi])))*\\\n",
    "        math.exp(-0.5*(((number-mean[quality][xi])/\n",
    "            (math.sqrt(variance[quality][xi])))**2.0))"
   ]
  },
  {
   "cell_type": "markdown",
   "metadata": {},
   "source": [
    "# 2d getting probabilities for quality=4"
   ]
  },
  {
   "cell_type": "code",
   "execution_count": 13,
   "metadata": {},
   "outputs": [],
   "source": [
    "#for i in range(0,NUM_ATTRIBUTES):\n",
    "#    test_number =1.0\n",
    "#    prob = get_prob_given_quality(variance,mean,i,4,test_number)\n",
    "#    print(\"Probility of \"+labels[i]+\" = \"+str(prob))\n",
    "    "
   ]
  },
  {
   "cell_type": "code",
   "execution_count": 14,
   "metadata": {},
   "outputs": [
    {
     "name": "stdout",
     "output_type": "stream",
     "text": [
      "[[ 5.6   0.21  0.24 ...  0.31 11.5   7.  ]\n",
      " [ 6.2   0.3   0.31 ...  0.39 12.9   7.  ]\n",
      " [ 6.4   0.27  0.32 ...  0.48  9.4   5.  ]\n",
      " ...\n",
      " [ 8.9   0.32  0.49 ...  0.34  9.4   5.  ]\n",
      " [ 6.4   0.25  0.32 ...  0.58 10.8   7.  ]\n",
      " [ 7.7   0.38  0.23 ...  0.41 13.6   6.  ]]\n",
      "## B: \n",
      "2B: \n",
      "Y prior fixed acidity: 0.0\n",
      "Y prior volatile acidity: 0.0\n",
      "Y prior citric acid: 0.0\n",
      "Y prior residual sugar: 0.00408371618172537\n",
      "Y prior chlorides: 0.033180193976518634\n",
      "Y prior free sulfur dioxide: 0.29760081674323635\n",
      "Y prior total sulfur dioxide: 0.44869831546707506\n",
      "Y prior density: 0.17968351199591628\n",
      "Y prior pH: 0.03573251659009699\n",
      "Y prior sulphates: 0.0010209290454313426\n",
      "2C: \n",
      "Probability of fixed acidity given K: 0.16154434415383506\n",
      "Probability of volatile acidity given K: 3.7106762817574603\n",
      "Probability of citric acid given K: 2.815433445672659\n",
      "Probability of residual sugar given K: 0.09056251589193959\n",
      "Probability of chlorides given K: 21.281203019060335\n",
      "Probability of free sulfur dioxide given K: 0.029904115188620257\n",
      "Probability of total sulfur dioxide given K: 0.009148974700652027\n",
      "Probability of density given K: 123.71254070684232\n",
      "Probability of pH given K: 2.1613402155194157\n",
      "Probability of sulphates given K: 1.0325178838066293\n",
      "Probability of alcohol given K: 0.3210306491162941\n",
      "2D: \n",
      "Probability of fixed acidity: 0.157074388219673\n",
      "Probability of volatile acidity: 3.1820712926598245\n",
      "Probability of citric acid: 2.436485301710315\n",
      "Probability of residual sugar: 0.07226829563676503\n",
      "Probability of chlorides: 12.709601154814422\n",
      "Probability of free sulfur dioxide: 0.023213298804888094\n",
      "Probability of total sulfur dioxide: 0.009053316762673838\n",
      "Probability of density: 79.23217096505351\n",
      "Probability of pH: 2.0036747043632426\n",
      "Probability of sulphates: 1.016915621979947\n",
      "Probability of alcohol: 0.2343823643709787\n",
      "2E: evaluation of model\n",
      "max probability: 1.746219377786457e+51\n",
      "min probability: 8.77877539438872e-16\n",
      "variance of probability: 7.780765288890553e+98\n"
     ]
    }
   ],
   "source": [
    "# 2e Evaluate Model\n",
    "def eval_model(data_in,labels):\n",
    "    filtered_data = filter_data_by_quality(data_in)\n",
    "    variance_given_k = run_on_data(filtered_data,calculate_variance)\n",
    "    mean_given_k = run_on_data(filtered_data,calculate_mean)\n",
    "    variance = []\n",
    "    mean = []\n",
    "    probs = []\n",
    "    for col in data_in.T[:-1]:\n",
    "        variance.append(calculate_variance(col))\n",
    "        mean.append(calculate_mean(col))\n",
    "    \n",
    "    #print(data_in)\n",
    "    #print(variance)\n",
    "    correct = 0\n",
    "    total = 0\n",
    "    y_priors = calculate_y_priors(data_in)\n",
    "    print(\"2B: \")\n",
    "    i=0\n",
    "    for y in y_priors:\n",
    "        print(\"Y prior \"+str(labels[i])+\": \"+ str(y_prior[i]))\n",
    "        i+=1\n",
    "    num_prints=0\n",
    "    num_prints_b=0\n",
    "    printed_2c=False\n",
    "    printed_2d=False\n",
    "    for row in data_in:\n",
    "        p_x_g = []\n",
    "        p_x=[]\n",
    "        for x in range(0,row.shape[0]-1):\n",
    "            p_x_g.append(get_prob_given_quality(\n",
    "                variance_given_k,mean_given_k,\n",
    "                x,int(row[-1]),row[x]))\n",
    "            p_x.append(\n",
    "                1/(math.sqrt(2.0*math.pi*variance[x]))*\\\n",
    "        math.exp(-0.5*((row[x]-mean[x])/\n",
    "            (math.sqrt(variance[x])))**2))\n",
    "        #evaluating model\n",
    "        top = 1.0\n",
    "        i=0\n",
    "        if(printed_2c==False):\n",
    "            print(\"2C: \")\n",
    "            printed_2c=True\n",
    "        for prob in p_x_g:\n",
    "            if(num_prints<NUM_ATTRIBUTES):\n",
    "                print(\"Probability of \"+labels[i]+\" given K: \"+str(prob))\n",
    "            #if(prob>1.0):\n",
    "            #    print(\"prob_x_g to big\")\n",
    "            #    print(prob)\n",
    "            top*=prob\n",
    "            i+=1\n",
    "            num_prints+=1\n",
    "        bottom =1.0\n",
    "        i=0\n",
    "        if(printed_2d==False):\n",
    "            print(\"2D: \")\n",
    "            printed_2d=True\n",
    "        for prob in p_x:\n",
    "            if(num_prints_b<NUM_ATTRIBUTES):\n",
    "                print(\"Probability of \"+labels[i]+\": \"+str(prob))\n",
    "            #if(prob>1.0):\n",
    "            #    print(\"prob to big\")\n",
    "            #    print(prob)\n",
    "            i+=1\n",
    "            num_prints_b+=1\n",
    "            bottom*=prob\n",
    "        probs.append((top*y_priors[int(row[-1])])/bottom)\n",
    "    #print(probs)\n",
    "    print(\"2E: evaluation of model\")\n",
    "    print(\"max probability: \"+str(max(probs)))\n",
    "    print(\"min probability: \"+str(min(probs)))\n",
    "    print(\"variance of probability: \"+str(calculate_variance(probs)))\n",
    "eval_model(my_data,labels)\n",
    "    "
   ]
  },
  {
   "cell_type": "markdown",
   "metadata": {},
   "source": [
    "# 2F Removing Citric Acid"
   ]
  },
  {
   "cell_type": "code",
   "execution_count": 15,
   "metadata": {},
   "outputs": [
    {
     "data": {
      "text/plain": [
       "'citric acid'"
      ]
     },
     "execution_count": 15,
     "metadata": {},
     "output_type": "execute_result"
    }
   ],
   "source": [
    "edited_data = np.hstack((my_data[:,0:1],my_data[:,2:]))\n",
    "edited_labels = labels.copy()\n",
    "edited_labels.pop(2)"
   ]
  },
  {
   "cell_type": "code",
   "execution_count": 16,
   "metadata": {},
   "outputs": [
    {
     "name": "stdout",
     "output_type": "stream",
     "text": [
      "[[ 5.6   0.24  4.4  ...  0.31 11.5   7.  ]\n",
      " [ 6.2   0.31  1.6  ...  0.39 12.9   7.  ]\n",
      " [ 6.4   0.32  4.5  ...  0.48  9.4   5.  ]\n",
      " ...\n",
      " [ 8.9   0.49  1.6  ...  0.34  9.4   5.  ]\n",
      " [ 6.4   0.32  0.9  ...  0.58 10.8   7.  ]\n",
      " [ 7.7   0.23 10.8  ...  0.41 13.6   6.  ]]\n",
      "## B: \n",
      "2B: \n",
      "Y prior fixed acidity: 0.0\n",
      "Y prior volatile acidity: 0.0\n",
      "Y prior residual sugar: 0.0\n",
      "Y prior chlorides: 0.00408371618172537\n",
      "Y prior free sulfur dioxide: 0.033180193976518634\n",
      "Y prior total sulfur dioxide: 0.29760081674323635\n",
      "Y prior density: 0.44869831546707506\n",
      "Y prior pH: 0.17968351199591628\n",
      "Y prior sulphates: 0.03573251659009699\n",
      "Y prior alcohol: 0.0010209290454313426\n",
      "2C: \n",
      "Probability of fixed acidity given K: 0.16154434415383506\n",
      "Probability of volatile acidity given K: 2.815433445672659\n",
      "Probability of residual sugar given K: 0.09056251589193959\n",
      "Probability of chlorides given K: 21.281203019060335\n",
      "Probability of free sulfur dioxide given K: 0.029904115188620257\n",
      "Probability of total sulfur dioxide given K: 0.009148974700652027\n",
      "Probability of density given K: 123.71254070684232\n",
      "Probability of pH given K: 2.1613402155194157\n",
      "Probability of sulphates given K: 1.0325178838066293\n",
      "Probability of alcohol given K: 0.3210306491162941\n",
      "2D: \n",
      "Probability of fixed acidity: 0.157074388219673\n",
      "Probability of volatile acidity: 2.436485301710315\n",
      "Probability of residual sugar: 0.07226829563676503\n",
      "Probability of chlorides: 12.709601154814422\n",
      "Probability of free sulfur dioxide: 0.023213298804888094\n",
      "Probability of total sulfur dioxide: 0.009053316762673838\n",
      "Probability of density: 79.23217096505351\n",
      "Probability of pH: 2.0036747043632426\n",
      "Probability of sulphates: 1.016915621979947\n",
      "Probability of alcohol: 0.2343823643709787\n",
      "Probability of fixed acidity given K: 0.4003467697747414\n",
      "Probability of fixed acidity: 0.3465520086137044\n",
      "2E: evaluation of model\n",
      "max probability: 2.5242318405388715e+51\n",
      "min probability: 7.528193527558884e-16\n",
      "variance of probability: 1.6258601606819943e+99\n"
     ]
    }
   ],
   "source": [
    "eval_model(edited_data,edited_labels)"
   ]
  },
  {
   "cell_type": "code",
   "execution_count": 17,
   "metadata": {},
   "outputs": [],
   "source": [
    "# Evaluating on Test Data"
   ]
  },
  {
   "cell_type": "code",
   "execution_count": 18,
   "metadata": {},
   "outputs": [
    {
     "name": "stdout",
     "output_type": "stream",
     "text": [
      "[[ 5.6   0.21  0.24 ...  0.31 11.5   7.  ]\n",
      " [ 6.2   0.3   0.31 ...  0.39 12.9   7.  ]\n",
      " [ 6.4   0.27  0.32 ...  0.48  9.4   5.  ]\n",
      " ...\n",
      " [ 8.9   0.32  0.49 ...  0.34  9.4   5.  ]\n",
      " [ 6.4   0.25  0.32 ...  0.58 10.8   7.  ]\n",
      " [ 7.7   0.38  0.23 ...  0.41 13.6   6.  ]]\n",
      "## B: \n",
      "2B: \n",
      "Y prior fixed acidity: 0.0\n",
      "Y prior volatile acidity: 0.0\n",
      "Y prior citric acid: 0.0\n",
      "Y prior residual sugar: 0.00408371618172537\n",
      "Y prior chlorides: 0.033180193976518634\n",
      "Y prior free sulfur dioxide: 0.29760081674323635\n",
      "Y prior total sulfur dioxide: 0.44869831546707506\n",
      "Y prior density: 0.17968351199591628\n",
      "Y prior pH: 0.03573251659009699\n",
      "Y prior sulphates: 0.0010209290454313426\n",
      "2C: \n",
      "Probability of fixed acidity given K: 0.16154434415383506\n",
      "Probability of volatile acidity given K: 3.7106762817574603\n",
      "Probability of citric acid given K: 2.815433445672659\n",
      "Probability of residual sugar given K: 0.09056251589193959\n",
      "Probability of chlorides given K: 21.281203019060335\n",
      "Probability of free sulfur dioxide given K: 0.029904115188620257\n",
      "Probability of total sulfur dioxide given K: 0.009148974700652027\n",
      "Probability of density given K: 123.71254070684232\n",
      "Probability of pH given K: 2.1613402155194157\n",
      "Probability of sulphates given K: 1.0325178838066293\n",
      "Probability of alcohol given K: 0.3210306491162941\n",
      "2D: \n",
      "Probability of fixed acidity: 0.157074388219673\n",
      "Probability of volatile acidity: 3.1820712926598245\n",
      "Probability of citric acid: 2.436485301710315\n",
      "Probability of residual sugar: 0.07226829563676503\n",
      "Probability of chlorides: 12.709601154814422\n",
      "Probability of free sulfur dioxide: 0.023213298804888094\n",
      "Probability of total sulfur dioxide: 0.009053316762673838\n",
      "Probability of density: 79.23217096505351\n",
      "Probability of pH: 2.0036747043632426\n",
      "Probability of sulphates: 1.016915621979947\n",
      "Probability of alcohol: 0.2343823643709787\n",
      "2E: evaluation of model\n",
      "max probability: 1.746219377786457e+51\n",
      "min probability: 8.77877539438872e-16\n",
      "variance of probability: 7.780765288890553e+98\n"
     ]
    }
   ],
   "source": [
    "train_labels = []\n",
    "with open(\"wine_train_set.csv\") as csv_file:\n",
    "    train_data = csv.reader(csv_file, delimiter=',', quotechar='|')\n",
    "    train_labels = train_data.__next__()\n",
    "train_data = np.loadtxt('wine_train_set.csv', delimiter=',',skiprows=1)\n",
    "eval_model(train_data,train_labels)"
   ]
  },
  {
   "cell_type": "markdown",
   "metadata": {},
   "source": [
    "Currently the results show a very high maximum probability. This is likely caused by a bug in the code. "
   ]
  },
  {
   "cell_type": "markdown",
   "metadata": {},
   "source": [
    "# 2H: Selecting first 1000 and 100 Elements from the training set and viewing results"
   ]
  },
  {
   "cell_type": "code",
   "execution_count": 19,
   "metadata": {},
   "outputs": [
    {
     "name": "stdout",
     "output_type": "stream",
     "text": [
      "[[ 5.6   0.21  0.24 ...  0.31 11.5   7.  ]\n",
      " [ 6.2   0.3   0.31 ...  0.39 12.9   7.  ]\n",
      " [ 6.4   0.27  0.32 ...  0.48  9.4   5.  ]\n",
      " ...\n",
      " [ 5.1   0.33  0.22 ...  0.38 12.5   7.  ]\n",
      " [ 6.6   0.15  0.34 ...  0.42  9.6   5.  ]\n",
      " [ 6.5   0.23  0.36 ...  0.41  8.8   5.  ]]\n",
      "## B: \n",
      "2B: \n",
      "Y prior fixed acidity: 0.0\n",
      "Y prior volatile acidity: 0.0\n",
      "Y prior citric acid: 0.0\n",
      "Y prior residual sugar: 0.00408371618172537\n",
      "Y prior chlorides: 0.033180193976518634\n",
      "Y prior free sulfur dioxide: 0.29760081674323635\n",
      "Y prior total sulfur dioxide: 0.44869831546707506\n",
      "Y prior density: 0.17968351199591628\n",
      "Y prior pH: 0.03573251659009699\n",
      "Y prior sulphates: 0.0010209290454313426\n",
      "2C: \n",
      "Probability of fixed acidity given K: 0.1855287964043144\n",
      "Probability of volatile acidity given K: 3.779722617176288\n",
      "Probability of citric acid given K: 2.779581663716998\n",
      "Probability of residual sugar given K: 0.09239576075940568\n",
      "Probability of chlorides given K: 21.651129001538827\n",
      "Probability of free sulfur dioxide given K: 0.02877312394297312\n",
      "Probability of total sulfur dioxide given K: 0.007630124228946818\n",
      "Probability of density given K: 124.23539776038227\n",
      "Probability of pH given K: 2.150844057643994\n",
      "Probability of sulphates given K: 1.0236693674865547\n",
      "Probability of alcohol given K: 0.31431359682188137\n",
      "2D: \n",
      "Probability of fixed acidity: 0.16059871572543089\n",
      "Probability of volatile acidity: 3.2180965192890185\n",
      "Probability of citric acid: 2.448273596234816\n",
      "Probability of residual sugar: 0.07135665467386568\n",
      "Probability of chlorides: 12.879260690059832\n",
      "Probability of free sulfur dioxide: 0.02300372443789008\n",
      "Probability of total sulfur dioxide: 0.008781563792986613\n",
      "Probability of density: 79.35470507630602\n",
      "Probability of pH: 2.0143950526699457\n",
      "Probability of sulphates: 0.9733593845294582\n",
      "Probability of alcohol: 0.23539365387711617\n",
      "2E: evaluation of model\n",
      "max probability: 1.8758613402083557e+22\n",
      "min probability: 4.820334893244555e-14\n",
      "variance of probability: 3.515336861295385e+41\n",
      "[[ 5.6   0.21  0.24 ...  0.31 11.5   7.  ]\n",
      " [ 6.2   0.3   0.31 ...  0.39 12.9   7.  ]\n",
      " [ 6.4   0.27  0.32 ...  0.48  9.4   5.  ]\n",
      " ...\n",
      " [ 6.8   0.25  0.18 ...  0.42  9.5   5.  ]\n",
      " [ 8.8   0.17  0.38 ...  0.67 10.2   6.  ]\n",
      " [ 6.8   0.32  0.28 ...  0.47 12.4   7.  ]]\n",
      "## B: \n",
      "2B: \n",
      "Y prior fixed acidity: 0.0\n",
      "Y prior volatile acidity: 0.0\n",
      "Y prior citric acid: 0.0\n",
      "Y prior residual sugar: 0.00408371618172537\n",
      "Y prior chlorides: 0.033180193976518634\n",
      "Y prior free sulfur dioxide: 0.29760081674323635\n",
      "Y prior total sulfur dioxide: 0.44869831546707506\n",
      "Y prior density: 0.17968351199591628\n",
      "Y prior pH: 0.03573251659009699\n",
      "Y prior sulphates: 0.0010209290454313426\n",
      "2C: \n",
      "Probability of fixed acidity given K: 0.18296689799952046\n",
      "Probability of volatile acidity given K: 4.026049142382125\n",
      "Probability of citric acid given K: 3.2879763828500495\n",
      "Probability of residual sugar given K: 0.11442829644905568\n",
      "Probability of chlorides given K: 22.538470917879366\n",
      "Probability of free sulfur dioxide given K: 0.026105343277183047\n",
      "Probability of total sulfur dioxide given K: 0.008536901322715219\n",
      "Probability of density given K: 156.6283418504296\n",
      "Probability of pH given K: 2.428086590746588\n",
      "Probability of sulphates given K: 0.8829199973681606\n",
      "Probability of alcohol given K: 0.4027783959511026\n",
      "2D: \n",
      "Probability of fixed acidity: 0.18366792342113583\n",
      "Probability of volatile acidity: 3.1032306026157523\n",
      "Probability of citric acid: 2.505082853078525\n",
      "Probability of residual sugar: 0.07255414086754937\n",
      "Probability of chlorides: 13.552706662136604\n",
      "Probability of free sulfur dioxide: 0.021432252290427965\n",
      "Probability of total sulfur dioxide: 0.009220799772029215\n",
      "Probability of density: 89.15258853286944\n",
      "Probability of pH: 1.8747373550397906\n",
      "Probability of sulphates: 0.8217594673791941\n",
      "Probability of alcohol: 0.258946062045534\n",
      "2E: evaluation of model\n",
      "max probability: 2824792359600.2905\n",
      "min probability: 0.06958738796780908\n",
      "variance of probability: 8.114281719418702e+22\n"
     ]
    }
   ],
   "source": [
    "thousand_data = my_data[0:1000]\n",
    "eval_model(thousand_data,labels)\n",
    "hundred_data = my_data[0:100]\n",
    "eval_model(hundred_data,labels)"
   ]
  },
  {
   "cell_type": "code",
   "execution_count": null,
   "metadata": {},
   "outputs": [],
   "source": []
  }
 ],
 "metadata": {
  "hide_input": false,
  "kernelspec": {
   "display_name": "Python 3",
   "language": "python",
   "name": "python3"
  },
  "language_info": {
   "codemirror_mode": {
    "name": "ipython",
    "version": 3
   },
   "file_extension": ".py",
   "mimetype": "text/x-python",
   "name": "python",
   "nbconvert_exporter": "python",
   "pygments_lexer": "ipython3",
   "version": "3.7.3"
  }
 },
 "nbformat": 4,
 "nbformat_minor": 2
}
