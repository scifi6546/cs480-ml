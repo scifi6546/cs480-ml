{
 "cells": [
  {
   "cell_type": "markdown",
   "metadata": {},
   "source": [
    "# Problem 1\n",
    "## a. Using variable elimination, calculate the probability that a student who did well on the exam understands the material.P(+u|+e). Show your work.\n",
    "\n",
    "## b. Given the Bayesian network, are T and U independent? Why\n",
    "\n",
    "P(+e) = "
   ]
  },
  {
   "cell_type": "markdown",
   "metadata": {},
   "source": [
    "# Problem 2"
   ]
  },
  {
   "cell_type": "code",
   "execution_count": 12,
   "metadata": {},
   "outputs": [
    {
     "data": {
      "text/html": "<div>\n<style scoped>\n    .dataframe tbody tr th:only-of-type {\n        vertical-align: middle;\n    }\n\n    .dataframe tbody tr th {\n        vertical-align: top;\n    }\n\n    .dataframe thead th {\n        text-align: right;\n    }\n</style>\n<table border=\"1\" class=\"dataframe\">\n  <thead>\n    <tr style=\"text-align: right;\">\n      <th></th>\n      <th>Year</th>\n      <th>Life expectancy</th>\n      <th>Adult Mortality</th>\n      <th>infant deaths</th>\n      <th>Alcohol</th>\n      <th>percentage expenditure</th>\n      <th>Hepatitis B</th>\n      <th>Measles</th>\n      <th>BMI</th>\n      <th>under-five deaths</th>\n      <th>Polio</th>\n      <th>Total expenditure</th>\n      <th>Diphtheria</th>\n      <th>HIV/AIDS</th>\n      <th>GDP</th>\n      <th>Population</th>\n      <th>thinness  1-19 years</th>\n      <th>thinness 5-9 years</th>\n      <th>Income composition of resources</th>\n      <th>Schooling</th>\n    </tr>\n  </thead>\n  <tbody>\n    <tr>\n      <th>count</th>\n      <td>2938.000000</td>\n      <td>2928.000000</td>\n      <td>2928.000000</td>\n      <td>2938.000000</td>\n      <td>2744.000000</td>\n      <td>2938.000000</td>\n      <td>2385.000000</td>\n      <td>2938.000000</td>\n      <td>2904.000000</td>\n      <td>2938.000000</td>\n      <td>2919.000000</td>\n      <td>2712.00000</td>\n      <td>2919.000000</td>\n      <td>2938.000000</td>\n      <td>2490.000000</td>\n      <td>2.286000e+03</td>\n      <td>2904.000000</td>\n      <td>2904.000000</td>\n      <td>2771.000000</td>\n      <td>2775.000000</td>\n    </tr>\n    <tr>\n      <th>mean</th>\n      <td>2007.518720</td>\n      <td>69.224932</td>\n      <td>164.796448</td>\n      <td>30.303948</td>\n      <td>4.602861</td>\n      <td>738.251295</td>\n      <td>80.940461</td>\n      <td>2419.592240</td>\n      <td>38.321247</td>\n      <td>42.035739</td>\n      <td>82.550188</td>\n      <td>5.93819</td>\n      <td>82.324084</td>\n      <td>1.742103</td>\n      <td>7483.158469</td>\n      <td>1.275338e+07</td>\n      <td>4.839704</td>\n      <td>4.870317</td>\n      <td>0.627551</td>\n      <td>11.992793</td>\n    </tr>\n    <tr>\n      <th>std</th>\n      <td>4.613841</td>\n      <td>9.523867</td>\n      <td>124.292079</td>\n      <td>117.926501</td>\n      <td>4.052413</td>\n      <td>1987.914858</td>\n      <td>25.070016</td>\n      <td>11467.272489</td>\n      <td>20.044034</td>\n      <td>160.445548</td>\n      <td>23.428046</td>\n      <td>2.49832</td>\n      <td>23.716912</td>\n      <td>5.077785</td>\n      <td>14270.169342</td>\n      <td>6.101210e+07</td>\n      <td>4.420195</td>\n      <td>4.508882</td>\n      <td>0.210904</td>\n      <td>3.358920</td>\n    </tr>\n    <tr>\n      <th>min</th>\n      <td>2000.000000</td>\n      <td>36.300000</td>\n      <td>1.000000</td>\n      <td>0.000000</td>\n      <td>0.010000</td>\n      <td>0.000000</td>\n      <td>1.000000</td>\n      <td>0.000000</td>\n      <td>1.000000</td>\n      <td>0.000000</td>\n      <td>3.000000</td>\n      <td>0.37000</td>\n      <td>2.000000</td>\n      <td>0.100000</td>\n      <td>1.681350</td>\n      <td>3.400000e+01</td>\n      <td>0.100000</td>\n      <td>0.100000</td>\n      <td>0.000000</td>\n      <td>0.000000</td>\n    </tr>\n    <tr>\n      <th>25%</th>\n      <td>2004.000000</td>\n      <td>63.100000</td>\n      <td>74.000000</td>\n      <td>0.000000</td>\n      <td>0.877500</td>\n      <td>4.685343</td>\n      <td>77.000000</td>\n      <td>0.000000</td>\n      <td>19.300000</td>\n      <td>0.000000</td>\n      <td>78.000000</td>\n      <td>4.26000</td>\n      <td>78.000000</td>\n      <td>0.100000</td>\n      <td>463.935626</td>\n      <td>1.957932e+05</td>\n      <td>1.600000</td>\n      <td>1.500000</td>\n      <td>0.493000</td>\n      <td>10.100000</td>\n    </tr>\n    <tr>\n      <th>50%</th>\n      <td>2008.000000</td>\n      <td>72.100000</td>\n      <td>144.000000</td>\n      <td>3.000000</td>\n      <td>3.755000</td>\n      <td>64.912906</td>\n      <td>92.000000</td>\n      <td>17.000000</td>\n      <td>43.500000</td>\n      <td>4.000000</td>\n      <td>93.000000</td>\n      <td>5.75500</td>\n      <td>93.000000</td>\n      <td>0.100000</td>\n      <td>1766.947595</td>\n      <td>1.386542e+06</td>\n      <td>3.300000</td>\n      <td>3.300000</td>\n      <td>0.677000</td>\n      <td>12.300000</td>\n    </tr>\n    <tr>\n      <th>75%</th>\n      <td>2012.000000</td>\n      <td>75.700000</td>\n      <td>228.000000</td>\n      <td>22.000000</td>\n      <td>7.702500</td>\n      <td>441.534144</td>\n      <td>97.000000</td>\n      <td>360.250000</td>\n      <td>56.200000</td>\n      <td>28.000000</td>\n      <td>97.000000</td>\n      <td>7.49250</td>\n      <td>97.000000</td>\n      <td>0.800000</td>\n      <td>5910.806335</td>\n      <td>7.420359e+06</td>\n      <td>7.200000</td>\n      <td>7.200000</td>\n      <td>0.779000</td>\n      <td>14.300000</td>\n    </tr>\n    <tr>\n      <th>max</th>\n      <td>2015.000000</td>\n      <td>89.000000</td>\n      <td>723.000000</td>\n      <td>1800.000000</td>\n      <td>17.870000</td>\n      <td>19479.911610</td>\n      <td>99.000000</td>\n      <td>212183.000000</td>\n      <td>87.300000</td>\n      <td>2500.000000</td>\n      <td>99.000000</td>\n      <td>17.60000</td>\n      <td>99.000000</td>\n      <td>50.600000</td>\n      <td>119172.741800</td>\n      <td>1.293859e+09</td>\n      <td>27.700000</td>\n      <td>28.600000</td>\n      <td>0.948000</td>\n      <td>20.700000</td>\n    </tr>\n  </tbody>\n</table>\n</div>",
      "text/plain": "              Year  Life expectancy   Adult Mortality  infant deaths  \\\ncount  2938.000000       2928.000000      2928.000000    2938.000000   \nmean   2007.518720         69.224932       164.796448      30.303948   \nstd       4.613841          9.523867       124.292079     117.926501   \nmin    2000.000000         36.300000         1.000000       0.000000   \n25%    2004.000000         63.100000        74.000000       0.000000   \n50%    2008.000000         72.100000       144.000000       3.000000   \n75%    2012.000000         75.700000       228.000000      22.000000   \nmax    2015.000000         89.000000       723.000000    1800.000000   \n\n           Alcohol  percentage expenditure  Hepatitis B       Measles   \\\ncount  2744.000000             2938.000000  2385.000000    2938.000000   \nmean      4.602861              738.251295    80.940461    2419.592240   \nstd       4.052413             1987.914858    25.070016   11467.272489   \nmin       0.010000                0.000000     1.000000       0.000000   \n25%       0.877500                4.685343    77.000000       0.000000   \n50%       3.755000               64.912906    92.000000      17.000000   \n75%       7.702500              441.534144    97.000000     360.250000   \nmax      17.870000            19479.911610    99.000000  212183.000000   \n\n              BMI   under-five deaths         Polio  Total expenditure  \\\ncount  2904.000000         2938.000000  2919.000000         2712.00000   \nmean     38.321247           42.035739    82.550188            5.93819   \nstd      20.044034          160.445548    23.428046            2.49832   \nmin       1.000000            0.000000     3.000000            0.37000   \n25%      19.300000            0.000000    78.000000            4.26000   \n50%      43.500000            4.000000    93.000000            5.75500   \n75%      56.200000           28.000000    97.000000            7.49250   \nmax      87.300000         2500.000000    99.000000           17.60000   \n\n       Diphtheria      HIV/AIDS            GDP    Population  \\\ncount  2919.000000  2938.000000    2490.000000  2.286000e+03   \nmean     82.324084     1.742103    7483.158469  1.275338e+07   \nstd      23.716912     5.077785   14270.169342  6.101210e+07   \nmin       2.000000     0.100000       1.681350  3.400000e+01   \n25%      78.000000     0.100000     463.935626  1.957932e+05   \n50%      93.000000     0.100000    1766.947595  1.386542e+06   \n75%      97.000000     0.800000    5910.806335  7.420359e+06   \nmax      99.000000    50.600000  119172.741800  1.293859e+09   \n\n        thinness  1-19 years   thinness 5-9 years  \\\ncount            2904.000000          2904.000000   \nmean                4.839704             4.870317   \nstd                 4.420195             4.508882   \nmin                 0.100000             0.100000   \n25%                 1.600000             1.500000   \n50%                 3.300000             3.300000   \n75%                 7.200000             7.200000   \nmax                27.700000            28.600000   \n\n       Income composition of resources    Schooling  \ncount                      2771.000000  2775.000000  \nmean                          0.627551    11.992793  \nstd                           0.210904     3.358920  \nmin                           0.000000     0.000000  \n25%                           0.493000    10.100000  \n50%                           0.677000    12.300000  \n75%                           0.779000    14.300000  \nmax                           0.948000    20.700000  "
     },
     "execution_count": 12,
     "metadata": {},
     "output_type": "execute_result"
    }
   ],
   "source": [
    "import numpy as np\n",
    "import pandas as pd\n",
    "from IPython.display import display, Markdown\n",
    "from sklearn.linear_model import LinearRegression,Ridge,Lasso\n",
    "from sklearn.model_selection import cross_val_score\n",
    "import statistics\n",
    "data = pd.read_csv(\"Life Expectancy Data.csv\")\n",
    "data.describe()\n"
   ]
  },
  {
   "cell_type": "markdown",
   "metadata": {},
   "source": [
    "# Divide the data into a training set and a testing set\n",
    "I am dividing the training set and testing set by selecting 25% of the data for training (with replacement) and 75% as the test data set.\n"
   ]
  },
  {
   "cell_type": "code",
   "execution_count": null,
   "metadata": {},
   "outputs": [],
   "source": []
  },
  {
   "cell_type": "code",
   "execution_count": 13,
   "metadata": {},
   "outputs": [],
   "source": [
    "train = data.sample(frac=0.25)\n",
    "test = data.sample(frac=0.75)"
   ]
  },
  {
   "cell_type": "markdown",
   "metadata": {},
   "source": [
    "# Using your training set, determine which variables are actually affecting the life expectancy.How did you arrive at that conclusion?"
   ]
  },
  {
   "cell_type": "code",
   "execution_count": 14,
   "metadata": {},
   "outputs": [
    {
     "data": {
      "text/html": "<div>\n<style scoped>\n    .dataframe tbody tr th:only-of-type {\n        vertical-align: middle;\n    }\n\n    .dataframe tbody tr th {\n        vertical-align: top;\n    }\n\n    .dataframe thead th {\n        text-align: right;\n    }\n</style>\n<table border=\"1\" class=\"dataframe\">\n  <thead>\n    <tr style=\"text-align: right;\">\n      <th></th>\n      <th>measure_name</th>\n      <th>r squared</th>\n    </tr>\n  </thead>\n  <tbody>\n    <tr>\n      <th>0</th>\n      <td>Adult Mortality</td>\n      <td>0.428285</td>\n    </tr>\n    <tr>\n      <th>1</th>\n      <td>infant deaths</td>\n      <td>0.046285</td>\n    </tr>\n    <tr>\n      <th>2</th>\n      <td>Alcohol</td>\n      <td>0.117134</td>\n    </tr>\n    <tr>\n      <th>3</th>\n      <td>percentage expenditure</td>\n      <td>0.153567</td>\n    </tr>\n    <tr>\n      <th>4</th>\n      <td>Hepatitis B</td>\n      <td>0.092535</td>\n    </tr>\n    <tr>\n      <th>5</th>\n      <td>Measles</td>\n      <td>0.027143</td>\n    </tr>\n    <tr>\n      <th>6</th>\n      <td>BMI</td>\n      <td>0.325734</td>\n    </tr>\n    <tr>\n      <th>7</th>\n      <td>under-five deaths</td>\n      <td>0.057413</td>\n    </tr>\n    <tr>\n      <th>8</th>\n      <td>Polio</td>\n      <td>0.221880</td>\n    </tr>\n    <tr>\n      <th>9</th>\n      <td>Total expenditure</td>\n      <td>0.022186</td>\n    </tr>\n    <tr>\n      <th>10</th>\n      <td>Diphtheria</td>\n      <td>0.241932</td>\n    </tr>\n    <tr>\n      <th>11</th>\n      <td>HIV/AIDS</td>\n      <td>0.277079</td>\n    </tr>\n    <tr>\n      <th>12</th>\n      <td>GDP</td>\n      <td>0.233390</td>\n    </tr>\n    <tr>\n      <th>13</th>\n      <td>Population</td>\n      <td>0.001750</td>\n    </tr>\n    <tr>\n      <th>14</th>\n      <td>thinness  1-19 years</td>\n      <td>0.207272</td>\n    </tr>\n    <tr>\n      <th>15</th>\n      <td>thinness 5-9 years</td>\n      <td>0.215152</td>\n    </tr>\n    <tr>\n      <th>16</th>\n      <td>Income composition of resources</td>\n      <td>0.457093</td>\n    </tr>\n    <tr>\n      <th>17</th>\n      <td>Schooling</td>\n      <td>0.548690</td>\n    </tr>\n  </tbody>\n</table>\n</div>",
      "text/plain": "                       measure_name  r squared\n0                   Adult Mortality   0.428285\n1                     infant deaths   0.046285\n2                           Alcohol   0.117134\n3            percentage expenditure   0.153567\n4                       Hepatitis B   0.092535\n5                          Measles    0.027143\n6                              BMI    0.325734\n7                under-five deaths    0.057413\n8                             Polio   0.221880\n9                 Total expenditure   0.022186\n10                      Diphtheria    0.241932\n11                         HIV/AIDS   0.277079\n12                              GDP   0.233390\n13                       Population   0.001750\n14             thinness  1-19 years   0.207272\n15               thinness 5-9 years   0.215152\n16  Income composition of resources   0.457093\n17                        Schooling   0.548690"
     },
     "execution_count": 14,
     "metadata": {},
     "output_type": "execute_result"
    }
   ],
   "source": [
    "# To find correlation of each variable perform linear regression in relation to each variable\n",
    "def print_col_correlations(data):\n",
    "    filtered = data.values[:,:]\n",
    "    filtered=filtered[:,4:]\n",
    "    i = 4\n",
    "    r_squared_data = []\n",
    "    for col in filtered.T:\n",
    "        col = col.astype(float)\n",
    "        col = np.array(col)\n",
    "\n",
    "        y =  data.values[:,3]\n",
    "\n",
    "        y = y.astype(float)\n",
    "        nans = np.isnan(y)\n",
    "        y = y[~nans]\n",
    "\n",
    "        col = col[~nans]\n",
    "\n",
    "        col_nans = np.isnan(col)\n",
    "        col=col[~col_nans]\n",
    "        y = y[~col_nans]\n",
    "        reg = LinearRegression().fit(col.reshape(-1,1), y)\n",
    "        #print(\"score for: \"+str(data.columns[i]))\n",
    "        score = reg.score(col.reshape(-1,1), y)\n",
    "        r_squared_data.append([data.columns[i],score])\n",
    "        i+=1\n",
    "    return pd.DataFrame(\n",
    "        r_squared_data,columns=[\"measure_name\",\"r squared\"])\n",
    "print_col_correlations(train)\n"
   ]
  },
  {
   "cell_type": "markdown",
   "metadata": {},
   "source": [
    "Infant mortality ,Hepatitis B, Measles, under-five deaths, Total expenditure and Population\thave low correlation with life expectancy. Therefore they will be removed from the analysis."
   ]
  },
  {
   "cell_type": "code",
   "execution_count": 15,
   "metadata": {},
   "outputs": [
    {
     "data": {
      "text/plain": "LinearRegression(copy_X=True, fit_intercept=True, n_jobs=None, normalize=False)"
     },
     "execution_count": 15,
     "metadata": {},
     "output_type": "execute_result"
    }
   ],
   "source": [
    "def drop_rows(data):\n",
    "    data = data.dropna()\n",
    "    data.drop('infant deaths',1)\n",
    "    data.drop('Hepatitis B',1)\n",
    "    data.drop('Measles ',1)\n",
    "    data.drop('under-five deaths ',1)\n",
    "    data.drop('Total expenditure',1)\n",
    "    data.drop('Population',1)\n",
    "    return data\n",
    "def make_model(data,normalize=False):\n",
    "    \n",
    "    data = drop_rows(data)\n",
    "    life_expect = data.values[:,3]\n",
    "    #print(life_expect)\n",
    "    reg = LinearRegression(normalize=normalize).fit(data.values[:,4:], life_expect)\n",
    "    score = reg.score(data.values[:,4:], life_expect)\n",
    "    return reg\n",
    "\n",
    "make_model(train)\n"
   ]
  },
  {
   "cell_type": "markdown",
   "metadata": {},
   "source": [
    "# Evaluate how well does your model predict life expectancy\n"
   ]
  },
  {
   "cell_type": "code",
   "execution_count": null,
   "metadata": {},
   "outputs": [],
   "source": []
  },
  {
   "cell_type": "code",
   "execution_count": 16,
   "metadata": {},
   "outputs": [
    {
     "data": {
      "text/html": "<div>\n<style scoped>\n    .dataframe tbody tr th:only-of-type {\n        vertical-align: middle;\n    }\n\n    .dataframe tbody tr th {\n        vertical-align: top;\n    }\n\n    .dataframe thead th {\n        text-align: right;\n    }\n</style>\n<table border=\"1\" class=\"dataframe\">\n  <thead>\n    <tr style=\"text-align: right;\">\n      <th></th>\n      <th>Axis Name</th>\n      <th>Coefficient</th>\n    </tr>\n  </thead>\n  <tbody>\n    <tr>\n      <th>0</th>\n      <td>Country</td>\n      <td>-1.673030e-02</td>\n    </tr>\n    <tr>\n      <th>1</th>\n      <td>Year</td>\n      <td>7.003552e-02</td>\n    </tr>\n    <tr>\n      <th>2</th>\n      <td>Status</td>\n      <td>-1.806005e-01</td>\n    </tr>\n    <tr>\n      <th>3</th>\n      <td>Life expectancy</td>\n      <td>8.779985e-04</td>\n    </tr>\n    <tr>\n      <th>4</th>\n      <td>Adult Mortality</td>\n      <td>-5.855296e-04</td>\n    </tr>\n    <tr>\n      <th>5</th>\n      <td>infant deaths</td>\n      <td>-1.095078e-05</td>\n    </tr>\n    <tr>\n      <th>6</th>\n      <td>Alcohol</td>\n      <td>3.321609e-02</td>\n    </tr>\n    <tr>\n      <th>7</th>\n      <td>percentage expenditure</td>\n      <td>-5.119188e-02</td>\n    </tr>\n    <tr>\n      <th>8</th>\n      <td>Hepatitis B</td>\n      <td>5.967161e-03</td>\n    </tr>\n    <tr>\n      <th>9</th>\n      <td>Measles</td>\n      <td>5.662884e-02</td>\n    </tr>\n    <tr>\n      <th>10</th>\n      <td>BMI</td>\n      <td>2.174475e-02</td>\n    </tr>\n    <tr>\n      <th>11</th>\n      <td>under-five deaths</td>\n      <td>-5.124368e-01</td>\n    </tr>\n    <tr>\n      <th>12</th>\n      <td>Polio</td>\n      <td>-3.472521e-05</td>\n    </tr>\n    <tr>\n      <th>13</th>\n      <td>Total expenditure</td>\n      <td>-2.908367e-09</td>\n    </tr>\n    <tr>\n      <th>14</th>\n      <td>Diphtheria</td>\n      <td>4.529013e-02</td>\n    </tr>\n    <tr>\n      <th>15</th>\n      <td>HIV/AIDS</td>\n      <td>-1.317925e-01</td>\n    </tr>\n    <tr>\n      <th>16</th>\n      <td>GDP</td>\n      <td>6.368607e+00</td>\n    </tr>\n    <tr>\n      <th>17</th>\n      <td>Population</td>\n      <td>1.113798e+00</td>\n    </tr>\n  </tbody>\n</table>\n</div>",
      "text/plain": "                 Axis Name   Coefficient\n0                  Country -1.673030e-02\n1                     Year  7.003552e-02\n2                   Status -1.806005e-01\n3         Life expectancy   8.779985e-04\n4          Adult Mortality -5.855296e-04\n5            infant deaths -1.095078e-05\n6                  Alcohol  3.321609e-02\n7   percentage expenditure -5.119188e-02\n8              Hepatitis B  5.967161e-03\n9                 Measles   5.662884e-02\n10                    BMI   2.174475e-02\n11      under-five deaths  -5.124368e-01\n12                   Polio -3.472521e-05\n13       Total expenditure -2.908367e-09\n14             Diphtheria   4.529013e-02\n15                HIV/AIDS -1.317925e-01\n16                     GDP  6.368607e+00\n17              Population  1.113798e+00"
     },
     "metadata": {},
     "output_type": "display_data"
    },
    {
     "data": {
      "text/html": "<div>\n<style scoped>\n    .dataframe tbody tr th:only-of-type {\n        vertical-align: middle;\n    }\n\n    .dataframe tbody tr th {\n        vertical-align: top;\n    }\n\n    .dataframe thead th {\n        text-align: right;\n    }\n</style>\n<table border=\"1\" class=\"dataframe\">\n  <thead>\n    <tr style=\"text-align: right;\">\n      <th></th>\n      <th>Country</th>\n      <th>Standard Deviation</th>\n    </tr>\n  </thead>\n  <tbody>\n    <tr>\n      <th>0</th>\n      <td>Indonesia</td>\n      <td>1.391569</td>\n    </tr>\n    <tr>\n      <th>1</th>\n      <td>Haiti</td>\n      <td>0.207971</td>\n    </tr>\n    <tr>\n      <th>2</th>\n      <td>Paraguay</td>\n      <td>0.959220</td>\n    </tr>\n    <tr>\n      <th>3</th>\n      <td>Swaziland</td>\n      <td>6.117157</td>\n    </tr>\n    <tr>\n      <th>4</th>\n      <td>Ireland</td>\n      <td>0.612098</td>\n    </tr>\n    <tr>\n      <th>...</th>\n      <td>...</td>\n      <td>...</td>\n    </tr>\n    <tr>\n      <th>127</th>\n      <td>Croatia</td>\n      <td>1.092439</td>\n    </tr>\n    <tr>\n      <th>128</th>\n      <td>Montenegro</td>\n      <td>1.036056</td>\n    </tr>\n    <tr>\n      <th>129</th>\n      <td>Poland</td>\n      <td>0.941527</td>\n    </tr>\n    <tr>\n      <th>130</th>\n      <td>Sweden</td>\n      <td>4.376688</td>\n    </tr>\n    <tr>\n      <th>131</th>\n      <td>Liberia</td>\n      <td>3.406958</td>\n    </tr>\n  </tbody>\n</table>\n<p>132 rows × 2 columns</p>\n</div>",
      "text/plain": "        Country  Standard Deviation\n0     Indonesia            1.391569\n1         Haiti            0.207971\n2      Paraguay            0.959220\n3     Swaziland            6.117157\n4       Ireland            0.612098\n..          ...                 ...\n127     Croatia            1.092439\n128  Montenegro            1.036056\n129      Poland            0.941527\n130      Sweden            4.376688\n131     Liberia            3.406958\n\n[132 rows x 2 columns]"
     },
     "metadata": {},
     "output_type": "display_data"
    }
   ],
   "source": [
    "def eval_model(model,train):\n",
    "\n",
    "    # dropping rows from test dataset\n",
    "    test_cleaned = drop_rows(test)\n",
    "    x = test_cleaned.values[:,4:]\n",
    "    y=test_cleaned.values[:,3]\n",
    "    #for i in model.coef_:\n",
    "    #    print(i)\n",
    "    #for i in test_cleaned.axes[0]:\n",
    "    #    print(i)\n",
    "    data = []\n",
    "    try:\n",
    "        for coef,axes in zip(model.coef_,test_cleaned.axes[1]):\n",
    "            data.append([axes,coef])\n",
    "        frame = pd.DataFrame(data,columns=[\"Axis Name\",\"Coefficient\"])\n",
    "        display(frame)\n",
    "    except:\n",
    "        a=0\n",
    "\n",
    "    countries = {}\n",
    "    for row in test_cleaned.values:\n",
    "        #print(row[0])\n",
    "        #print(row[4:])\n",
    "        prediction = model.predict(row[4:].reshape(1, -1))[0]\n",
    "        actual = row[3]\n",
    "        err = prediction-actual\n",
    "        #print(repr(err))\n",
    "        try:\n",
    "            countries[row[0]].append(err)\n",
    "        except:\n",
    "            countries[row[0]]=[err]\n",
    "    #print(countries)\n",
    "    country_stdev_arr = []\n",
    "    for country in countries:\n",
    "        stdev=0\n",
    "        if(len(countries[country])>1):\n",
    "            stdev = statistics.stdev(countries[country])\n",
    "        #print(stdev)\n",
    "        country_stdev_arr.append([country,stdev])\n",
    "    display(pd.DataFrame(country_stdev_arr,columns=[\"Country\",\"Standard Deviation\"]))\n",
    "model = make_model(train)\n",
    "eval_model(model,train)"
   ]
  },
  {
   "cell_type": "markdown",
   "metadata": {},
   "source": [
    "The results show the standard deviation for the difference between real life expectancy and real life expectancy based on country."
   ]
  },
  {
   "cell_type": "markdown",
   "metadata": {},
   "source": [
    "# Scikit-learn offers two other types of regression, Ridge and Lasso, whichhelp with reducing the magnitude of the coefficientsand reduces overfitting. Using regularization,determine if your model improves using the Ridge or Lasso regression. See which alphavalues provide the best results. Describe your results"
   ]
  },
  {
   "cell_type": "code",
   "execution_count": null,
   "metadata": {},
   "outputs": [],
   "source": []
  },
  {
   "cell_type": "code",
   "execution_count": 17,
   "metadata": {},
   "outputs": [
    {
     "name": "stderr",
     "output_type": "stream",
     "text": "/home/nick/.local/lib/python3.7/site-packages/sklearn/linear_model/_ridge.py:148: LinAlgWarning: Ill-conditioned matrix (rcond=4.25378e-18): result may not be accurate.\n  overwrite_a=True).T\n"
    },
    {
     "data": {
      "text/html": "<div>\n<style scoped>\n    .dataframe tbody tr th:only-of-type {\n        vertical-align: middle;\n    }\n\n    .dataframe tbody tr th {\n        vertical-align: top;\n    }\n\n    .dataframe thead th {\n        text-align: right;\n    }\n</style>\n<table border=\"1\" class=\"dataframe\">\n  <thead>\n    <tr style=\"text-align: right;\">\n      <th></th>\n      <th>Axis Name</th>\n      <th>Coefficient</th>\n    </tr>\n  </thead>\n  <tbody>\n    <tr>\n      <th>0</th>\n      <td>Country</td>\n      <td>-1.683343e-02</td>\n    </tr>\n    <tr>\n      <th>1</th>\n      <td>Year</td>\n      <td>7.045294e-02</td>\n    </tr>\n    <tr>\n      <th>2</th>\n      <td>Status</td>\n      <td>-1.751630e-01</td>\n    </tr>\n    <tr>\n      <th>3</th>\n      <td>Life expectancy</td>\n      <td>8.700601e-04</td>\n    </tr>\n    <tr>\n      <th>4</th>\n      <td>Adult Mortality</td>\n      <td>-4.687581e-04</td>\n    </tr>\n    <tr>\n      <th>5</th>\n      <td>infant deaths</td>\n      <td>-1.068622e-05</td>\n    </tr>\n    <tr>\n      <th>6</th>\n      <td>Alcohol</td>\n      <td>3.407182e-02</td>\n    </tr>\n    <tr>\n      <th>7</th>\n      <td>percentage expenditure</td>\n      <td>-5.146457e-02</td>\n    </tr>\n    <tr>\n      <th>8</th>\n      <td>Hepatitis B</td>\n      <td>5.836993e-03</td>\n    </tr>\n    <tr>\n      <th>9</th>\n      <td>Measles</td>\n      <td>5.847566e-02</td>\n    </tr>\n    <tr>\n      <th>10</th>\n      <td>BMI</td>\n      <td>2.257741e-02</td>\n    </tr>\n    <tr>\n      <th>11</th>\n      <td>under-five deaths</td>\n      <td>-5.135731e-01</td>\n    </tr>\n    <tr>\n      <th>12</th>\n      <td>Polio</td>\n      <td>-3.207128e-05</td>\n    </tr>\n    <tr>\n      <th>13</th>\n      <td>Total expenditure</td>\n      <td>-2.933998e-09</td>\n    </tr>\n    <tr>\n      <th>14</th>\n      <td>Diphtheria</td>\n      <td>4.417304e-02</td>\n    </tr>\n    <tr>\n      <th>15</th>\n      <td>HIV/AIDS</td>\n      <td>-1.297403e-01</td>\n    </tr>\n    <tr>\n      <th>16</th>\n      <td>GDP</td>\n      <td>5.529388e+00</td>\n    </tr>\n    <tr>\n      <th>17</th>\n      <td>Population</td>\n      <td>1.139732e+00</td>\n    </tr>\n  </tbody>\n</table>\n</div>",
      "text/plain": "                 Axis Name   Coefficient\n0                  Country -1.683343e-02\n1                     Year  7.045294e-02\n2                   Status -1.751630e-01\n3         Life expectancy   8.700601e-04\n4          Adult Mortality -4.687581e-04\n5            infant deaths -1.068622e-05\n6                  Alcohol  3.407182e-02\n7   percentage expenditure -5.146457e-02\n8              Hepatitis B  5.836993e-03\n9                 Measles   5.847566e-02\n10                    BMI   2.257741e-02\n11      under-five deaths  -5.135731e-01\n12                   Polio -3.207128e-05\n13       Total expenditure -2.933998e-09\n14             Diphtheria   4.417304e-02\n15                HIV/AIDS -1.297403e-01\n16                     GDP  5.529388e+00\n17              Population  1.139732e+00"
     },
     "metadata": {},
     "output_type": "display_data"
    },
    {
     "data": {
      "text/html": "<div>\n<style scoped>\n    .dataframe tbody tr th:only-of-type {\n        vertical-align: middle;\n    }\n\n    .dataframe tbody tr th {\n        vertical-align: top;\n    }\n\n    .dataframe thead th {\n        text-align: right;\n    }\n</style>\n<table border=\"1\" class=\"dataframe\">\n  <thead>\n    <tr style=\"text-align: right;\">\n      <th></th>\n      <th>Country</th>\n      <th>Standard Deviation</th>\n    </tr>\n  </thead>\n  <tbody>\n    <tr>\n      <th>0</th>\n      <td>Indonesia</td>\n      <td>1.397760</td>\n    </tr>\n    <tr>\n      <th>1</th>\n      <td>Haiti</td>\n      <td>0.172019</td>\n    </tr>\n    <tr>\n      <th>2</th>\n      <td>Paraguay</td>\n      <td>0.969790</td>\n    </tr>\n    <tr>\n      <th>3</th>\n      <td>Swaziland</td>\n      <td>6.149613</td>\n    </tr>\n    <tr>\n      <th>4</th>\n      <td>Ireland</td>\n      <td>0.661280</td>\n    </tr>\n    <tr>\n      <th>...</th>\n      <td>...</td>\n      <td>...</td>\n    </tr>\n    <tr>\n      <th>127</th>\n      <td>Croatia</td>\n      <td>1.116600</td>\n    </tr>\n    <tr>\n      <th>128</th>\n      <td>Montenegro</td>\n      <td>1.026311</td>\n    </tr>\n    <tr>\n      <th>129</th>\n      <td>Poland</td>\n      <td>0.947445</td>\n    </tr>\n    <tr>\n      <th>130</th>\n      <td>Sweden</td>\n      <td>4.412484</td>\n    </tr>\n    <tr>\n      <th>131</th>\n      <td>Liberia</td>\n      <td>3.430436</td>\n    </tr>\n  </tbody>\n</table>\n<p>132 rows × 2 columns</p>\n</div>",
      "text/plain": "        Country  Standard Deviation\n0     Indonesia            1.397760\n1         Haiti            0.172019\n2      Paraguay            0.969790\n3     Swaziland            6.149613\n4       Ireland            0.661280\n..          ...                 ...\n127     Croatia            1.116600\n128  Montenegro            1.026311\n129      Poland            0.947445\n130      Sweden            4.412484\n131     Liberia            3.430436\n\n[132 rows x 2 columns]"
     },
     "metadata": {},
     "output_type": "display_data"
    }
   ],
   "source": [
    "def make_ridge(data,normalize=False,alpha=1.0):\n",
    "    \n",
    "    data = drop_rows(data)\n",
    "    life_expect = data.values[:,3]\n",
    "    #print(life_expect)\n",
    "    reg = Ridge(normalize=normalize,alpha=alpha).fit(data.values[:,4:], life_expect)\n",
    "    score = reg.score(data.values[:,4:], life_expect)\n",
    "    return reg,score\n",
    "ridge,score = make_ridge(train)\n",
    "eval_model(ridge,train)"
   ]
  },
  {
   "cell_type": "code",
   "execution_count": null,
   "metadata": {},
   "outputs": [],
   "source": []
  },
  {
   "cell_type": "code",
   "execution_count": 18,
   "metadata": {},
   "outputs": [
    {
     "name": "stderr",
     "output_type": "stream",
     "text": "/home/nick/.local/lib/python3.7/site-packages/sklearn/linear_model/_coordinate_descent.py:476: ConvergenceWarning: Objective did not converge. You might want to increase the number of iterations. Duality gap: 3504.1158005044695, tolerance: 2.91604826869159\n  positive)\n"
    },
    {
     "data": {
      "text/html": "<div>\n<style scoped>\n    .dataframe tbody tr th:only-of-type {\n        vertical-align: middle;\n    }\n\n    .dataframe tbody tr th {\n        vertical-align: top;\n    }\n\n    .dataframe thead th {\n        text-align: right;\n    }\n</style>\n<table border=\"1\" class=\"dataframe\">\n  <thead>\n    <tr style=\"text-align: right;\">\n      <th></th>\n      <th>Axis Name</th>\n      <th>Coefficient</th>\n    </tr>\n  </thead>\n  <tbody>\n    <tr>\n      <th>0</th>\n      <td>Country</td>\n      <td>-1.947819e-02</td>\n    </tr>\n    <tr>\n      <th>1</th>\n      <td>Year</td>\n      <td>6.690594e-02</td>\n    </tr>\n    <tr>\n      <th>2</th>\n      <td>Status</td>\n      <td>-0.000000e+00</td>\n    </tr>\n    <tr>\n      <th>3</th>\n      <td>Life expectancy</td>\n      <td>7.077198e-04</td>\n    </tr>\n    <tr>\n      <th>4</th>\n      <td>Adult Mortality</td>\n      <td>6.551964e-04</td>\n    </tr>\n    <tr>\n      <th>5</th>\n      <td>infant deaths</td>\n      <td>-5.853898e-06</td>\n    </tr>\n    <tr>\n      <th>6</th>\n      <td>Alcohol</td>\n      <td>5.639894e-02</td>\n    </tr>\n    <tr>\n      <th>7</th>\n      <td>percentage expenditure</td>\n      <td>-5.014146e-02</td>\n    </tr>\n    <tr>\n      <th>8</th>\n      <td>Hepatitis B</td>\n      <td>5.657736e-03</td>\n    </tr>\n    <tr>\n      <th>9</th>\n      <td>Measles</td>\n      <td>0.000000e+00</td>\n    </tr>\n    <tr>\n      <th>10</th>\n      <td>BMI</td>\n      <td>3.201146e-02</td>\n    </tr>\n    <tr>\n      <th>11</th>\n      <td>under-five deaths</td>\n      <td>-5.048296e-01</td>\n    </tr>\n    <tr>\n      <th>12</th>\n      <td>Polio</td>\n      <td>1.811516e-05</td>\n    </tr>\n    <tr>\n      <th>13</th>\n      <td>Total expenditure</td>\n      <td>-1.898285e-09</td>\n    </tr>\n    <tr>\n      <th>14</th>\n      <td>Diphtheria</td>\n      <td>-0.000000e+00</td>\n    </tr>\n    <tr>\n      <th>15</th>\n      <td>HIV/AIDS</td>\n      <td>-1.054183e-02</td>\n    </tr>\n    <tr>\n      <th>16</th>\n      <td>GDP</td>\n      <td>0.000000e+00</td>\n    </tr>\n    <tr>\n      <th>17</th>\n      <td>Population</td>\n      <td>9.501835e-01</td>\n    </tr>\n  </tbody>\n</table>\n</div>",
      "text/plain": "                 Axis Name   Coefficient\n0                  Country -1.947819e-02\n1                     Year  6.690594e-02\n2                   Status -0.000000e+00\n3         Life expectancy   7.077198e-04\n4          Adult Mortality  6.551964e-04\n5            infant deaths -5.853898e-06\n6                  Alcohol  5.639894e-02\n7   percentage expenditure -5.014146e-02\n8              Hepatitis B  5.657736e-03\n9                 Measles   0.000000e+00\n10                    BMI   3.201146e-02\n11      under-five deaths  -5.048296e-01\n12                   Polio  1.811516e-05\n13       Total expenditure -1.898285e-09\n14             Diphtheria  -0.000000e+00\n15                HIV/AIDS -1.054183e-02\n16                     GDP  0.000000e+00\n17              Population  9.501835e-01"
     },
     "metadata": {},
     "output_type": "display_data"
    },
    {
     "data": {
      "text/html": "<div>\n<style scoped>\n    .dataframe tbody tr th:only-of-type {\n        vertical-align: middle;\n    }\n\n    .dataframe tbody tr th {\n        vertical-align: top;\n    }\n\n    .dataframe thead th {\n        text-align: right;\n    }\n</style>\n<table border=\"1\" class=\"dataframe\">\n  <thead>\n    <tr style=\"text-align: right;\">\n      <th></th>\n      <th>Country</th>\n      <th>Standard Deviation</th>\n    </tr>\n  </thead>\n  <tbody>\n    <tr>\n      <th>0</th>\n      <td>Indonesia</td>\n      <td>1.282451</td>\n    </tr>\n    <tr>\n      <th>1</th>\n      <td>Haiti</td>\n      <td>0.638881</td>\n    </tr>\n    <tr>\n      <th>2</th>\n      <td>Paraguay</td>\n      <td>1.002423</td>\n    </tr>\n    <tr>\n      <th>3</th>\n      <td>Swaziland</td>\n      <td>6.033462</td>\n    </tr>\n    <tr>\n      <th>4</th>\n      <td>Ireland</td>\n      <td>1.659911</td>\n    </tr>\n    <tr>\n      <th>...</th>\n      <td>...</td>\n      <td>...</td>\n    </tr>\n    <tr>\n      <th>127</th>\n      <td>Croatia</td>\n      <td>1.696678</td>\n    </tr>\n    <tr>\n      <th>128</th>\n      <td>Montenegro</td>\n      <td>0.686548</td>\n    </tr>\n    <tr>\n      <th>129</th>\n      <td>Poland</td>\n      <td>1.086741</td>\n    </tr>\n    <tr>\n      <th>130</th>\n      <td>Sweden</td>\n      <td>4.980480</td>\n    </tr>\n    <tr>\n      <th>131</th>\n      <td>Liberia</td>\n      <td>3.550524</td>\n    </tr>\n  </tbody>\n</table>\n<p>132 rows × 2 columns</p>\n</div>",
      "text/plain": "        Country  Standard Deviation\n0     Indonesia            1.282451\n1         Haiti            0.638881\n2      Paraguay            1.002423\n3     Swaziland            6.033462\n4       Ireland            1.659911\n..          ...                 ...\n127     Croatia            1.696678\n128  Montenegro            0.686548\n129      Poland            1.086741\n130      Sweden            4.980480\n131     Liberia            3.550524\n\n[132 rows x 2 columns]"
     },
     "metadata": {},
     "output_type": "display_data"
    }
   ],
   "source": [
    "def make_lasso(data,normalize=False,alpha=1.0):\n",
    "    data = drop_rows(data)\n",
    "    life_expect = data.values[:,3]\n",
    "    #print(life_expect)\n",
    "    reg = Lasso(normalize=normalize,alpha=alpha).fit(data.values[:,4:],\n",
    "        life_expect)\n",
    "    score = reg.score(data.values[:,4:], life_expect)\n",
    "    return reg,score\n",
    "lasso,score = make_lasso(train)\n",
    "eval_model(lasso,train)"
   ]
  },
  {
   "cell_type": "markdown",
   "metadata": {},
   "source": [
    "## Tuning alpha"
   ]
  },
  {
   "cell_type": "code",
   "execution_count": 19,
   "metadata": {},
   "outputs": [
    {
     "name": "stderr",
     "output_type": "stream",
     "text": "y not be accurate.\n  overwrite_a=True).T\n/home/nick/.local/lib/python3.7/site-packages/sklearn/linear_model/_coordinate_descent.py:476: ConvergenceWarning: Objective did not converge. You might want to increase the number of iterations. Duality gap: 131.19696419176307, tolerance: 2.91604826869159\n  positive)\n/home/nick/.local/lib/python3.7/site-packages/sklearn/linear_model/_ridge.py:148: LinAlgWarning: Ill-conditioned matrix (rcond=5.89044e-18): result may not be accurate.\n  overwrite_a=True).T\n/home/nick/.local/lib/python3.7/site-packages/sklearn/linear_model/_coordinate_descent.py:476: ConvergenceWarning: Objective did not converge. You might want to increase the number of iterations. Duality gap: 122.1293767129373, tolerance: 2.91604826869159\n  positive)\n/home/nick/.local/lib/python3.7/site-packages/sklearn/linear_model/_ridge.py:148: LinAlgWarning: Ill-conditioned matrix (rcond=5.94688e-18): result may not be accurate.\n  overwrite_a=True).T\n/home/nick/.local/lib/python3.7/site-packages/sklearn/linear_model/_coordinate_descent.py:476: ConvergenceWarning: Objective did not converge. You might want to increase the number of iterations. Duality gap: 113.39915308197851, tolerance: 2.91604826869159\n  positive)\n/home/nick/.local/lib/python3.7/site-packages/sklearn/linear_model/_ridge.py:148: LinAlgWarning: Ill-conditioned matrix (rcond=6.00332e-18): result may not be accurate.\n  overwrite_a=True).T\n/home/nick/.local/lib/python3.7/site-packages/sklearn/linear_model/_coordinate_descent.py:476: ConvergenceWarning: Objective did not converge. You might want to increase the number of iterations. Duality gap: 104.9911720379132, tolerance: 2.91604826869159\n  positive)\n/home/nick/.local/lib/python3.7/site-packages/sklearn/linear_model/_ridge.py:148: LinAlgWarning: Ill-conditioned matrix (rcond=6.05976e-18): result may not be accurate.\n  overwrite_a=True).T\n/home/nick/.local/lib/python3.7/site-packages/sklearn/linear_model/_coordinate_descent.py:476: ConvergenceWarning: Objective did not converge. You might want to increase the number of iterations. Duality gap: 96.89555538104742, tolerance: 2.91604826869159\n  positive)\n/home/nick/.local/lib/python3.7/site-packages/sklearn/linear_model/_ridge.py:148: LinAlgWarning: Ill-conditioned matrix (rcond=6.1162e-18): result may not be accurate.\n  overwrite_a=True).T\n/home/nick/.local/lib/python3.7/site-packages/sklearn/linear_model/_ridge.py:148: LinAlgWarning: Ill-conditioned matrix (rcond=6.17264e-18): result may not be accurate.\n  overwrite_a=True).T\n/home/nick/.local/lib/python3.7/site-packages/sklearn/linear_model/_ridge.py:148: LinAlgWarning: Ill-conditioned matrix (rcond=6.22908e-18): result may not be accurate.\n  overwrite_a=True).T\n/home/nick/.local/lib/python3.7/site-packages/sklearn/linear_model/_ridge.py:148: LinAlgWarning: Ill-conditioned matrix (rcond=6.28552e-18): result may not be accurate.\n  overwrite_a=True).T\n/home/nick/.local/lib/python3.7/site-packages/sklearn/linear_model/_coordinate_descent.py:476: ConvergenceWarning: Objective did not converge. You might want to increase the number of iterations. Duality gap: 95.05063633875397, tolerance: 2.91604826869159\n  positive)\n/home/nick/.local/lib/python3.7/site-packages/sklearn/linear_model/_ridge.py:148: LinAlgWarning: Ill-conditioned matrix (rcond=6.34196e-18): result may not be accurate.\n  overwrite_a=True).T\n/home/nick/.local/lib/python3.7/site-packages/sklearn/linear_model/_coordinate_descent.py:476: ConvergenceWarning: Objective did not converge. You might want to increase the number of iterations. Duality gap: 89.68992429234095, tolerance: 2.91604826869159\n  positive)\n/home/nick/.local/lib/python3.7/site-packages/sklearn/linear_model/_ridge.py:148: LinAlgWarning: Ill-conditioned matrix (rcond=6.3984e-18): result may not be accurate.\n  overwrite_a=True).T\n/home/nick/.local/lib/python3.7/site-packages/sklearn/linear_model/_coordinate_descent.py:476: ConvergenceWarning: Objective did not converge. You might want to increase the number of iterations. Duality gap: 84.46915851306858, tolerance: 2.91604826869159\n  positive)\n/home/nick/.local/lib/python3.7/site-packages/sklearn/linear_model/_ridge.py:148: LinAlgWarning: Ill-conditioned matrix (rcond=6.45484e-18): result may not be accurate.\n  overwrite_a=True).T\n/home/nick/.local/lib/python3.7/site-packages/sklearn/linear_model/_coordinate_descent.py:476: ConvergenceWarning: Objective did not converge. You might want to increase the number of iterations. Duality gap: 79.7253540902766, tolerance: 2.91604826869159\n  positive)\n/home/nick/.local/lib/python3.7/site-packages/sklearn/linear_model/_ridge.py:148: LinAlgWarning: Ill-conditioned matrix (rcond=6.51128e-18): result may not be accurate.\n  overwrite_a=True).T\n/home/nick/.local/lib/python3.7/site-packages/sklearn/linear_model/_coordinate_descent.py:476: ConvergenceWarning: Objective did not converge. You might want to increase the number of iterations. Duality gap: 75.12566684205285, tolerance: 2.91604826869159\n  positive)\n/home/nick/.local/lib/python3.7/site-packages/sklearn/linear_model/_ridge.py:148: LinAlgWarning: Ill-conditioned matrix (rcond=6.56772e-18): result may not be accurate.\n  overwrite_a=True).T\n/home/nick/.local/lib/python3.7/site-packages/sklearn/linear_model/_coordinate_descent.py:476: ConvergenceWarning: Objective did not converge. You might want to increase the number of iterations. Duality gap: 70.66024695307806, tolerance: 2.91604826869159\n  positive)\n/home/nick/.local/lib/python3.7/site-packages/sklearn/linear_model/_ridge.py:148: LinAlgWarning: Ill-conditioned matrix (rcond=6.62416e-18): result may not be accurate.\n  overwrite_a=True).T\n/home/nick/.local/lib/python3.7/site-packages/sklearn/linear_model/_coordinate_descent.py:476: ConvergenceWarning: Objective did not converge. You might want to increase the number of iterations. Duality gap: 66.32863145967531, tolerance: 2.91604826869159\n  positive)\n/home/nick/.local/lib/python3.7/site-packages/sklearn/linear_model/_ridge.py:148: LinAlgWarning: Ill-conditioned matrix (rcond=6.68061e-18): result may not be accurate.\n  overwrite_a=True).T\n/home/nick/.local/lib/python3.7/site-packages/sklearn/linear_model/_coordinate_descent.py:476: ConvergenceWarning: Objective did not converge. You might want to increase the number of iterations. Duality gap: 62.11889118503859, tolerance: 2.91604826869159\n  positive)\n/home/nick/.local/lib/python3.7/site-packages/sklearn/linear_model/_ridge.py:148: LinAlgWarning: Ill-conditioned matrix (rcond=6.73705e-18): result may not be accurate.\n  overwrite_a=True).T\n/home/nick/.local/lib/python3.7/site-packages/sklearn/linear_model/_coordinate_descent.py:476: ConvergenceWarning: Objective did not converge. You might want to increase the number of iterations. Duality gap: 58.02597574364063, tolerance: 2.91604826869159\n  positive)\n/home/nick/.local/lib/python3.7/site-packages/sklearn/linear_model/_ridge.py:148: LinAlgWarning: Ill-conditioned matrix (rcond=6.79349e-18): result may not be accurate.\n  overwrite_a=True).T\n/home/nick/.local/lib/python3.7/site-packages/sklearn/linear_model/_coordinate_descent.py:476: ConvergenceWarning: Objective did not converge. You might want to increase the number of iterations. Duality gap: 54.05081169857658, tolerance: 2.91604826869159\n  positive)\n/home/nick/.local/lib/python3.7/site-packages/sklearn/linear_model/_ridge.py:148: LinAlgWarning: Ill-conditioned matrix (rcond=6.84993e-18): result may not be accurate.\n  overwrite_a=True).T\n/home/nick/.local/lib/python3.7/site-packages/sklearn/linear_model/_coordinate_descent.py:476: ConvergenceWarning: Objective did not converge. You might want to increase the number of iterations. Duality gap: 50.18555804058451, tolerance: 2.91604826869159\n  positive)\n/home/nick/.local/lib/python3.7/site-packages/sklearn/linear_model/_ridge.py:148: LinAlgWarning: Ill-conditioned matrix (rcond=6.90637e-18): result may not be accurate.\n  overwrite_a=True).T\n/home/nick/.local/lib/python3.7/site-packages/sklearn/linear_model/_coordinate_descent.py:476: ConvergenceWarning: Objective did not converge. You might want to increase the number of iterations. Duality gap: 46.42214604519904, tolerance: 2.91604826869159\n  positive)\n/home/nick/.local/lib/python3.7/site-packages/sklearn/linear_model/_ridge.py:148: LinAlgWarning: Ill-conditioned matrix (rcond=6.96282e-18): result may not be accurate.\n  overwrite_a=True).T\n/home/nick/.local/lib/python3.7/site-packages/sklearn/linear_model/_coordinate_descent.py:476: ConvergenceWarning: Objective did not converge. You might want to increase the number of iterations. Duality gap: 42.76478496239906, tolerance: 2.91604826869159\n  positive)\n/home/nick/.local/lib/python3.7/site-packages/sklearn/linear_model/_ridge.py:148: LinAlgWarning: Ill-conditioned matrix (rcond=7.01926e-18): result may not be accurate.\n  overwrite_a=True).T\n/home/nick/.local/lib/python3.7/site-packages/sklearn/linear_model/_coordinate_descent.py:476: ConvergenceWarning: Objective did not converge. You might want to increase the number of iterations. Duality gap: 39.20605978744243, tolerance: 2.91604826869159\n  positive)\n/home/nick/.local/lib/python3.7/site-packages/sklearn/linear_model/_ridge.py:148: LinAlgWarning: Ill-conditioned matrix (rcond=7.0757e-18): result may not be accurate.\n  overwrite_a=True).T\n/home/nick/.local/lib/python3.7/site-packages/sklearn/linear_model/_coordinate_descent.py:476: ConvergenceWarning: Objective did not converge. You might want to increase the number of iterations. Duality gap: 35.740283991690376, tolerance: 2.91604826869159\n  positive)\n/home/nick/.local/lib/python3.7/site-packages/sklearn/linear_model/_ridge.py:148: LinAlgWarning: Ill-conditioned matrix (rcond=7.13215e-18): result may not be accurate.\n  overwrite_a=True).T\n/home/nick/.local/lib/python3.7/site-packages/sklearn/linear_model/_coordinate_descent.py:476: ConvergenceWarning: Objective did not converge. You might want to increase the number of iterations. Duality gap: 32.37050787106455, tolerance: 2.91604826869159\n  positive)\n/home/nick/.local/lib/python3.7/site-packages/sklearn/linear_model/_ridge.py:148: LinAlgWarning: Ill-conditioned matrix (rcond=7.18859e-18): result may not be accurate.\n  overwrite_a=True).T\n/home/nick/.local/lib/python3.7/site-packages/sklearn/linear_model/_coordinate_descent.py:476: ConvergenceWarning: Objective did not converge. You might want to increase the number of iterations. Duality gap: 29.09199962764069, tolerance: 2.91604826869159\n  positive)\n/home/nick/.local/lib/python3.7/site-packages/sklearn/linear_model/_ridge.py:148: LinAlgWarning: Ill-conditioned matrix (rcond=7.24503e-18): result may not be accurate.\n  overwrite_a=True).T\n/home/nick/.local/lib/python3.7/site-packages/sklearn/linear_model/_coordinate_descent.py:476: ConvergenceWarning: Objective did not converge. You might want to increase the number of iterations. Duality gap: 25.901027714748125, tolerance: 2.91604826869159\n  positive)\n/home/nick/.local/lib/python3.7/site-packages/sklearn/linear_model/_ridge.py:148: LinAlgWarning: Ill-conditioned matrix (rcond=7.30148e-18): result may not be accurate.\n  overwrite_a=True).T\n/home/nick/.local/lib/python3.7/site-packages/sklearn/linear_model/_coordinate_descent.py:476: ConvergenceWarning: Objective did not converge. You might want to increase the number of iterations. Duality gap: 22.78953841353905, tolerance: 2.91604826869159\n  positive)\n/home/nick/.local/lib/python3.7/site-packages/sklearn/linear_model/_ridge.py:148: LinAlgWarning: Ill-conditioned matrix (rcond=7.35792e-18): result may not be accurate.\n  overwrite_a=True).T\n/home/nick/.local/lib/python3.7/site-packages/sklearn/linear_model/_coordinate_descent.py:476: ConvergenceWarning: Objective did not converge. You might want to increase the number of iterations. Duality gap: 19.76783294156303, tolerance: 2.91604826869159\n  positive)\n/home/nick/.local/lib/python3.7/site-packages/sklearn/linear_model/_ridge.py:148: LinAlgWarning: Ill-conditioned matrix (rcond=7.41437e-18): result may not be accurate.\n  overwrite_a=True).T\n/home/nick/.local/lib/python3.7/site-packages/sklearn/linear_model/_coordinate_descent.py:476: ConvergenceWarning: Objective did not converge. You might want to increase the number of iterations. Duality gap: 16.773852964393882, tolerance: 2.91604826869159\n  positive)\n/home/nick/.local/lib/python3.7/site-packages/sklearn/linear_model/_ridge.py:148: LinAlgWarning: Ill-conditioned matrix (rcond=7.47081e-18): result may not be accurate.\n  overwrite_a=True).T\n/home/nick/.local/lib/python3.7/site-packages/sklearn/linear_model/_coordinate_descent.py:476: ConvergenceWarning: Objective did not converge. You might want to increase the number of iterations. Duality gap: 13.8034522305079, tolerance: 2.91604826869159\n  positive)\n/home/nick/.local/lib/python3.7/site-packages/sklearn/linear_model/_ridge.py:148: LinAlgWarning: Ill-conditioned matrix (rcond=7.52725e-18): result may not be accurate.\n  overwrite_a=True).T\n/home/nick/.local/lib/python3.7/site-packages/sklearn/linear_model/_coordinate_descent.py:476: ConvergenceWarning: Objective did not converge. You might want to increase the number of iterations. Duality gap: 10.913047169495258, tolerance: 2.91604826869159\n  positive)\n/home/nick/.local/lib/python3.7/site-packages/sklearn/linear_model/_ridge.py:148: LinAlgWarning: Ill-conditioned matrix (rcond=7.5837e-18): result may not be accurate.\n  overwrite_a=True).T\n/home/nick/.local/lib/python3.7/site-packages/sklearn/linear_model/_coordinate_descent.py:476: ConvergenceWarning: Objective did not converge. You might want to increase the number of iterations. Duality gap: 8.133383724789383, tolerance: 2.91604826869159\n  positive)\n/home/nick/.local/lib/python3.7/site-packages/sklearn/linear_model/_ridge.py:148: LinAlgWarning: Ill-conditioned matrix (rcond=7.64014e-18): result may not be accurate.\n  overwrite_a=True).T\n/home/nick/.local/lib/python3.7/site-packages/sklearn/linear_model/_coordinate_descent.py:476: ConvergenceWarning: Objective did not converge. You might want to increase the number of iterations. Duality gap: 5.5270222029084835, tolerance: 2.91604826869159\n  positive)\n/home/nick/.local/lib/python3.7/site-packages/sklearn/linear_model/_ridge.py:148: LinAlgWarning: Ill-conditioned matrix (rcond=7.69659e-18): result may not be accurate.\n  overwrite_a=True).T\n/home/nick/.local/lib/python3.7/site-packages/sklearn/linear_model/_coordinate_descent.py:476: ConvergenceWarning: Objective did not converge. You might want to increase the number of iterations. Duality gap: 2.9947544851875136, tolerance: 2.91604826869159\n  positive)\n/home/nick/.local/lib/python3.7/site-packages/sklearn/linear_model/_ridge.py:148: LinAlgWarning: Ill-conditioned matrix (rcond=7.75303e-18): result may not be accurate.\n  overwrite_a=True).T\n/home/nick/.local/lib/python3.7/site-packages/sklearn/linear_model/_ridge.py:148: LinAlgWarning: Ill-conditioned matrix (rcond=7.80948e-18): result may not be accurate.\n  overwrite_a=True).T\n/home/nick/.local/lib/python3.7/site-packages/sklearn/linear_model/_ridge.py:148: LinAlgWarning: Ill-conditioned matrix (rcond=7.86593e-18): result may not be accurate.\n  overwrite_a=True).T\n/home/nick/.local/lib/python3.7/site-packages/sklearn/linear_model/_ridge.py:148: LinAlgWarning: Ill-conditioned matrix (rcond=7.92237e-18): result may not be accurate.\n  overwrite_a=True).T\n/home/nick/.local/lib/python3.7/site-packages/sklearn/linear_model/_ridge.py:148: LinAlgWarning: Ill-conditioned matrix (rcond=7.97882e-18): result may not be accurate.\n  overwrite_a=True).T\n/home/nick/.local/lib/python3.7/site-packages/sklearn/linear_model/_ridge.py:148: LinAlgWarning: Ill-conditioned matrix (rcond=8.03526e-18): result may not be accurate.\n  overwrite_a=True).T\n/home/nick/.local/lib/python3.7/site-packages/sklearn/linear_model/_ridge.py:148: LinAlgWarning: Ill-conditioned matrix (rcond=8.09171e-18): result may not be accurate.\n  overwrite_a=True).T\n/home/nick/.local/lib/python3.7/site-packages/sklearn/linear_model/_ridge.py:148: LinAlgWarning: Ill-conditioned matrix (rcond=8.14816e-18): result may not be accurate.\n  overwrite_a=True).T\n/home/nick/.local/lib/python3.7/site-packages/sklearn/linear_model/_ridge.py:148: LinAlgWarning: Ill-conditioned matrix (rcond=8.2046e-18): result may not be accurate.\n  overwrite_a=True).T\n/home/nick/.local/lib/python3.7/site-packages/sklearn/linear_model/_ridge.py:148: LinAlgWarning: Ill-conditioned matrix (rcond=8.26105e-18): result may not be accurate.\n  overwrite_a=True).T\n/home/nick/.local/lib/python3.7/site-packages/sklearn/linear_model/_ridge.py:148: LinAlgWarning: Ill-conditioned matrix (rcond=8.3175e-18): result may not be accurate.\n  overwrite_a=True).T\n/home/nick/.local/lib/python3.7/site-packages/sklearn/linear_model/_ridge.py:148: LinAlgWarning: Ill-conditioned matrix (rcond=8.37394e-18): result may not be accurate.\n  overwrite_a=True).T\n/home/nick/.local/lib/python3.7/site-packages/sklearn/linear_model/_ridge.py:148: LinAlgWarning: Ill-conditioned matrix (rcond=8.43039e-18): result may not be accurate.\n  overwrite_a=True).T\n/home/nick/.local/lib/python3.7/site-packages/sklearn/linear_model/_ridge.py:148: LinAlgWarning: Ill-conditioned matrix (rcond=8.48684e-18): result may not be accurate.\n  overwrite_a=True).T\n/home/nick/.local/lib/python3.7/site-packages/sklearn/linear_model/_ridge.py:148: LinAlgWarning: Ill-conditioned matrix (rcond=8.54329e-18): result may not be accurate.\n  overwrite_a=True).T\n/home/nick/.local/lib/python3.7/site-packages/sklearn/linear_model/_ridge.py:148: LinAlgWarning: Ill-conditioned matrix (rcond=8.59973e-18): result may not be accurate.\n  overwrite_a=True).T\n/home/nick/.local/lib/python3.7/site-packages/sklearn/linear_model/_ridge.py:148: LinAlgWarning: Ill-conditioned matrix (rcond=8.65618e-18): result may not be accurate.\n  overwrite_a=True).T\n/home/nick/.local/lib/python3.7/site-packages/sklearn/linear_model/_ridge.py:148: LinAlgWarning: Ill-conditioned matrix (rcond=8.71263e-18): result may not be accurate.\n  overwrite_a=True).T\n/home/nick/.local/lib/python3.7/site-packages/sklearn/linear_model/_ridge.py:148: LinAlgWarning: Ill-conditioned matrix (rcond=8.76908e-18): result may not be accurate.\n  overwrite_a=True).T\n/home/nick/.local/lib/python3.7/site-packages/sklearn/linear_model/_ridge.py:148: LinAlgWarning: Ill-conditioned matrix (rcond=8.82553e-18): result may not be accurate.\n  overwrite_a=True).T\n/home/nick/.local/lib/python3.7/site-packages/sklearn/linear_model/_ridge.py:148: LinAlgWarning: Ill-conditioned matrix (rcond=8.88198e-18): result may not be accurate.\n  overwrite_a=True).T\n/home/nick/.local/lib/python3.7/site-packages/sklearn/linear_model/_ridge.py:148: LinAlgWarning: Ill-conditioned matrix (rcond=8.93843e-18): result may not be accurate.\n  overwrite_a=True).T\n/home/nick/.local/lib/python3.7/site-packages/sklearn/linear_model/_ridge.py:148: LinAlgWarning: Ill-conditioned matrix (rcond=8.99488e-18): result may not be accurate.\n  overwrite_a=True).T\n/home/nick/.local/lib/python3.7/site-packages/sklearn/linear_model/_ridge.py:148: LinAlgWarning: Ill-conditioned matrix (rcond=9.05132e-18): result may not be accurate.\n  overwrite_a=True).T\n/home/nick/.local/lib/python3.7/site-packages/sklearn/linear_model/_ridge.py:148: LinAlgWarning: Ill-conditioned matrix (rcond=9.10777e-18): result may not be accurate.\n  overwrite_a=True).T\n/home/nick/.local/lib/python3.7/site-packages/sklearn/linear_model/_ridge.py:148: LinAlgWarning: Ill-conditioned matrix (rcond=9.16422e-18): result may not be accurate.\n  overwrite_a=True).T\n/home/nick/.local/lib/python3.7/site-packages/sklearn/linear_model/_ridge.py:148: LinAlgWarning: Ill-conditioned matrix (rcond=9.22067e-18): result may not be accurate.\n  overwrite_a=True).T\n/home/nick/.local/lib/python3.7/site-packages/sklearn/linear_model/_ridge.py:148: LinAlgWarning: Ill-conditioned matrix (rcond=9.27712e-18): result may not be accurate.\n  overwrite_a=True).T\n"
    },
    {
     "data": {
      "text/markdown": "### Max Lasso Alpha: 0.1",
      "text/plain": "<IPython.core.display.Markdown object>"
     },
     "metadata": {},
     "output_type": "display_data"
    },
    {
     "data": {
      "text/markdown": "### Max Ridge Alpha: 0.1",
      "text/plain": "<IPython.core.display.Markdown object>"
     },
     "metadata": {},
     "output_type": "display_data"
    }
   ],
   "source": [
    "max_lasso = 0\n",
    "max_lasso_a=0\n",
    "best_lasso=\"\"\n",
    "max_ridge = 0\n",
    "max_ridge_a=0\n",
    "best_ridge=\"\"\n",
    "for a_int in range(1,100,1):\n",
    "    a= (float (a_int))/10.0\n",
    "    lasso_model,lasso_score=make_lasso(train,alpha=a)\n",
    "    if(lasso_score>max_lasso):\n",
    "        max_lasso=lasso_score\n",
    "        max_lasso_a=a\n",
    "        best_lasso=lasso_model\n",
    "    ridge_model,ridge_score=make_ridge(train,alpha=a)\n",
    "    if(ridge_score>max_ridge):\n",
    "        max_ridge=ridge_score\n",
    "        max_ridge_a=a\n",
    "        best_ridge=ridge_model\n",
    "display(Markdown(\"### Max Lasso Alpha: \"+str(max_lasso_a)))\n",
    "display(Markdown(\"### Max Ridge Alpha: \"+str(max_ridge_a)))"
   ]
  },
  {
   "cell_type": "code",
   "execution_count": 21,
   "metadata": {},
   "outputs": [
    {
     "name": "stderr",
     "output_type": "stream",
     "text": "/home/nick/.local/lib/python3.7/site-packages/sklearn/linear_model/_coordinate_descent.py:476: ConvergenceWarning: Objective did not converge. You might want to increase the number of iterations. Duality gap: 2270.1143071377924, tolerance: 2.2976698128654967\n  positive)\n/home/nick/.local/lib/python3.7/site-packages/sklearn/linear_model/_coordinate_descent.py:476: ConvergenceWarning: Objective did not converge. You might want to increase the number of iterations. Duality gap: 2216.4302538253924, tolerance: 2.276370374269006\n  positive)\n/home/nick/.local/lib/python3.7/site-packages/sklearn/linear_model/_coordinate_descent.py:476: ConvergenceWarning: Objective did not converge. You might want to increase the number of iterations. Duality gap: 2100.8735050413607, tolerance: 2.2964878947368415\n  positive)\n/home/nick/.local/lib/python3.7/site-packages/sklearn/linear_model/_coordinate_descent.py:476: ConvergenceWarning: Objective did not converge. You might want to increase the number of iterations. Duality gap: 2470.3656449831606, tolerance: 2.441789381924199\n  positive)\n/home/nick/.local/lib/python3.7/site-packages/sklearn/linear_model/_coordinate_descent.py:476: ConvergenceWarning: Objective did not converge. You might want to increase the number of iterations. Duality gap: 2288.073454183391, tolerance: 2.3482790495626826\n  positive)\n"
    },
    {
     "ename": "TypeError",
     "evalue": "format() argument 2 must be str, not numpy.float64",
     "output_type": "error",
     "traceback": [
      "\u001b[0;31m---------------------------------------------------------------------------\u001b[0m",
      "\u001b[0;31mTypeError\u001b[0m                                 Traceback (most recent call last)",
      "\u001b[0;32m<ipython-input-21-967c2db019aa>\u001b[0m in \u001b[0;36m<module>\u001b[0;34m()\u001b[0m\n\u001b[1;32m      8\u001b[0m     \u001b[0mscores\u001b[0m \u001b[0;34m=\u001b[0m \u001b[0mcross_val_score\u001b[0m\u001b[0;34m(\u001b[0m\u001b[0mmodel\u001b[0m\u001b[0;34m,\u001b[0m\u001b[0mx\u001b[0m\u001b[0;34m,\u001b[0m\u001b[0my\u001b[0m\u001b[0;34m,\u001b[0m\u001b[0mcv\u001b[0m\u001b[0;34m=\u001b[0m\u001b[0;36m5\u001b[0m\u001b[0;34m)\u001b[0m\u001b[0;34m\u001b[0m\u001b[0;34m\u001b[0m\u001b[0m\n\u001b[1;32m      9\u001b[0m     \u001b[0mdisplay\u001b[0m\u001b[0;34m(\u001b[0m\u001b[0mMarkdown\u001b[0m\u001b[0;34m(\u001b[0m\u001b[0;34m\"## Mean \"\u001b[0m\u001b[0;34m+\u001b[0m\u001b[0mmodel_name\u001b[0m\u001b[0;34m+\u001b[0m \u001b[0;34m\" Score: \"\u001b[0m\u001b[0;34m+\u001b[0m\u001b[0mformat\u001b[0m\u001b[0;34m(\u001b[0m\u001b[0;34m\".2f\"\u001b[0m\u001b[0;34m,\u001b[0m\u001b[0mscores\u001b[0m\u001b[0;34m.\u001b[0m\u001b[0mmean\u001b[0m\u001b[0;34m(\u001b[0m\u001b[0;34m)\u001b[0m\u001b[0;34m)\u001b[0m\u001b[0;34m)\u001b[0m\u001b[0;34m)\u001b[0m\u001b[0;34m\u001b[0m\u001b[0;34m\u001b[0m\u001b[0m\n\u001b[0;32m---> 10\u001b[0;31m \u001b[0meval_cross_validate\u001b[0m\u001b[0;34m(\u001b[0m\u001b[0mbest_lasso\u001b[0m\u001b[0;34m,\u001b[0m\u001b[0mtrain\u001b[0m\u001b[0;34m,\u001b[0m\u001b[0;34m\"Lasso\"\u001b[0m\u001b[0;34m)\u001b[0m\u001b[0;34m\u001b[0m\u001b[0;34m\u001b[0m\u001b[0m\n\u001b[0m\u001b[1;32m     11\u001b[0m \u001b[0meval_cross_validate\u001b[0m\u001b[0;34m(\u001b[0m\u001b[0mbest_ridge\u001b[0m\u001b[0;34m,\u001b[0m\u001b[0mtrain\u001b[0m\u001b[0;34m,\u001b[0m\u001b[0;34m\"Ridge\"\u001b[0m\u001b[0;34m)\u001b[0m\u001b[0;34m\u001b[0m\u001b[0;34m\u001b[0m\u001b[0m\n",
      "\u001b[0;32m<ipython-input-21-967c2db019aa>\u001b[0m in \u001b[0;36meval_cross_validate\u001b[0;34m(model, train, model_name)\u001b[0m\n\u001b[1;32m      7\u001b[0m     \u001b[0;31m#print(y)\u001b[0m\u001b[0;34m\u001b[0m\u001b[0;34m\u001b[0m\u001b[0;34m\u001b[0m\u001b[0m\n\u001b[1;32m      8\u001b[0m     \u001b[0mscores\u001b[0m \u001b[0;34m=\u001b[0m \u001b[0mcross_val_score\u001b[0m\u001b[0;34m(\u001b[0m\u001b[0mmodel\u001b[0m\u001b[0;34m,\u001b[0m\u001b[0mx\u001b[0m\u001b[0;34m,\u001b[0m\u001b[0my\u001b[0m\u001b[0;34m,\u001b[0m\u001b[0mcv\u001b[0m\u001b[0;34m=\u001b[0m\u001b[0;36m5\u001b[0m\u001b[0;34m)\u001b[0m\u001b[0;34m\u001b[0m\u001b[0;34m\u001b[0m\u001b[0m\n\u001b[0;32m----> 9\u001b[0;31m     \u001b[0mdisplay\u001b[0m\u001b[0;34m(\u001b[0m\u001b[0mMarkdown\u001b[0m\u001b[0;34m(\u001b[0m\u001b[0;34m\"## Mean \"\u001b[0m\u001b[0;34m+\u001b[0m\u001b[0mmodel_name\u001b[0m\u001b[0;34m+\u001b[0m \u001b[0;34m\" Score: \"\u001b[0m\u001b[0;34m+\u001b[0m\u001b[0mformat\u001b[0m\u001b[0;34m(\u001b[0m\u001b[0;34m\".2f\"\u001b[0m\u001b[0;34m,\u001b[0m\u001b[0mscores\u001b[0m\u001b[0;34m.\u001b[0m\u001b[0mmean\u001b[0m\u001b[0;34m(\u001b[0m\u001b[0;34m)\u001b[0m\u001b[0;34m)\u001b[0m\u001b[0;34m)\u001b[0m\u001b[0;34m)\u001b[0m\u001b[0;34m\u001b[0m\u001b[0;34m\u001b[0m\u001b[0m\n\u001b[0m\u001b[1;32m     10\u001b[0m \u001b[0meval_cross_validate\u001b[0m\u001b[0;34m(\u001b[0m\u001b[0mbest_lasso\u001b[0m\u001b[0;34m,\u001b[0m\u001b[0mtrain\u001b[0m\u001b[0;34m,\u001b[0m\u001b[0;34m\"Lasso\"\u001b[0m\u001b[0;34m)\u001b[0m\u001b[0;34m\u001b[0m\u001b[0;34m\u001b[0m\u001b[0m\n\u001b[1;32m     11\u001b[0m \u001b[0meval_cross_validate\u001b[0m\u001b[0;34m(\u001b[0m\u001b[0mbest_ridge\u001b[0m\u001b[0;34m,\u001b[0m\u001b[0mtrain\u001b[0m\u001b[0;34m,\u001b[0m\u001b[0;34m\"Ridge\"\u001b[0m\u001b[0;34m)\u001b[0m\u001b[0;34m\u001b[0m\u001b[0;34m\u001b[0m\u001b[0m\n",
      "\u001b[0;31mTypeError\u001b[0m: format() argument 2 must be str, not numpy.float64"
     ]
    }
   ],
   "source": [
    "def eval_cross_validate(model,train,model_name:str):\n",
    "    # dropping rows from test dataset\n",
    "    test_cleaned = drop_rows(train)\n",
    "    x = test_cleaned.values[:,4:]\n",
    "    y=test_cleaned.values[:,3]\n",
    "    #print(x)\n",
    "    #print(y)\n",
    "    scores = cross_val_score(model,x,y,cv=5)\n",
    "    display(Markdown(\"## Mean \"+model_name+ \" Score: \"+format(\".2f\",scores.mean())))\n",
    "eval_cross_validate(best_lasso,train,\"Lasso\")\n",
    "eval_cross_validate(best_ridge,train,\"Ridge\")"
   ]
  },
  {
   "cell_type": "markdown",
   "metadata": {},
   "source": []
  }
 ],
 "metadata": {
  "hide_input": false,
  "kernelspec": {
   "display_name": "Python 3",
   "language": "python",
   "name": "python3"
  },
  "language_info": {
   "codemirror_mode": {
    "name": "ipython",
    "version": 3
   },
   "file_extension": ".py",
   "mimetype": "text/x-python",
   "name": "python",
   "nbconvert_exporter": "python",
   "pygments_lexer": "ipython3",
   "version": "2.7.17-final"
  }
 },
 "nbformat": 4,
 "nbformat_minor": 4
}