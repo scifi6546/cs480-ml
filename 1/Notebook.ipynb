{
 "cells": [
  {
   "cell_type": "markdown",
   "metadata": {},
   "source": [
    "# Problem 1\n",
    "## a. Using variable elimination, calculate the probability that a student who did well on the exam understands the material.P(+u|+e). Show your work.\n",
    "\n",
    "P(+e) = "
   ]
  },
  {
   "cell_type": "markdown",
   "metadata": {},
   "source": [
    "# Problem 2"
   ]
  },
  {
   "cell_type": "code",
   "execution_count": 143,
   "metadata": {},
   "outputs": [
    {
     "name": "stdout",
     "output_type": "stream",
     "text": "[RangeIndex(start=0, stop=2938, step=1), Index(['Country', 'Year', 'Status', 'Life expectancy ', 'Adult Mortality',\n       'infant deaths', 'Alcohol', 'percentage expenditure', 'Hepatitis B',\n       'Measles ', ' BMI ', 'under-five deaths ', 'Polio', 'Total expenditure',\n       'Diphtheria ', ' HIV/AIDS', 'GDP', 'Population',\n       ' thinness  1-19 years', ' thinness 5-9 years',\n       'Income composition of resources', 'Schooling'],\n      dtype='object')]\n"
    },
    {
     "data": {
      "text/html": "<div>\n<style scoped>\n    .dataframe tbody tr th:only-of-type {\n        vertical-align: middle;\n    }\n\n    .dataframe tbody tr th {\n        vertical-align: top;\n    }\n\n    .dataframe thead th {\n        text-align: right;\n    }\n</style>\n<table border=\"1\" class=\"dataframe\">\n  <thead>\n    <tr style=\"text-align: right;\">\n      <th></th>\n      <th>Year</th>\n      <th>Life expectancy</th>\n      <th>Adult Mortality</th>\n      <th>infant deaths</th>\n      <th>Alcohol</th>\n      <th>percentage expenditure</th>\n      <th>Hepatitis B</th>\n      <th>Measles</th>\n      <th>BMI</th>\n      <th>under-five deaths</th>\n      <th>Polio</th>\n      <th>Total expenditure</th>\n      <th>Diphtheria</th>\n      <th>HIV/AIDS</th>\n      <th>GDP</th>\n      <th>Population</th>\n      <th>thinness  1-19 years</th>\n      <th>thinness 5-9 years</th>\n      <th>Income composition of resources</th>\n      <th>Schooling</th>\n    </tr>\n  </thead>\n  <tbody>\n    <tr>\n      <th>count</th>\n      <td>2938.000000</td>\n      <td>2928.000000</td>\n      <td>2928.000000</td>\n      <td>2938.000000</td>\n      <td>2744.000000</td>\n      <td>2938.000000</td>\n      <td>2385.000000</td>\n      <td>2938.000000</td>\n      <td>2904.000000</td>\n      <td>2938.000000</td>\n      <td>2919.000000</td>\n      <td>2712.00000</td>\n      <td>2919.000000</td>\n      <td>2938.000000</td>\n      <td>2490.000000</td>\n      <td>2.286000e+03</td>\n      <td>2904.000000</td>\n      <td>2904.000000</td>\n      <td>2771.000000</td>\n      <td>2775.000000</td>\n    </tr>\n    <tr>\n      <th>mean</th>\n      <td>2007.518720</td>\n      <td>69.224932</td>\n      <td>164.796448</td>\n      <td>30.303948</td>\n      <td>4.602861</td>\n      <td>738.251295</td>\n      <td>80.940461</td>\n      <td>2419.592240</td>\n      <td>38.321247</td>\n      <td>42.035739</td>\n      <td>82.550188</td>\n      <td>5.93819</td>\n      <td>82.324084</td>\n      <td>1.742103</td>\n      <td>7483.158469</td>\n      <td>1.275338e+07</td>\n      <td>4.839704</td>\n      <td>4.870317</td>\n      <td>0.627551</td>\n      <td>11.992793</td>\n    </tr>\n    <tr>\n      <th>std</th>\n      <td>4.613841</td>\n      <td>9.523867</td>\n      <td>124.292079</td>\n      <td>117.926501</td>\n      <td>4.052413</td>\n      <td>1987.914858</td>\n      <td>25.070016</td>\n      <td>11467.272489</td>\n      <td>20.044034</td>\n      <td>160.445548</td>\n      <td>23.428046</td>\n      <td>2.49832</td>\n      <td>23.716912</td>\n      <td>5.077785</td>\n      <td>14270.169342</td>\n      <td>6.101210e+07</td>\n      <td>4.420195</td>\n      <td>4.508882</td>\n      <td>0.210904</td>\n      <td>3.358920</td>\n    </tr>\n    <tr>\n      <th>min</th>\n      <td>2000.000000</td>\n      <td>36.300000</td>\n      <td>1.000000</td>\n      <td>0.000000</td>\n      <td>0.010000</td>\n      <td>0.000000</td>\n      <td>1.000000</td>\n      <td>0.000000</td>\n      <td>1.000000</td>\n      <td>0.000000</td>\n      <td>3.000000</td>\n      <td>0.37000</td>\n      <td>2.000000</td>\n      <td>0.100000</td>\n      <td>1.681350</td>\n      <td>3.400000e+01</td>\n      <td>0.100000</td>\n      <td>0.100000</td>\n      <td>0.000000</td>\n      <td>0.000000</td>\n    </tr>\n    <tr>\n      <th>25%</th>\n      <td>2004.000000</td>\n      <td>63.100000</td>\n      <td>74.000000</td>\n      <td>0.000000</td>\n      <td>0.877500</td>\n      <td>4.685343</td>\n      <td>77.000000</td>\n      <td>0.000000</td>\n      <td>19.300000</td>\n      <td>0.000000</td>\n      <td>78.000000</td>\n      <td>4.26000</td>\n      <td>78.000000</td>\n      <td>0.100000</td>\n      <td>463.935626</td>\n      <td>1.957932e+05</td>\n      <td>1.600000</td>\n      <td>1.500000</td>\n      <td>0.493000</td>\n      <td>10.100000</td>\n    </tr>\n    <tr>\n      <th>50%</th>\n      <td>2008.000000</td>\n      <td>72.100000</td>\n      <td>144.000000</td>\n      <td>3.000000</td>\n      <td>3.755000</td>\n      <td>64.912906</td>\n      <td>92.000000</td>\n      <td>17.000000</td>\n      <td>43.500000</td>\n      <td>4.000000</td>\n      <td>93.000000</td>\n      <td>5.75500</td>\n      <td>93.000000</td>\n      <td>0.100000</td>\n      <td>1766.947595</td>\n      <td>1.386542e+06</td>\n      <td>3.300000</td>\n      <td>3.300000</td>\n      <td>0.677000</td>\n      <td>12.300000</td>\n    </tr>\n    <tr>\n      <th>75%</th>\n      <td>2012.000000</td>\n      <td>75.700000</td>\n      <td>228.000000</td>\n      <td>22.000000</td>\n      <td>7.702500</td>\n      <td>441.534144</td>\n      <td>97.000000</td>\n      <td>360.250000</td>\n      <td>56.200000</td>\n      <td>28.000000</td>\n      <td>97.000000</td>\n      <td>7.49250</td>\n      <td>97.000000</td>\n      <td>0.800000</td>\n      <td>5910.806335</td>\n      <td>7.420359e+06</td>\n      <td>7.200000</td>\n      <td>7.200000</td>\n      <td>0.779000</td>\n      <td>14.300000</td>\n    </tr>\n    <tr>\n      <th>max</th>\n      <td>2015.000000</td>\n      <td>89.000000</td>\n      <td>723.000000</td>\n      <td>1800.000000</td>\n      <td>17.870000</td>\n      <td>19479.911610</td>\n      <td>99.000000</td>\n      <td>212183.000000</td>\n      <td>87.300000</td>\n      <td>2500.000000</td>\n      <td>99.000000</td>\n      <td>17.60000</td>\n      <td>99.000000</td>\n      <td>50.600000</td>\n      <td>119172.741800</td>\n      <td>1.293859e+09</td>\n      <td>27.700000</td>\n      <td>28.600000</td>\n      <td>0.948000</td>\n      <td>20.700000</td>\n    </tr>\n  </tbody>\n</table>\n</div>",
      "text/plain": "              Year  Life expectancy   Adult Mortality  infant deaths  \\\ncount  2938.000000       2928.000000      2928.000000    2938.000000   \nmean   2007.518720         69.224932       164.796448      30.303948   \nstd       4.613841          9.523867       124.292079     117.926501   \nmin    2000.000000         36.300000         1.000000       0.000000   \n25%    2004.000000         63.100000        74.000000       0.000000   \n50%    2008.000000         72.100000       144.000000       3.000000   \n75%    2012.000000         75.700000       228.000000      22.000000   \nmax    2015.000000         89.000000       723.000000    1800.000000   \n\n           Alcohol  percentage expenditure  Hepatitis B       Measles   \\\ncount  2744.000000             2938.000000  2385.000000    2938.000000   \nmean      4.602861              738.251295    80.940461    2419.592240   \nstd       4.052413             1987.914858    25.070016   11467.272489   \nmin       0.010000                0.000000     1.000000       0.000000   \n25%       0.877500                4.685343    77.000000       0.000000   \n50%       3.755000               64.912906    92.000000      17.000000   \n75%       7.702500              441.534144    97.000000     360.250000   \nmax      17.870000            19479.911610    99.000000  212183.000000   \n\n              BMI   under-five deaths         Polio  Total expenditure  \\\ncount  2904.000000         2938.000000  2919.000000         2712.00000   \nmean     38.321247           42.035739    82.550188            5.93819   \nstd      20.044034          160.445548    23.428046            2.49832   \nmin       1.000000            0.000000     3.000000            0.37000   \n25%      19.300000            0.000000    78.000000            4.26000   \n50%      43.500000            4.000000    93.000000            5.75500   \n75%      56.200000           28.000000    97.000000            7.49250   \nmax      87.300000         2500.000000    99.000000           17.60000   \n\n       Diphtheria      HIV/AIDS            GDP    Population  \\\ncount  2919.000000  2938.000000    2490.000000  2.286000e+03   \nmean     82.324084     1.742103    7483.158469  1.275338e+07   \nstd      23.716912     5.077785   14270.169342  6.101210e+07   \nmin       2.000000     0.100000       1.681350  3.400000e+01   \n25%      78.000000     0.100000     463.935626  1.957932e+05   \n50%      93.000000     0.100000    1766.947595  1.386542e+06   \n75%      97.000000     0.800000    5910.806335  7.420359e+06   \nmax      99.000000    50.600000  119172.741800  1.293859e+09   \n\n        thinness  1-19 years   thinness 5-9 years  \\\ncount            2904.000000          2904.000000   \nmean                4.839704             4.870317   \nstd                 4.420195             4.508882   \nmin                 0.100000             0.100000   \n25%                 1.600000             1.500000   \n50%                 3.300000             3.300000   \n75%                 7.200000             7.200000   \nmax                27.700000            28.600000   \n\n       Income composition of resources    Schooling  \ncount                      2771.000000  2775.000000  \nmean                          0.627551    11.992793  \nstd                           0.210904     3.358920  \nmin                           0.000000     0.000000  \n25%                           0.493000    10.100000  \n50%                           0.677000    12.300000  \n75%                           0.779000    14.300000  \nmax                           0.948000    20.700000  "
     },
     "execution_count": 143,
     "metadata": {},
     "output_type": "execute_result"
    }
   ],
   "source": [
    "import numpy as np\n",
    "import pandas as pd\n",
    "from IPython.display import display\n",
    "from sklearn.linear_model import LinearRegression\n",
    "data = pd.read_csv(\"Life Expectancy Data.csv\")\n",
    "print(data.axes)\n",
    "data.describe()"
   ]
  },
  {
   "cell_type": "markdown",
   "metadata": {},
   "source": [
    "# Divide the data into a training set and a testing set\n",
    "I am dividing the training set and testing set by selecting 25% of the data for training (with replacement) and 75% as the test data set.\n"
   ]
  },
  {
   "cell_type": "code",
   "execution_count": 144,
   "metadata": {},
   "outputs": [],
   "source": [
    "train = data.sample(frac=0.25)\n",
    "test = data.sample(frac=0.75)"
   ]
  },
  {
   "cell_type": "markdown",
   "metadata": {},
   "source": [
    "# Using your training set, determine which variables are actually affecting the life expectancy.How did you arrive at that conclusion?"
   ]
  },
  {
   "cell_type": "code",
   "execution_count": 145,
   "metadata": {},
   "outputs": [
    {
     "data": {
      "text/html": "<div>\n<style scoped>\n    .dataframe tbody tr th:only-of-type {\n        vertical-align: middle;\n    }\n\n    .dataframe tbody tr th {\n        vertical-align: top;\n    }\n\n    .dataframe thead th {\n        text-align: right;\n    }\n</style>\n<table border=\"1\" class=\"dataframe\">\n  <thead>\n    <tr style=\"text-align: right;\">\n      <th></th>\n      <th>measure_name</th>\n      <th>r squared</th>\n    </tr>\n  </thead>\n  <tbody>\n    <tr>\n      <th>0</th>\n      <td>Life expectancy</td>\n      <td>1.000000</td>\n    </tr>\n    <tr>\n      <th>1</th>\n      <td>Adult Mortality</td>\n      <td>0.474627</td>\n    </tr>\n    <tr>\n      <th>2</th>\n      <td>infant deaths</td>\n      <td>0.027660</td>\n    </tr>\n    <tr>\n      <th>3</th>\n      <td>Alcohol</td>\n      <td>0.153580</td>\n    </tr>\n    <tr>\n      <th>4</th>\n      <td>percentage expenditure</td>\n      <td>0.167192</td>\n    </tr>\n    <tr>\n      <th>5</th>\n      <td>Hepatitis B</td>\n      <td>0.071301</td>\n    </tr>\n    <tr>\n      <th>6</th>\n      <td>Measles</td>\n      <td>0.030559</td>\n    </tr>\n    <tr>\n      <th>7</th>\n      <td>BMI</td>\n      <td>0.304231</td>\n    </tr>\n    <tr>\n      <th>8</th>\n      <td>under-five deaths</td>\n      <td>0.034103</td>\n    </tr>\n    <tr>\n      <th>9</th>\n      <td>Polio</td>\n      <td>0.218723</td>\n    </tr>\n    <tr>\n      <th>10</th>\n      <td>Total expenditure</td>\n      <td>0.028785</td>\n    </tr>\n    <tr>\n      <th>11</th>\n      <td>Diphtheria</td>\n      <td>0.237715</td>\n    </tr>\n    <tr>\n      <th>12</th>\n      <td>HIV/AIDS</td>\n      <td>0.298843</td>\n    </tr>\n    <tr>\n      <th>13</th>\n      <td>GDP</td>\n      <td>0.236144</td>\n    </tr>\n    <tr>\n      <th>14</th>\n      <td>Population</td>\n      <td>0.000884</td>\n    </tr>\n    <tr>\n      <th>15</th>\n      <td>thinness  1-19 years</td>\n      <td>0.209600</td>\n    </tr>\n    <tr>\n      <th>16</th>\n      <td>thinness 5-9 years</td>\n      <td>0.211175</td>\n    </tr>\n    <tr>\n      <th>17</th>\n      <td>Income composition of resources</td>\n      <td>0.536197</td>\n    </tr>\n    <tr>\n      <th>18</th>\n      <td>Schooling</td>\n      <td>0.616928</td>\n    </tr>\n  </tbody>\n</table>\n</div>",
      "text/plain": "                       measure_name  r squared\n0                  Life expectancy    1.000000\n1                   Adult Mortality   0.474627\n2                     infant deaths   0.027660\n3                           Alcohol   0.153580\n4            percentage expenditure   0.167192\n5                       Hepatitis B   0.071301\n6                          Measles    0.030559\n7                              BMI    0.304231\n8                under-five deaths    0.034103\n9                             Polio   0.218723\n10                Total expenditure   0.028785\n11                      Diphtheria    0.237715\n12                         HIV/AIDS   0.298843\n13                              GDP   0.236144\n14                       Population   0.000884\n15             thinness  1-19 years   0.209600\n16               thinness 5-9 years   0.211175\n17  Income composition of resources   0.536197\n18                        Schooling   0.616928"
     },
     "execution_count": 145,
     "metadata": {},
     "output_type": "execute_result"
    }
   ],
   "source": [
    "# To find correlation of each variable perform linear regression in relation to each variable\n",
    "def print_col_correlations(data):\n",
    "    filtered = data.values[:,:]\n",
    "    filtered=filtered[:,3:]\n",
    "    i = 3\n",
    "    r_squared_data = []\n",
    "    for col in filtered.T:\n",
    "        col = col.astype(float)\n",
    "        col = np.array(col)\n",
    "\n",
    "        y =  data.values[:,3]\n",
    "\n",
    "        y = y.astype(float)\n",
    "        nans = np.isnan(y)\n",
    "        y = y[~nans]\n",
    "\n",
    "        col = col[~nans]\n",
    "\n",
    "        col_nans = np.isnan(col)\n",
    "        col=col[~col_nans]\n",
    "        y = y[~col_nans]\n",
    "        reg = LinearRegression().fit(col.reshape(-1,1), y)\n",
    "        #print(\"score for: \"+str(data.columns[i]))\n",
    "        score = reg.score(col.reshape(-1,1), y)\n",
    "        r_squared_data.append([data.columns[i],score])\n",
    "        i+=1\n",
    "    return pd.DataFrame(\n",
    "        r_squared_data,columns=[\"measure_name\",\"r squared\"])\n",
    "print_col_correlations(train)\n"
   ]
  },
  {
   "cell_type": "markdown",
   "metadata": {},
   "source": [
    "Infant mortality ,Hepatitis B, Measles, under-five deaths, Total expenditure and Population\thave low correlation with life expectancy. Therefore they will be removed from the analysis."
   ]
  },
  {
   "cell_type": "code",
   "execution_count": 146,
   "metadata": {},
   "outputs": [
    {
     "data": {
      "text/plain": "LinearRegression(copy_X=True, fit_intercept=True, n_jobs=None, normalize=False)"
     },
     "execution_count": 146,
     "metadata": {},
     "output_type": "execute_result"
    }
   ],
   "source": [
    "def drop_rows(data):\n",
    "    data = data.dropna()\n",
    "    data.drop('infant deaths',1)\n",
    "    data.drop('Hepatitis B',1)\n",
    "    data.drop('Measles ',1)\n",
    "    data.drop('under-five deaths ',1)\n",
    "    data.drop('Total expenditure',1)\n",
    "    data.drop('Population',1)\n",
    "    return data\n",
    "def make_model(data):\n",
    "    \n",
    "    data = drop_rows(data)\n",
    "    life_expect = data.values[:,3]\n",
    "    #print(life_expect)\n",
    "    reg = LinearRegression().fit(data.values[:,4:], life_expect)\n",
    "    score = reg.score(data.values[:,4:], life_expect)\n",
    "    return reg\n",
    "\n",
    "make_model(train)\n"
   ]
  },
  {
   "cell_type": "markdown",
   "metadata": {},
   "source": [
    "# Evaluate how well does your model predict life expectancy\n"
   ]
  },
  {
   "cell_type": "code",
   "execution_count": 147,
   "metadata": {},
   "outputs": [
    {
     "name": "stdout",
     "output_type": "stream",
     "text": "0.8285269135199009\n[-1.96087683e-02  8.13013478e-02 -6.91209489e-02  4.01641941e-04\n  3.51971255e-03 -3.00375085e-05  1.06856680e-02 -6.05809696e-02\n  1.07271112e-03  4.92954277e-02  1.42744870e-02 -4.13547216e-01\n  6.93113287e-05  8.84019397e-10 -3.11249564e-02 -8.12382562e-02\n  6.85126431e+00  9.09637206e-01]\n[Int64Index([1979,  387, 2370, 1587,  933, 1757, 2365, 1348,  779, 1720,\n            ...\n              27,  545, 1539,  954, 2699, 2620,  940, 2726, 1286, 2817],\n           dtype='int64', length=1218), Index(['Country', 'Year', 'Status', 'Life expectancy ', 'Adult Mortality',\n       'infant deaths', 'Alcohol', 'percentage expenditure', 'Hepatitis B',\n       'Measles ', ' BMI ', 'under-five deaths ', 'Polio', 'Total expenditure',\n       'Diphtheria ', ' HIV/AIDS', 'GDP', 'Population',\n       ' thinness  1-19 years', ' thinness 5-9 years',\n       'Income composition of resources', 'Schooling'],\n      dtype='object')]\n"
    },
    {
     "data": {
      "text/html": "<div>\n<style scoped>\n    .dataframe tbody tr th:only-of-type {\n        vertical-align: middle;\n    }\n\n    .dataframe tbody tr th {\n        vertical-align: top;\n    }\n\n    .dataframe thead th {\n        text-align: right;\n    }\n</style>\n<table border=\"1\" class=\"dataframe\">\n  <thead>\n    <tr style=\"text-align: right;\">\n      <th></th>\n      <th>Axis Name</th>\n      <th>Coefficient</th>\n    </tr>\n  </thead>\n  <tbody>\n    <tr>\n      <th>0</th>\n      <td>Country</td>\n      <td>-1.960877e-02</td>\n    </tr>\n    <tr>\n      <th>1</th>\n      <td>Year</td>\n      <td>8.130135e-02</td>\n    </tr>\n    <tr>\n      <th>2</th>\n      <td>Status</td>\n      <td>-6.912095e-02</td>\n    </tr>\n    <tr>\n      <th>3</th>\n      <td>Life expectancy</td>\n      <td>4.016419e-04</td>\n    </tr>\n    <tr>\n      <th>4</th>\n      <td>Adult Mortality</td>\n      <td>3.519713e-03</td>\n    </tr>\n    <tr>\n      <th>5</th>\n      <td>infant deaths</td>\n      <td>-3.003751e-05</td>\n    </tr>\n    <tr>\n      <th>6</th>\n      <td>Alcohol</td>\n      <td>1.068567e-02</td>\n    </tr>\n    <tr>\n      <th>7</th>\n      <td>percentage expenditure</td>\n      <td>-6.058097e-02</td>\n    </tr>\n    <tr>\n      <th>8</th>\n      <td>Hepatitis B</td>\n      <td>1.072711e-03</td>\n    </tr>\n    <tr>\n      <th>9</th>\n      <td>Measles</td>\n      <td>4.929543e-02</td>\n    </tr>\n    <tr>\n      <th>10</th>\n      <td>BMI</td>\n      <td>1.427449e-02</td>\n    </tr>\n    <tr>\n      <th>11</th>\n      <td>under-five deaths</td>\n      <td>-4.135472e-01</td>\n    </tr>\n    <tr>\n      <th>12</th>\n      <td>Polio</td>\n      <td>6.931133e-05</td>\n    </tr>\n    <tr>\n      <th>13</th>\n      <td>Total expenditure</td>\n      <td>8.840194e-10</td>\n    </tr>\n    <tr>\n      <th>14</th>\n      <td>Diphtheria</td>\n      <td>-3.112496e-02</td>\n    </tr>\n    <tr>\n      <th>15</th>\n      <td>HIV/AIDS</td>\n      <td>-8.123826e-02</td>\n    </tr>\n    <tr>\n      <th>16</th>\n      <td>GDP</td>\n      <td>6.851264e+00</td>\n    </tr>\n    <tr>\n      <th>17</th>\n      <td>Population</td>\n      <td>9.096372e-01</td>\n    </tr>\n  </tbody>\n</table>\n</div>",
      "text/plain": "                 Axis Name   Coefficient\n0                  Country -1.960877e-02\n1                     Year  8.130135e-02\n2                   Status -6.912095e-02\n3         Life expectancy   4.016419e-04\n4          Adult Mortality  3.519713e-03\n5            infant deaths -3.003751e-05\n6                  Alcohol  1.068567e-02\n7   percentage expenditure -6.058097e-02\n8              Hepatitis B  1.072711e-03\n9                 Measles   4.929543e-02\n10                    BMI   1.427449e-02\n11      under-five deaths  -4.135472e-01\n12                   Polio  6.931133e-05\n13       Total expenditure  8.840194e-10\n14             Diphtheria  -3.112496e-02\n15                HIV/AIDS -8.123826e-02\n16                     GDP  6.851264e+00\n17              Population  9.096372e-01"
     },
     "metadata": {},
     "output_type": "display_data"
    }
   ],
   "source": [
    "model = make_model(train)\n",
    "# dropping rows from test dataset\n",
    "test_cleaned = drop_rows(test)\n",
    "x = test_cleaned.values[:,4:]\n",
    "y=test_cleaned.values[:,3]\n",
    "print(model.score(x,y))\n",
    "print(model.coef_)\n",
    "print(test_cleaned.axes)\n",
    "#for i in model.coef_:\n",
    "#    print(i)\n",
    "#for i in test_cleaned.axes[0]:\n",
    "#    print(i)\n",
    "data = []\n",
    "for coef,axes in zip(model.coef_,test_cleaned.axes[1]):\n",
    "    data.append([axes,coef])\n",
    "frame = pd.DataFrame(data,columns=[\"Axis Name\",\"Coefficient\"])\n",
    "display(frame)"
   ]
  },
  {
   "cell_type": "code",
   "execution_count": null,
   "metadata": {},
   "outputs": [],
   "source": []
  }
 ],
 "metadata": {
  "hide_input": false,
  "kernelspec": {
   "display_name": "Python 3",
   "language": "python",
   "name": "python3"
  },
  "language_info": {
   "codemirror_mode": {
    "name": "ipython",
    "version": 3
   },
   "file_extension": ".py",
   "mimetype": "text/x-python",
   "name": "python",
   "nbconvert_exporter": "python",
   "pygments_lexer": "ipython3",
   "version": "3.7.3-final"
  }
 },
 "nbformat": 4,
 "nbformat_minor": 4
}