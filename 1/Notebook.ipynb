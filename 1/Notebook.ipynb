{
 "cells": [
  {
   "cell_type": "markdown",
   "metadata": {},
   "source": [
    "# Problem 1\n",
    "## a. Using variable elimination, calculate the probability that a student who did well on the exam understands the material.P(+u|+e). Show your work.\n",
    "\n",
    "First grabbing i variable\n",
    "\n",
    "P(i)\n",
    "\n",
    "| I  | Probability |\n",
    "| -- | ----------- |\n",
    "| -i | 0.3         |\n",
    "| +i | 0.7         |\n",
    "\n",
    "Next Joining With T\n",
    "\n",
    "P(i,t)\n",
    "\n",
    "| I | T | Probability     |\n",
    "|---|---|-----------------|\n",
    "|+i | +t| 0.8*0.7 = 0.56  |\n",
    "| -i| +t| 0.5*0.3 = 0.16  |\n",
    "\n",
    "sum = 0.56+0.16 = 0.72\n",
    "\n",
    "Eliminiating I\n",
    "\n",
    "\n",
    "P(t)\n",
    "\n",
    "| T | Probability     |\n",
    "|---|-----------------|\n",
    "| +t| sum = 0.72      |\n",
    "| +t| 1-sum = 0.28    |\n",
    "\n",
    "\n",
    "\n",
    "Inspecting h\n",
    "\n",
    "P(h)\n",
    "\n",
    "| h  | Probability |\n",
    "| -- | ----------- |\n",
    "| -h | 0.4         |\n",
    "| +h | 0.6         |\n",
    "\n",
    "Joining with h and i\n",
    "\n",
    "P(u,i,h)\n",
    "\n",
    "| u | i | h | Probability         |\n",
    "|---|---|---|---------------------|\n",
    "|+u | +i| +h| 0.9*0.6*0.7 = 0.378 |\n",
    "|+u | +i| -h| 0.3*0.7*0.4 = 0.084 |\n",
    "|+u | -i| +h| 0.7*0.3*0.6 = 0.126 |\n",
    "|+u | -i| -h| 0.3*0.3*0.4 = 0.036 |\n",
    "\n",
    " sum = 0.378+0.084+0.126+0.036 = 0.624\n",
    "\n",
    "\n",
    "| u  | Probability |\n",
    "| -- | ----------- |\n",
    "| +u | sum = 0.624        |\n",
    "| -u | 1 - sum = 0.376         |\n",
    "\n",
    "Joining e with u and t\n",
    "\n",
    "P(e,t,u)\n",
    "\n",
    "| e | t | u | Probability             |\n",
    "|---|---|---|------------------------ |\n",
    "|+e | +t| +u| 0.9*0.72*0.624 = 0.4043 |\n",
    "|+e | +t| -u| 0.5*0.72*0.376 = 0.1354 |\n",
    "|+e | -t| +u| 0.7*0.28*0.624 = 0.1223 |\n",
    "|+e | -t| -u| 0.3*0.28*0.376 = 0.0316 |\n",
    "\n",
    "Eliminating t\n",
    "\n",
    "| e | u | Probability             |\n",
    "|---|---|------------------------ |\n",
    "|+e | +u| P(+e,+t,+u)+P(+e,-t,+u) = (0.4043 + 0.1223) = 0.5266 |\n",
    "|+e | -u| P(+e,+t,-u)+P(+e,-t,-u) = (0.1354+0.0316) = 0.167 |\n",
    "\n",
    "Normalizing e\n",
    "\n",
    "| e | Probability             |\n",
    "|---|------------------------ |\n",
    "|+e|+u | P(+e,+u)/P(+u) = 0.5266/0.624 = 0.844 |\n",
    "\n",
    "\n",
    "\n",
    "---------------------\n",
    "\n",
    "CORRECT TRASH: \n",
    "Eliminiating U\n",
    "\n",
    "P(t)\n",
    "\n",
    "| T | Probability     |\n",
    "|---|-----------------|\n",
    "| +t| sum = 0.72      |\n",
    "| +t| 1-sum = 0.28    |\n",
    " \n",
    "P(i,h)\n",
    "\n",
    "| i | h | Probability           |\n",
    "|---|---|-----------------------|\n",
    "| +i| +h| 0.378/0.624 = 0.60577 |\n",
    "| +i| -h| 0.084/0.624 = 0.13461 |\n",
    "| -i| +h| 0.126/0.624 = 0.20192 |\n",
    "| -i| -h| 0.036/0.624 = 0.05769 |\n",
    "\n",
    "P(i)\n",
    "\n",
    "| I | Probability |\n",
    "|---|-------------|\n",
    "|+i |0.56/0.72 = 0.77778  |\n",
    "| -i| .16/0.72 = 0.22222  |\n",
    "\n",
    "-------------------\n",
    "\n",
    "## b. Given the Bayesian network, are T and U independent? Why\n",
    "T and U are not independent because they both depend on i.\n",
    "## c. Are I and H conditionally independent given E? Why\n",
    "I and H are not conditionally independent because I depends on H.\n",
    "## d. Are E and H conditionally independent given U? Why\n",
    "\n",
    "E and H are not conditionally independent given U because H is a parent of U and E is a parent of U.\n",
    "\n",
    "## e. Are T and H independent? Why\n",
    "    T and H are independent because they do not share a parent."
   ]
  },
  {
   "cell_type": "markdown",
   "metadata": {},
   "source": [
    "# Problem 2"
   ]
  },
  {
   "cell_type": "code",
   "execution_count": 1,
   "metadata": {},
   "outputs": [
    {
     "data": {
      "text/html": "<div>\n<style scoped>\n    .dataframe tbody tr th:only-of-type {\n        vertical-align: middle;\n    }\n\n    .dataframe tbody tr th {\n        vertical-align: top;\n    }\n\n    .dataframe thead th {\n        text-align: right;\n    }\n</style>\n<table border=\"1\" class=\"dataframe\">\n  <thead>\n    <tr style=\"text-align: right;\">\n      <th></th>\n      <th>Year</th>\n      <th>Life expectancy</th>\n      <th>Adult Mortality</th>\n      <th>infant deaths</th>\n      <th>Alcohol</th>\n      <th>percentage expenditure</th>\n      <th>Hepatitis B</th>\n      <th>Measles</th>\n      <th>BMI</th>\n      <th>under-five deaths</th>\n      <th>Polio</th>\n      <th>Total expenditure</th>\n      <th>Diphtheria</th>\n      <th>HIV/AIDS</th>\n      <th>GDP</th>\n      <th>Population</th>\n      <th>thinness  1-19 years</th>\n      <th>thinness 5-9 years</th>\n      <th>Income composition of resources</th>\n      <th>Schooling</th>\n    </tr>\n  </thead>\n  <tbody>\n    <tr>\n      <th>count</th>\n      <td>2938.000000</td>\n      <td>2928.000000</td>\n      <td>2928.000000</td>\n      <td>2938.000000</td>\n      <td>2744.000000</td>\n      <td>2938.000000</td>\n      <td>2385.000000</td>\n      <td>2938.000000</td>\n      <td>2904.000000</td>\n      <td>2938.000000</td>\n      <td>2919.000000</td>\n      <td>2712.00000</td>\n      <td>2919.000000</td>\n      <td>2938.000000</td>\n      <td>2490.000000</td>\n      <td>2.286000e+03</td>\n      <td>2904.000000</td>\n      <td>2904.000000</td>\n      <td>2771.000000</td>\n      <td>2775.000000</td>\n    </tr>\n    <tr>\n      <th>mean</th>\n      <td>2007.518720</td>\n      <td>69.224932</td>\n      <td>164.796448</td>\n      <td>30.303948</td>\n      <td>4.602861</td>\n      <td>738.251295</td>\n      <td>80.940461</td>\n      <td>2419.592240</td>\n      <td>38.321247</td>\n      <td>42.035739</td>\n      <td>82.550188</td>\n      <td>5.93819</td>\n      <td>82.324084</td>\n      <td>1.742103</td>\n      <td>7483.158469</td>\n      <td>1.275338e+07</td>\n      <td>4.839704</td>\n      <td>4.870317</td>\n      <td>0.627551</td>\n      <td>11.992793</td>\n    </tr>\n    <tr>\n      <th>std</th>\n      <td>4.613841</td>\n      <td>9.523867</td>\n      <td>124.292079</td>\n      <td>117.926501</td>\n      <td>4.052413</td>\n      <td>1987.914858</td>\n      <td>25.070016</td>\n      <td>11467.272489</td>\n      <td>20.044034</td>\n      <td>160.445548</td>\n      <td>23.428046</td>\n      <td>2.49832</td>\n      <td>23.716912</td>\n      <td>5.077785</td>\n      <td>14270.169342</td>\n      <td>6.101210e+07</td>\n      <td>4.420195</td>\n      <td>4.508882</td>\n      <td>0.210904</td>\n      <td>3.358920</td>\n    </tr>\n    <tr>\n      <th>min</th>\n      <td>2000.000000</td>\n      <td>36.300000</td>\n      <td>1.000000</td>\n      <td>0.000000</td>\n      <td>0.010000</td>\n      <td>0.000000</td>\n      <td>1.000000</td>\n      <td>0.000000</td>\n      <td>1.000000</td>\n      <td>0.000000</td>\n      <td>3.000000</td>\n      <td>0.37000</td>\n      <td>2.000000</td>\n      <td>0.100000</td>\n      <td>1.681350</td>\n      <td>3.400000e+01</td>\n      <td>0.100000</td>\n      <td>0.100000</td>\n      <td>0.000000</td>\n      <td>0.000000</td>\n    </tr>\n    <tr>\n      <th>25%</th>\n      <td>2004.000000</td>\n      <td>63.100000</td>\n      <td>74.000000</td>\n      <td>0.000000</td>\n      <td>0.877500</td>\n      <td>4.685343</td>\n      <td>77.000000</td>\n      <td>0.000000</td>\n      <td>19.300000</td>\n      <td>0.000000</td>\n      <td>78.000000</td>\n      <td>4.26000</td>\n      <td>78.000000</td>\n      <td>0.100000</td>\n      <td>463.935626</td>\n      <td>1.957932e+05</td>\n      <td>1.600000</td>\n      <td>1.500000</td>\n      <td>0.493000</td>\n      <td>10.100000</td>\n    </tr>\n    <tr>\n      <th>50%</th>\n      <td>2008.000000</td>\n      <td>72.100000</td>\n      <td>144.000000</td>\n      <td>3.000000</td>\n      <td>3.755000</td>\n      <td>64.912906</td>\n      <td>92.000000</td>\n      <td>17.000000</td>\n      <td>43.500000</td>\n      <td>4.000000</td>\n      <td>93.000000</td>\n      <td>5.75500</td>\n      <td>93.000000</td>\n      <td>0.100000</td>\n      <td>1766.947595</td>\n      <td>1.386542e+06</td>\n      <td>3.300000</td>\n      <td>3.300000</td>\n      <td>0.677000</td>\n      <td>12.300000</td>\n    </tr>\n    <tr>\n      <th>75%</th>\n      <td>2012.000000</td>\n      <td>75.700000</td>\n      <td>228.000000</td>\n      <td>22.000000</td>\n      <td>7.702500</td>\n      <td>441.534144</td>\n      <td>97.000000</td>\n      <td>360.250000</td>\n      <td>56.200000</td>\n      <td>28.000000</td>\n      <td>97.000000</td>\n      <td>7.49250</td>\n      <td>97.000000</td>\n      <td>0.800000</td>\n      <td>5910.806335</td>\n      <td>7.420359e+06</td>\n      <td>7.200000</td>\n      <td>7.200000</td>\n      <td>0.779000</td>\n      <td>14.300000</td>\n    </tr>\n    <tr>\n      <th>max</th>\n      <td>2015.000000</td>\n      <td>89.000000</td>\n      <td>723.000000</td>\n      <td>1800.000000</td>\n      <td>17.870000</td>\n      <td>19479.911610</td>\n      <td>99.000000</td>\n      <td>212183.000000</td>\n      <td>87.300000</td>\n      <td>2500.000000</td>\n      <td>99.000000</td>\n      <td>17.60000</td>\n      <td>99.000000</td>\n      <td>50.600000</td>\n      <td>119172.741800</td>\n      <td>1.293859e+09</td>\n      <td>27.700000</td>\n      <td>28.600000</td>\n      <td>0.948000</td>\n      <td>20.700000</td>\n    </tr>\n  </tbody>\n</table>\n</div>",
      "text/plain": "              Year  Life expectancy   Adult Mortality  infant deaths  \\\ncount  2938.000000       2928.000000      2928.000000    2938.000000   \nmean   2007.518720         69.224932       164.796448      30.303948   \nstd       4.613841          9.523867       124.292079     117.926501   \nmin    2000.000000         36.300000         1.000000       0.000000   \n25%    2004.000000         63.100000        74.000000       0.000000   \n50%    2008.000000         72.100000       144.000000       3.000000   \n75%    2012.000000         75.700000       228.000000      22.000000   \nmax    2015.000000         89.000000       723.000000    1800.000000   \n\n           Alcohol  percentage expenditure  Hepatitis B       Measles   \\\ncount  2744.000000             2938.000000  2385.000000    2938.000000   \nmean      4.602861              738.251295    80.940461    2419.592240   \nstd       4.052413             1987.914858    25.070016   11467.272489   \nmin       0.010000                0.000000     1.000000       0.000000   \n25%       0.877500                4.685343    77.000000       0.000000   \n50%       3.755000               64.912906    92.000000      17.000000   \n75%       7.702500              441.534144    97.000000     360.250000   \nmax      17.870000            19479.911610    99.000000  212183.000000   \n\n              BMI   under-five deaths         Polio  Total expenditure  \\\ncount  2904.000000         2938.000000  2919.000000         2712.00000   \nmean     38.321247           42.035739    82.550188            5.93819   \nstd      20.044034          160.445548    23.428046            2.49832   \nmin       1.000000            0.000000     3.000000            0.37000   \n25%      19.300000            0.000000    78.000000            4.26000   \n50%      43.500000            4.000000    93.000000            5.75500   \n75%      56.200000           28.000000    97.000000            7.49250   \nmax      87.300000         2500.000000    99.000000           17.60000   \n\n       Diphtheria      HIV/AIDS            GDP    Population  \\\ncount  2919.000000  2938.000000    2490.000000  2.286000e+03   \nmean     82.324084     1.742103    7483.158469  1.275338e+07   \nstd      23.716912     5.077785   14270.169342  6.101210e+07   \nmin       2.000000     0.100000       1.681350  3.400000e+01   \n25%      78.000000     0.100000     463.935626  1.957932e+05   \n50%      93.000000     0.100000    1766.947595  1.386542e+06   \n75%      97.000000     0.800000    5910.806335  7.420359e+06   \nmax      99.000000    50.600000  119172.741800  1.293859e+09   \n\n        thinness  1-19 years   thinness 5-9 years  \\\ncount            2904.000000          2904.000000   \nmean                4.839704             4.870317   \nstd                 4.420195             4.508882   \nmin                 0.100000             0.100000   \n25%                 1.600000             1.500000   \n50%                 3.300000             3.300000   \n75%                 7.200000             7.200000   \nmax                27.700000            28.600000   \n\n       Income composition of resources    Schooling  \ncount                      2771.000000  2775.000000  \nmean                          0.627551    11.992793  \nstd                           0.210904     3.358920  \nmin                           0.000000     0.000000  \n25%                           0.493000    10.100000  \n50%                           0.677000    12.300000  \n75%                           0.779000    14.300000  \nmax                           0.948000    20.700000  "
     },
     "execution_count": 1,
     "metadata": {},
     "output_type": "execute_result"
    }
   ],
   "source": [
    "import numpy as np\n",
    "import pandas as pd\n",
    "def warn(*args, **kwargs):\n",
    "    pass\n",
    "import warnings\n",
    "warnings.warn = warn\n",
    "from IPython.display import display, Markdown\n",
    "from sklearn.linear_model import LinearRegression,Ridge,Lasso\n",
    "from sklearn.model_selection import cross_val_score\n",
    "import statistics\n",
    "data = pd.read_csv(\"Life Expectancy Data.csv\")\n",
    "data.describe()\n"
   ]
  },
  {
   "cell_type": "markdown",
   "metadata": {},
   "source": [
    "## a. Divide the data into a training set and a testing set\n",
    "I am dividing the training set and testing set by selecting 25% of the data for training (with replacement) and 75% as the test data set.\n"
   ]
  },
  {
   "cell_type": "code",
   "execution_count": null,
   "metadata": {},
   "outputs": [],
   "source": []
  },
  {
   "cell_type": "code",
   "execution_count": 2,
   "metadata": {},
   "outputs": [],
   "source": [
    "train = data.sample(frac=0.80)\n",
    "test = data.sample(frac=0.20)"
   ]
  },
  {
   "cell_type": "markdown",
   "metadata": {},
   "source": [
    "## b. Using your training set, determine which variables are actually affecting the life expectancy.How did you arrive at that conclusion?"
   ]
  },
  {
   "cell_type": "code",
   "execution_count": 3,
   "metadata": {},
   "outputs": [
    {
     "data": {
      "text/html": "<div>\n<style scoped>\n    .dataframe tbody tr th:only-of-type {\n        vertical-align: middle;\n    }\n\n    .dataframe tbody tr th {\n        vertical-align: top;\n    }\n\n    .dataframe thead th {\n        text-align: right;\n    }\n</style>\n<table border=\"1\" class=\"dataframe\">\n  <thead>\n    <tr style=\"text-align: right;\">\n      <th></th>\n      <th>measure_name</th>\n      <th>r squared</th>\n    </tr>\n  </thead>\n  <tbody>\n    <tr>\n      <th>0</th>\n      <td>Adult Mortality</td>\n      <td>0.493568</td>\n    </tr>\n    <tr>\n      <th>1</th>\n      <td>infant deaths</td>\n      <td>0.038544</td>\n    </tr>\n    <tr>\n      <th>2</th>\n      <td>Alcohol</td>\n      <td>0.155512</td>\n    </tr>\n    <tr>\n      <th>3</th>\n      <td>percentage expenditure</td>\n      <td>0.143992</td>\n    </tr>\n    <tr>\n      <th>4</th>\n      <td>Hepatitis B</td>\n      <td>0.068134</td>\n    </tr>\n    <tr>\n      <th>5</th>\n      <td>Measles</td>\n      <td>0.025573</td>\n    </tr>\n    <tr>\n      <th>6</th>\n      <td>BMI</td>\n      <td>0.316045</td>\n    </tr>\n    <tr>\n      <th>7</th>\n      <td>under-five deaths</td>\n      <td>0.049707</td>\n    </tr>\n    <tr>\n      <th>8</th>\n      <td>Polio</td>\n      <td>0.219824</td>\n    </tr>\n    <tr>\n      <th>9</th>\n      <td>Total expenditure</td>\n      <td>0.047846</td>\n    </tr>\n    <tr>\n      <th>10</th>\n      <td>Diphtheria</td>\n      <td>0.234079</td>\n    </tr>\n    <tr>\n      <th>11</th>\n      <td>HIV/AIDS</td>\n      <td>0.322976</td>\n    </tr>\n    <tr>\n      <th>12</th>\n      <td>GDP</td>\n      <td>0.212865</td>\n    </tr>\n    <tr>\n      <th>13</th>\n      <td>Population</td>\n      <td>0.000415</td>\n    </tr>\n    <tr>\n      <th>14</th>\n      <td>thinness  1-19 years</td>\n      <td>0.221435</td>\n    </tr>\n    <tr>\n      <th>15</th>\n      <td>thinness 5-9 years</td>\n      <td>0.213974</td>\n    </tr>\n    <tr>\n      <th>16</th>\n      <td>Income composition of resources</td>\n      <td>0.517972</td>\n    </tr>\n    <tr>\n      <th>17</th>\n      <td>Schooling</td>\n      <td>0.550722</td>\n    </tr>\n  </tbody>\n</table>\n</div>",
      "text/plain": "                       measure_name  r squared\n0                   Adult Mortality   0.493568\n1                     infant deaths   0.038544\n2                           Alcohol   0.155512\n3            percentage expenditure   0.143992\n4                       Hepatitis B   0.068134\n5                          Measles    0.025573\n6                              BMI    0.316045\n7                under-five deaths    0.049707\n8                             Polio   0.219824\n9                 Total expenditure   0.047846\n10                      Diphtheria    0.234079\n11                         HIV/AIDS   0.322976\n12                              GDP   0.212865\n13                       Population   0.000415\n14             thinness  1-19 years   0.221435\n15               thinness 5-9 years   0.213974\n16  Income composition of resources   0.517972\n17                        Schooling   0.550722"
     },
     "execution_count": 3,
     "metadata": {},
     "output_type": "execute_result"
    }
   ],
   "source": [
    "# To find correlation of each variable perform linear regression in relation to each variable\n",
    "def print_col_correlations(data):\n",
    "    filtered = data.values[:,:]\n",
    "    filtered=filtered[:,4:]\n",
    "    i = 4\n",
    "    r_squared_data = []\n",
    "    for col in filtered.T:\n",
    "        col = col.astype(float)\n",
    "        col = np.array(col)\n",
    "\n",
    "        y =  data.values[:,3]\n",
    "\n",
    "        y = y.astype(float)\n",
    "        nans = np.isnan(y)\n",
    "        y = y[~nans]\n",
    "\n",
    "        col = col[~nans]\n",
    "\n",
    "        col_nans = np.isnan(col)\n",
    "        col=col[~col_nans]\n",
    "        y = y[~col_nans]\n",
    "        reg = LinearRegression().fit(col.reshape(-1,1), y)\n",
    "        #print(\"score for: \"+str(data.columns[i]))\n",
    "        score = reg.score(col.reshape(-1,1), y)\n",
    "        r_squared_data.append([data.columns[i],score])\n",
    "        i+=1\n",
    "    return pd.DataFrame(\n",
    "        r_squared_data,columns=[\"measure_name\",\"r squared\"])\n",
    "print_col_correlations(train)\n"
   ]
  },
  {
   "cell_type": "markdown",
   "metadata": {},
   "source": [
    "Infant mortality ,Hepatitis B, Measles, under-five deaths, Total expenditure and Population\thave low correlation with life expectancy. Therefore they will be removed from the analysis. I arrived at that conclusion by finding the linear correlation between the variable and life expectancy. The r^2 values are shown above. The measures with low r^2 values were dropped. "
   ]
  },
  {
   "cell_type": "code",
   "execution_count": 4,
   "metadata": {},
   "outputs": [
    {
     "data": {
      "text/plain": "LinearRegression(copy_X=True, fit_intercept=True, n_jobs=None, normalize=False)"
     },
     "execution_count": 4,
     "metadata": {},
     "output_type": "execute_result"
    }
   ],
   "source": [
    "def drop_rows(data):\n",
    "    data = data.dropna()\n",
    "    data.drop('infant deaths',1)\n",
    "    data.drop('Hepatitis B',1)\n",
    "    data.drop('Measles ',1)\n",
    "    data.drop('under-five deaths ',1)\n",
    "    data.drop('Total expenditure',1)\n",
    "    data.drop('Population',1)\n",
    "    return data\n",
    "def make_model(data,normalize=False):\n",
    "    \n",
    "    data = drop_rows(data)\n",
    "    life_expect = data.values[:,3]\n",
    "    #print(life_expect)\n",
    "    reg = LinearRegression(normalize=normalize).fit(data.values[:,4:], life_expect)\n",
    "    score = reg.score(data.values[:,4:], life_expect)\n",
    "    return reg\n",
    "\n",
    "make_model(train)\n"
   ]
  },
  {
   "cell_type": "markdown",
   "metadata": {},
   "source": [
    "# Evaluate how well does your model predict life expectancy\n"
   ]
  },
  {
   "cell_type": "code",
   "execution_count": null,
   "metadata": {},
   "outputs": [],
   "source": []
  },
  {
   "cell_type": "code",
   "execution_count": 5,
   "metadata": {},
   "outputs": [
    {
     "data": {
      "text/html": "<div>\n<style scoped>\n    .dataframe tbody tr th:only-of-type {\n        vertical-align: middle;\n    }\n\n    .dataframe tbody tr th {\n        vertical-align: top;\n    }\n\n    .dataframe thead th {\n        text-align: right;\n    }\n</style>\n<table border=\"1\" class=\"dataframe\">\n  <thead>\n    <tr style=\"text-align: right;\">\n      <th></th>\n      <th>Axis Name</th>\n      <th>Coefficient</th>\n    </tr>\n  </thead>\n  <tbody>\n    <tr>\n      <th>0</th>\n      <td>Country</td>\n      <td>-1.686467e-02</td>\n    </tr>\n    <tr>\n      <th>1</th>\n      <td>Year</td>\n      <td>9.152962e-02</td>\n    </tr>\n    <tr>\n      <th>2</th>\n      <td>Status</td>\n      <td>-5.626335e-02</td>\n    </tr>\n    <tr>\n      <th>3</th>\n      <td>Life expectancy</td>\n      <td>4.923234e-04</td>\n    </tr>\n    <tr>\n      <th>4</th>\n      <td>Adult Mortality</td>\n      <td>-5.349895e-03</td>\n    </tr>\n    <tr>\n      <th>5</th>\n      <td>infant deaths</td>\n      <td>-7.154802e-06</td>\n    </tr>\n    <tr>\n      <th>6</th>\n      <td>Alcohol</td>\n      <td>2.947429e-02</td>\n    </tr>\n    <tr>\n      <th>7</th>\n      <td>percentage expenditure</td>\n      <td>-6.954232e-02</td>\n    </tr>\n    <tr>\n      <th>8</th>\n      <td>Hepatitis B</td>\n      <td>3.426278e-03</td>\n    </tr>\n    <tr>\n      <th>9</th>\n      <td>Measles</td>\n      <td>4.734186e-02</td>\n    </tr>\n    <tr>\n      <th>10</th>\n      <td>BMI</td>\n      <td>1.981540e-02</td>\n    </tr>\n    <tr>\n      <th>11</th>\n      <td>under-five deaths</td>\n      <td>-4.381628e-01</td>\n    </tr>\n    <tr>\n      <th>12</th>\n      <td>Polio</td>\n      <td>-9.639906e-07</td>\n    </tr>\n    <tr>\n      <th>13</th>\n      <td>Total expenditure</td>\n      <td>-1.613388e-10</td>\n    </tr>\n    <tr>\n      <th>14</th>\n      <td>Diphtheria</td>\n      <td>1.145229e-03</td>\n    </tr>\n    <tr>\n      <th>15</th>\n      <td>HIV/AIDS</td>\n      <td>-6.159918e-02</td>\n    </tr>\n    <tr>\n      <th>16</th>\n      <td>GDP</td>\n      <td>9.408198e+00</td>\n    </tr>\n    <tr>\n      <th>17</th>\n      <td>Population</td>\n      <td>9.017004e-01</td>\n    </tr>\n  </tbody>\n</table>\n</div>",
      "text/plain": "                 Axis Name   Coefficient\n0                  Country -1.686467e-02\n1                     Year  9.152962e-02\n2                   Status -5.626335e-02\n3         Life expectancy   4.923234e-04\n4          Adult Mortality -5.349895e-03\n5            infant deaths -7.154802e-06\n6                  Alcohol  2.947429e-02\n7   percentage expenditure -6.954232e-02\n8              Hepatitis B  3.426278e-03\n9                 Measles   4.734186e-02\n10                    BMI   1.981540e-02\n11      under-five deaths  -4.381628e-01\n12                   Polio -9.639906e-07\n13       Total expenditure -1.613388e-10\n14             Diphtheria   1.145229e-03\n15                HIV/AIDS -6.159918e-02\n16                     GDP  9.408198e+00\n17              Population  9.017004e-01"
     },
     "metadata": {},
     "output_type": "display_data"
    },
    {
     "data": {
      "text/html": "<div>\n<style scoped>\n    .dataframe tbody tr th:only-of-type {\n        vertical-align: middle;\n    }\n\n    .dataframe tbody tr th {\n        vertical-align: top;\n    }\n\n    .dataframe thead th {\n        text-align: right;\n    }\n</style>\n<table border=\"1\" class=\"dataframe\">\n  <thead>\n    <tr style=\"text-align: right;\">\n      <th></th>\n      <th>Country</th>\n      <th>Standard Deviation</th>\n    </tr>\n  </thead>\n  <tbody>\n    <tr>\n      <th>0</th>\n      <td>Germany</td>\n      <td>4.598596</td>\n    </tr>\n    <tr>\n      <th>1</th>\n      <td>Kazakhstan</td>\n      <td>0.894253</td>\n    </tr>\n    <tr>\n      <th>2</th>\n      <td>Comoros</td>\n      <td>3.149224</td>\n    </tr>\n    <tr>\n      <th>3</th>\n      <td>Thailand</td>\n      <td>0.333583</td>\n    </tr>\n    <tr>\n      <th>4</th>\n      <td>Nigeria</td>\n      <td>2.061426</td>\n    </tr>\n    <tr>\n      <th>...</th>\n      <td>...</td>\n      <td>...</td>\n    </tr>\n    <tr>\n      <th>120</th>\n      <td>Russian Federation</td>\n      <td>0.000000</td>\n    </tr>\n    <tr>\n      <th>121</th>\n      <td>Maldives</td>\n      <td>1.575565</td>\n    </tr>\n    <tr>\n      <th>122</th>\n      <td>Netherlands</td>\n      <td>0.000000</td>\n    </tr>\n    <tr>\n      <th>123</th>\n      <td>India</td>\n      <td>0.000000</td>\n    </tr>\n    <tr>\n      <th>124</th>\n      <td>Turkmenistan</td>\n      <td>0.248886</td>\n    </tr>\n  </tbody>\n</table>\n<p>125 rows × 2 columns</p>\n</div>",
      "text/plain": "                Country  Standard Deviation\n0               Germany            4.598596\n1            Kazakhstan            0.894253\n2               Comoros            3.149224\n3              Thailand            0.333583\n4               Nigeria            2.061426\n..                  ...                 ...\n120  Russian Federation            0.000000\n121            Maldives            1.575565\n122         Netherlands            0.000000\n123               India            0.000000\n124        Turkmenistan            0.248886\n\n[125 rows x 2 columns]"
     },
     "metadata": {},
     "output_type": "display_data"
    }
   ],
   "source": [
    "def eval_model(model,train):\n",
    "\n",
    "    # dropping rows from test dataset\n",
    "    test_cleaned = drop_rows(test)\n",
    "    x = test_cleaned.values[:,4:]\n",
    "    y=test_cleaned.values[:,3]\n",
    "    #for i in model.coef_:\n",
    "    #    print(i)\n",
    "    #for i in test_cleaned.axes[0]:\n",
    "    #    print(i)\n",
    "    data = []\n",
    "    try:\n",
    "        for coef,axes in zip(model.coef_,test_cleaned.axes[1]):\n",
    "            data.append([axes,coef])\n",
    "        frame = pd.DataFrame(data,columns=[\"Axis Name\",\"Coefficient\"])\n",
    "        display(frame)\n",
    "    except:\n",
    "        a=0\n",
    "\n",
    "    countries = {}\n",
    "    for row in test_cleaned.values:\n",
    "        #print(row[0])\n",
    "        #print(row[4:])\n",
    "        prediction = model.predict(row[4:].reshape(1, -1))[0]\n",
    "        actual = row[3]\n",
    "        err = prediction-actual\n",
    "        #print(repr(err))\n",
    "        try:\n",
    "            countries[row[0]].append(err)\n",
    "        except:\n",
    "            countries[row[0]]=[err]\n",
    "    #print(countries)\n",
    "    country_stdev_arr = []\n",
    "    for country in countries:\n",
    "        stdev=0\n",
    "        if(len(countries[country])>1):\n",
    "            stdev = statistics.stdev(countries[country])\n",
    "        #print(stdev)\n",
    "        country_stdev_arr.append([country,stdev])\n",
    "    display(pd.DataFrame(country_stdev_arr,columns=[\"Country\",\"Standard Deviation\"]))\n",
    "model = make_model(train)\n",
    "eval_model(model,train)"
   ]
  },
  {
   "cell_type": "markdown",
   "metadata": {},
   "source": [
    "The results show the standard deviation for the difference between real life expectancy and real life expectancy based on country. The error is small for most countries, this means that the model is fairly good at perdicting life expctancy. "
   ]
  },
  {
   "cell_type": "markdown",
   "metadata": {},
   "source": [
    "# Scikit-learn offers two other types of regression, Ridge and Lasso, whichhelp with reducing the magnitude of the coefficientsand reduces overfitting. Using regularization,determine if your model improves using the Ridge or Lasso regression. See which alphavalues provide the best results. Describe your results"
   ]
  },
  {
   "cell_type": "code",
   "execution_count": 6,
   "metadata": {},
   "outputs": [
    {
     "data": {
      "text/html": "<div>\n<style scoped>\n    .dataframe tbody tr th:only-of-type {\n        vertical-align: middle;\n    }\n\n    .dataframe tbody tr th {\n        vertical-align: top;\n    }\n\n    .dataframe thead th {\n        text-align: right;\n    }\n</style>\n<table border=\"1\" class=\"dataframe\">\n  <thead>\n    <tr style=\"text-align: right;\">\n      <th></th>\n      <th>Axis Name</th>\n      <th>Coefficient</th>\n    </tr>\n  </thead>\n  <tbody>\n    <tr>\n      <th>0</th>\n      <td>Country</td>\n      <td>-1.694534e-02</td>\n    </tr>\n    <tr>\n      <th>1</th>\n      <td>Year</td>\n      <td>9.208748e-02</td>\n    </tr>\n    <tr>\n      <th>2</th>\n      <td>Status</td>\n      <td>-5.291203e-02</td>\n    </tr>\n    <tr>\n      <th>3</th>\n      <td>Life expectancy</td>\n      <td>4.873822e-04</td>\n    </tr>\n    <tr>\n      <th>4</th>\n      <td>Adult Mortality</td>\n      <td>-5.413942e-03</td>\n    </tr>\n    <tr>\n      <th>5</th>\n      <td>infant deaths</td>\n      <td>-7.199995e-06</td>\n    </tr>\n    <tr>\n      <th>6</th>\n      <td>Alcohol</td>\n      <td>2.978174e-02</td>\n    </tr>\n    <tr>\n      <th>7</th>\n      <td>percentage expenditure</td>\n      <td>-6.991523e-02</td>\n    </tr>\n    <tr>\n      <th>8</th>\n      <td>Hepatitis B</td>\n      <td>3.358398e-03</td>\n    </tr>\n    <tr>\n      <th>9</th>\n      <td>Measles</td>\n      <td>4.664625e-02</td>\n    </tr>\n    <tr>\n      <th>10</th>\n      <td>BMI</td>\n      <td>2.016885e-02</td>\n    </tr>\n    <tr>\n      <th>11</th>\n      <td>under-five deaths</td>\n      <td>-4.386214e-01</td>\n    </tr>\n    <tr>\n      <th>12</th>\n      <td>Polio</td>\n      <td>3.367919e-07</td>\n    </tr>\n    <tr>\n      <th>13</th>\n      <td>Total expenditure</td>\n      <td>-1.728377e-10</td>\n    </tr>\n    <tr>\n      <th>14</th>\n      <td>Diphtheria</td>\n      <td>3.673480e-05</td>\n    </tr>\n    <tr>\n      <th>15</th>\n      <td>HIV/AIDS</td>\n      <td>-6.222272e-02</td>\n    </tr>\n    <tr>\n      <th>16</th>\n      <td>GDP</td>\n      <td>8.845763e+00</td>\n    </tr>\n    <tr>\n      <th>17</th>\n      <td>Population</td>\n      <td>9.219358e-01</td>\n    </tr>\n  </tbody>\n</table>\n</div>",
      "text/plain": "                 Axis Name   Coefficient\n0                  Country -1.694534e-02\n1                     Year  9.208748e-02\n2                   Status -5.291203e-02\n3         Life expectancy   4.873822e-04\n4          Adult Mortality -5.413942e-03\n5            infant deaths -7.199995e-06\n6                  Alcohol  2.978174e-02\n7   percentage expenditure -6.991523e-02\n8              Hepatitis B  3.358398e-03\n9                 Measles   4.664625e-02\n10                    BMI   2.016885e-02\n11      under-five deaths  -4.386214e-01\n12                   Polio  3.367919e-07\n13       Total expenditure -1.728377e-10\n14             Diphtheria   3.673480e-05\n15                HIV/AIDS -6.222272e-02\n16                     GDP  8.845763e+00\n17              Population  9.219358e-01"
     },
     "metadata": {},
     "output_type": "display_data"
    },
    {
     "data": {
      "text/html": "<div>\n<style scoped>\n    .dataframe tbody tr th:only-of-type {\n        vertical-align: middle;\n    }\n\n    .dataframe tbody tr th {\n        vertical-align: top;\n    }\n\n    .dataframe thead th {\n        text-align: right;\n    }\n</style>\n<table border=\"1\" class=\"dataframe\">\n  <thead>\n    <tr style=\"text-align: right;\">\n      <th></th>\n      <th>Country</th>\n      <th>Standard Deviation</th>\n    </tr>\n  </thead>\n  <tbody>\n    <tr>\n      <th>0</th>\n      <td>Germany</td>\n      <td>4.615959</td>\n    </tr>\n    <tr>\n      <th>1</th>\n      <td>Kazakhstan</td>\n      <td>0.892289</td>\n    </tr>\n    <tr>\n      <th>2</th>\n      <td>Comoros</td>\n      <td>3.114546</td>\n    </tr>\n    <tr>\n      <th>3</th>\n      <td>Thailand</td>\n      <td>0.339905</td>\n    </tr>\n    <tr>\n      <th>4</th>\n      <td>Nigeria</td>\n      <td>2.085151</td>\n    </tr>\n    <tr>\n      <th>...</th>\n      <td>...</td>\n      <td>...</td>\n    </tr>\n    <tr>\n      <th>120</th>\n      <td>Russian Federation</td>\n      <td>0.000000</td>\n    </tr>\n    <tr>\n      <th>121</th>\n      <td>Maldives</td>\n      <td>1.600825</td>\n    </tr>\n    <tr>\n      <th>122</th>\n      <td>Netherlands</td>\n      <td>0.000000</td>\n    </tr>\n    <tr>\n      <th>123</th>\n      <td>India</td>\n      <td>0.000000</td>\n    </tr>\n    <tr>\n      <th>124</th>\n      <td>Turkmenistan</td>\n      <td>0.250294</td>\n    </tr>\n  </tbody>\n</table>\n<p>125 rows × 2 columns</p>\n</div>",
      "text/plain": "                Country  Standard Deviation\n0               Germany            4.615959\n1            Kazakhstan            0.892289\n2               Comoros            3.114546\n3              Thailand            0.339905\n4               Nigeria            2.085151\n..                  ...                 ...\n120  Russian Federation            0.000000\n121            Maldives            1.600825\n122         Netherlands            0.000000\n123               India            0.000000\n124        Turkmenistan            0.250294\n\n[125 rows x 2 columns]"
     },
     "metadata": {},
     "output_type": "display_data"
    }
   ],
   "source": [
    "def make_ridge(data,normalize=False,alpha=1.0):\n",
    "    \n",
    "    data = drop_rows(data)\n",
    "    life_expect = data.values[:,3]\n",
    "    #print(life_expect)\n",
    "    reg = Ridge(normalize=normalize,alpha=alpha).fit(data.values[:,4:], life_expect)\n",
    "    score = reg.score(data.values[:,4:], life_expect)\n",
    "    return reg,score\n",
    "ridge,score = make_ridge(train)\n",
    "eval_model(ridge,train)"
   ]
  },
  {
   "cell_type": "code",
   "execution_count": 7,
   "metadata": {},
   "outputs": [
    {
     "data": {
      "text/html": "<div>\n<style scoped>\n    .dataframe tbody tr th:only-of-type {\n        vertical-align: middle;\n    }\n\n    .dataframe tbody tr th {\n        vertical-align: top;\n    }\n\n    .dataframe thead th {\n        text-align: right;\n    }\n</style>\n<table border=\"1\" class=\"dataframe\">\n  <thead>\n    <tr style=\"text-align: right;\">\n      <th></th>\n      <th>Axis Name</th>\n      <th>Coefficient</th>\n    </tr>\n  </thead>\n  <tbody>\n    <tr>\n      <th>0</th>\n      <td>Country</td>\n      <td>-2.093965e-02</td>\n    </tr>\n    <tr>\n      <th>1</th>\n      <td>Year</td>\n      <td>7.738246e-02</td>\n    </tr>\n    <tr>\n      <th>2</th>\n      <td>Status</td>\n      <td>0.000000e+00</td>\n    </tr>\n    <tr>\n      <th>3</th>\n      <td>Life expectancy</td>\n      <td>3.274095e-04</td>\n    </tr>\n    <tr>\n      <th>4</th>\n      <td>Adult Mortality</td>\n      <td>-2.113510e-03</td>\n    </tr>\n    <tr>\n      <th>5</th>\n      <td>infant deaths</td>\n      <td>-3.433943e-07</td>\n    </tr>\n    <tr>\n      <th>6</th>\n      <td>Alcohol</td>\n      <td>4.815777e-02</td>\n    </tr>\n    <tr>\n      <th>7</th>\n      <td>percentage expenditure</td>\n      <td>-5.977957e-02</td>\n    </tr>\n    <tr>\n      <th>8</th>\n      <td>Hepatitis B</td>\n      <td>4.452620e-03</td>\n    </tr>\n    <tr>\n      <th>9</th>\n      <td>Measles</td>\n      <td>0.000000e+00</td>\n    </tr>\n    <tr>\n      <th>10</th>\n      <td>BMI</td>\n      <td>2.724587e-02</td>\n    </tr>\n    <tr>\n      <th>11</th>\n      <td>under-five deaths</td>\n      <td>-4.041327e-01</td>\n    </tr>\n    <tr>\n      <th>12</th>\n      <td>Polio</td>\n      <td>5.491584e-05</td>\n    </tr>\n    <tr>\n      <th>13</th>\n      <td>Total expenditure</td>\n      <td>1.020098e-09</td>\n    </tr>\n    <tr>\n      <th>14</th>\n      <td>Diphtheria</td>\n      <td>-1.181958e-02</td>\n    </tr>\n    <tr>\n      <th>15</th>\n      <td>HIV/AIDS</td>\n      <td>-1.749405e-02</td>\n    </tr>\n    <tr>\n      <th>16</th>\n      <td>GDP</td>\n      <td>0.000000e+00</td>\n    </tr>\n    <tr>\n      <th>17</th>\n      <td>Population</td>\n      <td>1.018444e+00</td>\n    </tr>\n  </tbody>\n</table>\n</div>",
      "text/plain": "                 Axis Name   Coefficient\n0                  Country -2.093965e-02\n1                     Year  7.738246e-02\n2                   Status  0.000000e+00\n3         Life expectancy   3.274095e-04\n4          Adult Mortality -2.113510e-03\n5            infant deaths -3.433943e-07\n6                  Alcohol  4.815777e-02\n7   percentage expenditure -5.977957e-02\n8              Hepatitis B  4.452620e-03\n9                 Measles   0.000000e+00\n10                    BMI   2.724587e-02\n11      under-five deaths  -4.041327e-01\n12                   Polio  5.491584e-05\n13       Total expenditure  1.020098e-09\n14             Diphtheria  -1.181958e-02\n15                HIV/AIDS -1.749405e-02\n16                     GDP  0.000000e+00\n17              Population  1.018444e+00"
     },
     "metadata": {},
     "output_type": "display_data"
    },
    {
     "data": {
      "text/html": "<div>\n<style scoped>\n    .dataframe tbody tr th:only-of-type {\n        vertical-align: middle;\n    }\n\n    .dataframe tbody tr th {\n        vertical-align: top;\n    }\n\n    .dataframe thead th {\n        text-align: right;\n    }\n</style>\n<table border=\"1\" class=\"dataframe\">\n  <thead>\n    <tr style=\"text-align: right;\">\n      <th></th>\n      <th>Country</th>\n      <th>Standard Deviation</th>\n    </tr>\n  </thead>\n  <tbody>\n    <tr>\n      <th>0</th>\n      <td>Germany</td>\n      <td>5.491090</td>\n    </tr>\n    <tr>\n      <th>1</th>\n      <td>Kazakhstan</td>\n      <td>0.677213</td>\n    </tr>\n    <tr>\n      <th>2</th>\n      <td>Comoros</td>\n      <td>3.209373</td>\n    </tr>\n    <tr>\n      <th>3</th>\n      <td>Thailand</td>\n      <td>0.605627</td>\n    </tr>\n    <tr>\n      <th>4</th>\n      <td>Nigeria</td>\n      <td>1.993641</td>\n    </tr>\n    <tr>\n      <th>...</th>\n      <td>...</td>\n      <td>...</td>\n    </tr>\n    <tr>\n      <th>120</th>\n      <td>Russian Federation</td>\n      <td>0.000000</td>\n    </tr>\n    <tr>\n      <th>121</th>\n      <td>Maldives</td>\n      <td>1.964709</td>\n    </tr>\n    <tr>\n      <th>122</th>\n      <td>Netherlands</td>\n      <td>0.000000</td>\n    </tr>\n    <tr>\n      <th>123</th>\n      <td>India</td>\n      <td>0.000000</td>\n    </tr>\n    <tr>\n      <th>124</th>\n      <td>Turkmenistan</td>\n      <td>0.288105</td>\n    </tr>\n  </tbody>\n</table>\n<p>125 rows × 2 columns</p>\n</div>",
      "text/plain": "                Country  Standard Deviation\n0               Germany            5.491090\n1            Kazakhstan            0.677213\n2               Comoros            3.209373\n3              Thailand            0.605627\n4               Nigeria            1.993641\n..                  ...                 ...\n120  Russian Federation            0.000000\n121            Maldives            1.964709\n122         Netherlands            0.000000\n123               India            0.000000\n124        Turkmenistan            0.288105\n\n[125 rows x 2 columns]"
     },
     "metadata": {},
     "output_type": "display_data"
    }
   ],
   "source": [
    "def make_lasso(data,normalize=False,alpha=1.0):\n",
    "    data = drop_rows(data)\n",
    "    life_expect = data.values[:,3]\n",
    "    #print(life_expect)\n",
    "    reg = Lasso(normalize=normalize,alpha=alpha).fit(data.values[:,4:],\n",
    "        life_expect)\n",
    "    score = reg.score(data.values[:,4:], life_expect)\n",
    "    return reg,score\n",
    "lasso,score = make_lasso(train)\n",
    "eval_model(lasso,train)"
   ]
  },
  {
   "cell_type": "markdown",
   "metadata": {},
   "source": [
    "## Tuning alpha"
   ]
  },
  {
   "cell_type": "code",
   "execution_count": 8,
   "metadata": {},
   "outputs": [
    {
     "data": {
      "text/markdown": "### Max Lasso Alpha: 0.1",
      "text/plain": "<IPython.core.display.Markdown object>"
     },
     "metadata": {},
     "output_type": "display_data"
    },
    {
     "data": {
      "text/markdown": "### Max Ridge Alpha: 0.1",
      "text/plain": "<IPython.core.display.Markdown object>"
     },
     "metadata": {},
     "output_type": "display_data"
    }
   ],
   "source": [
    "max_lasso = 0\n",
    "max_lasso_a=0\n",
    "best_lasso=\"\"\n",
    "max_ridge = 0\n",
    "max_ridge_a=0\n",
    "best_ridge=\"\"\n",
    "for a_int in range(1,100,1):\n",
    "    a= (float (a_int))/10.0\n",
    "    lasso_model,lasso_score=make_lasso(train,alpha=a)\n",
    "    if(lasso_score>max_lasso):\n",
    "        max_lasso=lasso_score\n",
    "        max_lasso_a=a\n",
    "        best_lasso=lasso_model\n",
    "    ridge_model,ridge_score=make_ridge(train,alpha=a)\n",
    "    if(ridge_score>max_ridge):\n",
    "        max_ridge=ridge_score\n",
    "        max_ridge_a=a\n",
    "        best_ridge=ridge_model\n",
    "display(Markdown(\"### Max Lasso Alpha: \"+str(max_lasso_a)))\n",
    "display(Markdown(\"### Max Ridge Alpha: \"+str(max_ridge_a)))"
   ]
  },
  {
   "cell_type": "markdown",
   "metadata": {},
   "source": [
    "## e. Cross validate your model(you can use Scikit’s crossvalidation feature). Describe how yourcrossvalidated performance compares with best model. What does the cross validation results tell you about your model."
   ]
  },
  {
   "cell_type": "code",
   "execution_count": 9,
   "metadata": {},
   "outputs": [
    {
     "data": {
      "text/markdown": "## Mean Lasso Score: 0.82",
      "text/plain": "<IPython.core.display.Markdown object>"
     },
     "metadata": {},
     "output_type": "display_data"
    },
    {
     "data": {
      "text/markdown": "## Mean Ridge Score: 0.83",
      "text/plain": "<IPython.core.display.Markdown object>"
     },
     "metadata": {},
     "output_type": "display_data"
    }
   ],
   "source": [
    "def eval_cross_validate(model,train,model_name:str):\n",
    "    # dropping rows from test dataset\n",
    "    test_cleaned = drop_rows(train)\n",
    "    x = test_cleaned.values[:,4:]\n",
    "    y=test_cleaned.values[:,3]\n",
    "    #print(x)\n",
    "    #print(y)\n",
    "    scores = cross_val_score(model,x,y,cv=5)\n",
    "    display(Markdown(\"## Mean \"+model_name+ \" Score: \"+format(scores.mean(),\".2f\")))\n",
    "eval_cross_validate(best_lasso,train,\"Lasso\")\n",
    "eval_cross_validate(best_ridge,train,\"Ridge\")"
   ]
  },
  {
   "cell_type": "markdown",
   "metadata": {},
   "source": [
    "The cross validated scores are very simmilar to the scores generated when using a score on the entire dataset. This means that my test dataset is likely representitive of the population dataset. "
   ]
  }
 ],
 "metadata": {
  "hide_input": false,
  "kernelspec": {
   "display_name": "Python 3",
   "language": "python",
   "name": "python3"
  },
  "language_info": {
   "codemirror_mode": {
    "name": "ipython",
    "version": 3
   },
   "file_extension": ".py",
   "mimetype": "text/x-python",
   "name": "python",
   "nbconvert_exporter": "python",
   "pygments_lexer": "ipython3",
   "version": "2.7.17-final"
  }
 },
 "nbformat": 4,
 "nbformat_minor": 4
}